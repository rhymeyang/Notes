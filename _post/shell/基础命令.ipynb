{
 "cells": [
  {
   "cell_type": "markdown",
   "metadata": {},
   "source": [
    "<h1 id=\"tocheading\">shell 基础命令</h1>\n",
    "<div id=\"toc\"></div>\n"
   ]
  },
  {
   "cell_type": "markdown",
   "metadata": {},
   "source": [
    "# grep 命令中的正则表达式\n",
    "\n",
    "## 基础用法\n",
    "\n",
    "### 1. 匹配你要查找的内容\n",
    "\n",
    "    grep string filename\n",
    "    \n",
    "### 2. 匹配具体字符\n",
    "\n",
    "    grep '[vV]ivek' filename\n",
    "    \n",
    "在括号内的表达式中，在`[:`和`:]`中所附的字符类的名称：代表属于该类的所有字符的列表。标准字符类名称：\n",
    "\n",
    "+ `[:alnum:]` – 字母数字字符。\n",
    "+ `[:alpha:]` – 字母顺序\n",
    "+ `[:blank:]` – 空格和制表符。\n",
    "+ `[:digit:]` – 数字： '0 1 2 3 4 5 6 7 8 9'。\n",
    "+ `[:lower:]` – 小写字母：'a b c d e f'。\n",
    "+ `[:space:]` – 特殊字符：制表符，换行符，垂直制表符、换页，回车，和空间。\n",
    "+ `[:upper:]` – 大写字母：'A B C D E F G H I J K L M N O P Q R S T U V W X Y Z'。\n",
    "\n",
    "### 3. 使用通配符\n",
    "\n",
    "    grep '\\&lt;b.t\\&gt;' filename\n",
    "    \n",
    "    grep '192\\.168\\.1\\.254' /etc/hosts\n",
    "    \n",
    "## 深入探索 grep 高级查找模式\n",
    "\n",
    "### 1. 检索一个具有以 ‘-‘ 开头的的模式？\n",
    "\n",
    "使用 `-e` 选项搜索所有匹配 '–test–' 的结果。grep 会尝试把 '–test–' 作为一个选项解析：\n",
    "\n",
    "    grep -e '--test--' filename\n",
    "\n",
    "### 2. grep中使用 OR 的逻辑运算\n",
    "\n",
    "    grep -E 'word1|word2' filename\n",
    "    egrep 'word1|word2' filename\n",
    "    grep 'word1\\|word2' filename\n",
    "    \n",
    "### 3. grep中使用 AND 的逻辑运算\n",
    "\n",
    "    grep 'word1' filename | grep 'word2'\n",
    "    grep 'foo.*bar\\|word3.*word4' filename\n",
    "    \n",
    "### 4. 测试序列\n",
    "\n",
    "使用下面的语法测试一个字符在序列中的重复的次数：\n",
    "\n",
    "    {N}\n",
    "    {N,}\n",
    "    {min,max}\n",
    "  \n",
    "匹配包含两个字母 v 的字符串结果：\n",
    "\n",
    "    egrep \"v{2}\" filename\n",
    "    \n",
    "下面的例子中将检索文件内包含 'col' 和 'cool' 的字符串结果：\n",
    "\n",
    "    egrep 'co{1,2}l' filename\n",
    "\n",
    "\n",
    "下面的例子中将匹配至少含有3个字母 c 的结果：\n",
    "\n",
    "    egrep 'c{3,}' filename\n",
    "\n",
    "下面的示例将匹配 '91-1234567890' 格式的手机号码（即 '两位数字-十位数字'）\n",
    "\n",
    "    grep \"[[:digit:]]\\{2\\}[ -]\\?[[:digit:]]\\{10\\}\" filename\n",
    "    \n",
    "### 5. grep 的输出结果高亮标注\n",
    "\n",
    "使用下面例子的语法：\n",
    "\n",
    "    grep --color regex filename\n",
    "    \n",
    "### 6. 如何使 grep 的输出只显示匹配的部分而不是整行？\n",
    "\n",
    "使用下面例子的语法：\n",
    "\n",
    "    grep -o regex filename"
   ]
  },
  {
   "cell_type": "code",
   "execution_count": null,
   "metadata": {},
   "outputs": [],
   "source": []
  },
  {
   "cell_type": "code",
   "execution_count": null,
   "metadata": {},
   "outputs": [],
   "source": []
  },
  {
   "cell_type": "code",
   "execution_count": null,
   "metadata": {},
   "outputs": [],
   "source": []
  },
  {
   "cell_type": "code",
   "execution_count": null,
   "metadata": {},
   "outputs": [],
   "source": []
  },
  {
   "cell_type": "code",
   "execution_count": null,
   "metadata": {},
   "outputs": [],
   "source": []
  },
  {
   "cell_type": "code",
   "execution_count": 1,
   "metadata": {},
   "outputs": [
    {
     "data": {
      "application/javascript": [
       "$.getScript('https://kmahelona.github.io/ipython_notebook_goodies/ipython_notebook_toc.js')"
      ],
      "text/plain": [
       "<IPython.core.display.Javascript object>"
      ]
     },
     "metadata": {},
     "output_type": "display_data"
    }
   ],
   "source": [
    "%%javascript\n",
    "$.getScript('https://kmahelona.github.io/ipython_notebook_goodies/ipython_notebook_toc.js')"
   ]
  },
  {
   "cell_type": "code",
   "execution_count": null,
   "metadata": {},
   "outputs": [],
   "source": []
  }
 ],
 "metadata": {
  "kernelspec": {
   "display_name": "Python 3",
   "language": "python",
   "name": "python3"
  },
  "language_info": {
   "codemirror_mode": {
    "name": "ipython",
    "version": 3
   },
   "file_extension": ".py",
   "mimetype": "text/x-python",
   "name": "python",
   "nbconvert_exporter": "python",
   "pygments_lexer": "ipython3",
   "version": "3.6.4"
  }
 },
 "nbformat": 4,
 "nbformat_minor": 2
}
