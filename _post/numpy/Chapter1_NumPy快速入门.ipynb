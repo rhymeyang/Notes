{
 "cells": [
  {
   "cell_type": "markdown",
   "metadata": {},
   "source": [
    "Python数据分析基础教程：NumPy学习指南 第二版\n",
    "\n",
    "<h1 id=\"tocheading\">NumPy快速入门</h1>\n",
    "<div id=\"toc\"></div>\n",
    "\n",
    "\n",
    "## NumPy 源码\n",
    "\n",
    "    \n",
    "    git clone git://github.com/numpy/numpy.git numpy\n",
    "    python setup.py build\n",
    "    sudo python setup.py install --prefix /usr/local\n",
    "\n",
    ">需要编译器GCC, Python开发包(python-dev 或 python-devel)\n",
    "\n",
    "    pip install sympy\n",
    "    python的符号计算库"
   ]
  },
  {
   "cell_type": "markdown",
   "metadata": {},
   "source": [
    "## 数组对象\n",
    "\n",
    "NumPy数组在数值运算方面效率优于Python提供的list容器\n",
    "\n",
    "## 动手实践： 向量加法\n",
    "\n",
    "python3 中range都变成generate"
   ]
  },
  {
   "cell_type": "code",
   "execution_count": 9,
   "metadata": {},
   "outputs": [],
   "source": [
    "# 纯Python\n",
    "\n",
    "def pythonsum(n):\n",
    "    a = list(range(n))\n",
    "    b = list(range(n))\n",
    "    c = []\n",
    "\n",
    "    for i in range(len(a)):\n",
    "        a[i] = i ** 2\n",
    "        b[i] = i ** 3\n",
    "        c.append(a[i] + b[i])\n",
    "\n",
    "    return c"
   ]
  },
  {
   "cell_type": "code",
   "execution_count": 10,
   "metadata": {},
   "outputs": [
    {
     "data": {
      "text/plain": [
       "[0, 2, 12, 36, 80, 150, 252, 392, 576, 810]"
      ]
     },
     "execution_count": 10,
     "metadata": {},
     "output_type": "execute_result"
    }
   ],
   "source": [
    "pythonsum(10)"
   ]
  },
  {
   "cell_type": "code",
   "execution_count": 11,
   "metadata": {},
   "outputs": [],
   "source": [
    "# NumPy\n",
    "\n",
    "import numpy\n",
    "\n",
    "def numpysum(n):\n",
    "    a = numpy.arange(n) ** 2\n",
    "    b = numpy.arange(n) ** 3\n",
    "    c = a + b\n",
    "    return c"
   ]
  },
  {
   "cell_type": "code",
   "execution_count": 12,
   "metadata": {},
   "outputs": [
    {
     "data": {
      "text/plain": [
       "array([  0,   2,  12,  36,  80, 150, 252, 392, 576, 810])"
      ]
     },
     "execution_count": 12,
     "metadata": {},
     "output_type": "execute_result"
    }
   ],
   "source": [
    "numpysum(10)"
   ]
  },
  {
   "cell_type": "code",
   "execution_count": 13,
   "metadata": {},
   "outputs": [
    {
     "name": "stdout",
     "output_type": "stream",
     "text": [
      "524 µs ± 3.57 µs per loop (mean ± std. dev. of 7 runs, 1000 loops each)\n"
     ]
    }
   ],
   "source": [
    "%timeit pythonsum(1000)"
   ]
  },
  {
   "cell_type": "code",
   "execution_count": 14,
   "metadata": {},
   "outputs": [
    {
     "name": "stdout",
     "output_type": "stream",
     "text": [
      "6.96 µs ± 87.8 ns per loop (mean ± std. dev. of 7 runs, 100000 loops each)\n"
     ]
    }
   ],
   "source": [
    "%timeit numpysum(1000)"
   ]
  },
  {
   "cell_type": "code",
   "execution_count": null,
   "metadata": {},
   "outputs": [],
   "source": [
    "%%javascript\n",
    "$.getScript('https://kmahelona.github.io/ipython_notebook_goodies/ipython_notebook_toc.js')"
   ]
  }
 ],
 "metadata": {
  "kernelspec": {
   "display_name": "Python 3",
   "language": "python",
   "name": "python3"
  },
  "language_info": {
   "codemirror_mode": {
    "name": "ipython",
    "version": 3
   },
   "file_extension": ".py",
   "mimetype": "text/x-python",
   "name": "python",
   "nbconvert_exporter": "python",
   "pygments_lexer": "ipython3",
   "version": "3.6.4"
  }
 },
 "nbformat": 4,
 "nbformat_minor": 2
}
