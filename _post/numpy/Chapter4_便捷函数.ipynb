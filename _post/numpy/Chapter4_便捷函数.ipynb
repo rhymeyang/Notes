{
 "cells": [
  {
   "cell_type": "markdown",
   "metadata": {},
   "source": [
    "<h1 id=\"tocheading\">Chapter4 便捷函数</h1>\n",
    "<div id=\"toc\"></div>"
   ]
  },
  {
   "cell_type": "markdown",
   "metadata": {},
   "source": [
    "相关知识点\n",
    "\n",
    "+ np.cov 计算协方差\n",
    "+ np.polyfit 多项式拟合\n",
    "+ np.roots 求根\n",
    "+ np.polyder 求导\n",
    "+ np.polyval 多项式预测\n",
    "+ np.sign 判断符号\n",
    "    - `np.piecewise(arr, [arr <0, arr >0], [-1, 1])`\n",
    "+ np.vectorize 类似于python中map函数\n",
    "+ np.hanning 加权余弦窗函数\n",
    "    - 其他平滑函数:  hamming, blackman, bartlett, kaiser\n",
    "+ np.trim_zeros 去除 0 元素"
   ]
  },
  {
   "cell_type": "code",
   "execution_count": 202,
   "metadata": {},
   "outputs": [],
   "source": [
    "import numpy as np"
   ]
  },
  {
   "cell_type": "code",
   "execution_count": 203,
   "metadata": {},
   "outputs": [],
   "source": [
    "bhp_c,bhp_v = np.loadtxt('input/BHP.csv', delimiter=',', usecols=(6,7), unpack=True)\n",
    "vale_c,vale_v = np.loadtxt('input/VALE.csv', delimiter=',', usecols=(6,7), unpack=True)"
   ]
  },
  {
   "cell_type": "markdown",
   "metadata": {},
   "source": [
    "## 相关性分析\n",
    "\n",
    "+ cov 计算协方差 矩阵\n",
    "+ diagonal 查看对角线元素\n",
    "+ trace 矩阵的迹， 即对角线上元素之和\n",
    "\n",
    "\n",
    ">协方差矩阵中对角线上的元素并不相等，和相关系数矩阵不同\n",
    "\n",
    "\n",
    "两个向量的相关系数被定义为协方差除以各自标准差的乘积。\n",
    "\n",
    "\n",
    "$corr(a,b) = \\cfrac{cov(a,b)}{\\sigma _a \\cdot \\sigma _b}$"
   ]
  },
  {
   "cell_type": "code",
   "execution_count": 204,
   "metadata": {},
   "outputs": [],
   "source": [
    "# 收益率\n",
    "\n",
    "bhp_return = np.diff(np.log(bhp_c))\n",
    "vale_return = np.diff(np.log(vale_c))"
   ]
  },
  {
   "cell_type": "code",
   "execution_count": 205,
   "metadata": {},
   "outputs": [
    {
     "data": {
      "text/plain": [
       "array([[ 0.00028388,  0.00019942],\n",
       "       [ 0.00019942,  0.00030675]])"
      ]
     },
     "execution_count": 205,
     "metadata": {},
     "output_type": "execute_result"
    }
   ],
   "source": [
    "covariance = np.cov(bhp_return, vale_return)\n",
    "covariance"
   ]
  },
  {
   "cell_type": "code",
   "execution_count": 206,
   "metadata": {},
   "outputs": [
    {
     "data": {
      "text/plain": [
       "array([ 0.00028388,  0.00030675])"
      ]
     },
     "execution_count": 206,
     "metadata": {},
     "output_type": "execute_result"
    }
   ],
   "source": [
    "covariance.diagonal()"
   ]
  },
  {
   "cell_type": "code",
   "execution_count": 207,
   "metadata": {},
   "outputs": [
    {
     "data": {
      "text/plain": [
       "0.00059063218575060934"
      ]
     },
     "execution_count": 207,
     "metadata": {},
     "output_type": "execute_result"
    }
   ],
   "source": [
    "covariance.trace()"
   ]
  },
  {
   "cell_type": "code",
   "execution_count": 208,
   "metadata": {},
   "outputs": [
    {
     "data": {
      "text/plain": [
       "array([[ 0.99634533,  0.69993182],\n",
       "       [ 0.69993182,  1.07663884]])"
      ]
     },
     "execution_count": 208,
     "metadata": {},
     "output_type": "execute_result"
    }
   ],
   "source": [
    "covariance/(bhp_return.std() * vale_return.std())"
   ]
  },
  {
   "cell_type": "code",
   "execution_count": 209,
   "metadata": {},
   "outputs": [
    {
     "name": "stdout",
     "output_type": "stream",
     "text": [
      "correlation coefficient \n"
     ]
    },
    {
     "data": {
      "text/plain": [
       "array([[ 1.        ,  0.67579624],\n",
       "       [ 0.67579624,  1.        ]])"
      ]
     },
     "execution_count": 209,
     "metadata": {},
     "output_type": "execute_result"
    }
   ],
   "source": [
    "print(\"correlation coefficient \")\n",
    "np.corrcoef(bhp_return, vale_return)"
   ]
  },
  {
   "cell_type": "markdown",
   "metadata": {},
   "source": [
    "相关系数矩阵关于对角线对称，对角线元素为1，非计算得到， 0.67为相关BHP,VALE相关系数，价格相关性还是不够\n",
    "\n",
    "### 判断股票走势是否同步\n",
    "\n",
    "如不同步，可交易，等待同步"
   ]
  },
  {
   "cell_type": "code",
   "execution_count": 210,
   "metadata": {},
   "outputs": [
    {
     "data": {
      "text/plain": [
       "False"
      ]
     },
     "execution_count": 210,
     "metadata": {},
     "output_type": "execute_result"
    }
   ],
   "source": [
    "difference = bhp_c - vale_c\n",
    "avg = np.mean(difference)\n",
    "dev = np.std(difference)\n",
    "\n",
    "np.abs(difference[-1] - avg) > 2 * dev"
   ]
  },
  {
   "cell_type": "code",
   "execution_count": 211,
   "metadata": {},
   "outputs": [],
   "source": [
    "import matplotlib.pyplot as plt\n",
    "%matplotlib inline"
   ]
  },
  {
   "cell_type": "code",
   "execution_count": 212,
   "metadata": {},
   "outputs": [
    {
     "data": {
      "text/plain": [
       "[<matplotlib.lines.Line2D at 0x7fecad817e80>]"
      ]
     },
     "execution_count": 212,
     "metadata": {},
     "output_type": "execute_result"
    },
    {
     "data": {
      "image/png": "[encoded data removed]",
      "text/plain": [
       "<matplotlib.figure.Figure at 0x7fecad49cda0>"
      ]
     },
     "metadata": {},
     "output_type": "display_data"
    }
   ],
   "source": [
    "t = np.arange(len(bhp_return))\n",
    "\n",
    "plt.plot(t,bhp_return,lw=1)\n",
    "plt.plot(t, vale_return, lw=2)"
   ]
  },
  {
   "cell_type": "markdown",
   "metadata": {},
   "source": [
    "## 多项式\n",
    "\n",
    "### 多项式拟合"
   ]
  },
  {
   "cell_type": "code",
   "execution_count": 213,
   "metadata": {},
   "outputs": [],
   "source": [
    "bhp = np.loadtxt('input/BHP.csv', delimiter=',', usecols=(6,), unpack=True)\n",
    "vale = np.loadtxt('input/VALE.csv', delimiter=',', usecols=(6), unpack=True)\n",
    "t = np.arange(len(bhp))"
   ]
  },
  {
   "cell_type": "code",
   "execution_count": 214,
   "metadata": {},
   "outputs": [
    {
     "data": {
      "text/plain": [
       "array([  1.11655581e-03,  -5.28581762e-02,   5.80684638e-01,\n",
       "         5.79791202e+01])"
      ]
     },
     "execution_count": 214,
     "metadata": {},
     "output_type": "execute_result"
    }
   ],
   "source": [
    "N = 3\n",
    "poly = np.polyfit(t, bhp - vale, N)\n",
    "poly"
   ]
  },
  {
   "cell_type": "code",
   "execution_count": 215,
   "metadata": {},
   "outputs": [
    {
     "name": "stdout",
     "output_type": "stream",
     "text": [
      "预测下次值\n"
     ]
    },
    {
     "data": {
      "text/plain": [
       "57.974307608100688"
      ]
     },
     "execution_count": 215,
     "metadata": {},
     "output_type": "execute_result"
    }
   ],
   "source": [
    "print(\"预测下次值\")\n",
    "\n",
    "np.polyval(poly, t[-1] + 1)"
   ]
  },
  {
   "cell_type": "markdown",
   "metadata": {},
   "source": [
    "理想情况下BHP 和VALE 股票收盘价越小越好,极限情况下，差值可以在某个点为0.使用 roots 函数，找出拟合多项式函数什么时候可以到0"
   ]
  },
  {
   "cell_type": "code",
   "execution_count": 216,
   "metadata": {},
   "outputs": [
    {
     "name": "stdout",
     "output_type": "stream",
     "text": [
      "Roots\n"
     ]
    },
    {
     "data": {
      "text/plain": [
       "array([ 35.48624287+30.62717062j,  35.48624287-30.62717062j,\n",
       "       -23.63210575 +0.j        ])"
      ]
     },
     "execution_count": 216,
     "metadata": {},
     "output_type": "execute_result"
    }
   ],
   "source": [
    "print(\"Roots\")\n",
    "np.roots(poly)"
   ]
  },
  {
   "cell_type": "code",
   "execution_count": 217,
   "metadata": {},
   "outputs": [
    {
     "name": "stdout",
     "output_type": "stream",
     "text": [
      "多项式函数的导数依然是多项式\n",
      "导数为\n"
     ]
    },
    {
     "data": {
      "text/plain": [
       "array([ 0.00334967, -0.10571635,  0.58068464])"
      ]
     },
     "execution_count": 217,
     "metadata": {},
     "output_type": "execute_result"
    }
   ],
   "source": [
    "der = np.polyder(poly)\n",
    "\n",
    "print(\"多项式函数的导数依然是多项式\\n导数为\")\n",
    "der"
   ]
  },
  {
   "cell_type": "code",
   "execution_count": 218,
   "metadata": {},
   "outputs": [
    {
     "name": "stdout",
     "output_type": "stream",
     "text": [
      "导函数的根,即原多项式的极值点为\n"
     ]
    },
    {
     "data": {
      "text/plain": [
       "array([ 24.47820054,   7.08205278])"
      ]
     },
     "execution_count": 218,
     "metadata": {},
     "output_type": "execute_result"
    }
   ],
   "source": [
    "print(\"导函数的根,即原多项式的极值点为\")\n",
    "np.roots(der)"
   ]
  },
  {
   "cell_type": "code",
   "execution_count": 219,
   "metadata": {},
   "outputs": [
    {
     "name": "stdout",
     "output_type": "stream",
     "text": [
      "多项式函数值\n"
     ]
    },
    {
     "data": {
      "text/plain": [
       "array([ 57.97912023,  58.50806325,  58.93798925,  59.27559757,\n",
       "        59.52758754,  59.7006585 ,  59.80150977,  59.83684071,\n",
       "        59.81335064,  59.73773889,  59.6167048 ,  59.45694771,\n",
       "        59.26516696,  59.04806186,  58.81233177,  58.56467601,\n",
       "        58.31179393,  58.06038485,  57.81714811,  57.58878304,\n",
       "        57.38198898,  57.20346527,  57.05991124,  56.95802622,\n",
       "        56.90450955,  56.90606056,  56.96937859,  57.10116298,\n",
       "        57.30811305,  57.59692815])"
      ]
     },
     "execution_count": 219,
     "metadata": {},
     "output_type": "execute_result"
    }
   ],
   "source": [
    "print(\"多项式函数值\")\n",
    "vals = np.polyval(poly,t)\n",
    "vals"
   ]
  },
  {
   "cell_type": "code",
   "execution_count": 220,
   "metadata": {},
   "outputs": [
    {
     "name": "stdout",
     "output_type": "stream",
     "text": [
      "最大值：7\n",
      "最小值：24\n"
     ]
    }
   ],
   "source": [
    "print(\"最大值：{}\".format(np.argmax(vals)))\n",
    "print(\"最小值：{}\".format(np.argmin(vals)))"
   ]
  },
  {
   "cell_type": "code",
   "execution_count": 221,
   "metadata": {},
   "outputs": [
    {
     "data": {
      "text/plain": [
       "<matplotlib.legend.Legend at 0x7fecacb7f518>"
      ]
     },
     "execution_count": 221,
     "metadata": {},
     "output_type": "execute_result"
    },
    {
     "data": {
      "image/png": "[encoded data removed]",
      "text/plain": [
       "<matplotlib.figure.Figure at 0x7fecacc10080>"
      ]
     },
     "metadata": {},
     "output_type": "display_data"
    }
   ],
   "source": [
    "\n",
    "plt.plot(t,bhp - vale, label = \"actual diff\")\n",
    "plt.plot(t,vals, label = \"sim\")\n",
    "plt.legend(loc = 'best', shadow=True, fontsize = 'large')\n",
    "# vals.shape"
   ]
  },
  {
   "cell_type": "markdown",
   "metadata": {},
   "source": [
    "### 净成交额\n",
    "\n",
    "OBV"
   ]
  },
  {
   "cell_type": "code",
   "execution_count": 222,
   "metadata": {},
   "outputs": [],
   "source": [
    "c, v = np.loadtxt('input/BHP.csv', delimiter=',', usecols=(6,7), unpack=True)"
   ]
  },
  {
   "cell_type": "code",
   "execution_count": 223,
   "metadata": {},
   "outputs": [
    {
     "data": {
      "text/plain": [
       "array([ 1.92, -1.08, -1.26,  0.63, -1.54, -0.28,  0.25, -0.6 ,  2.15,\n",
       "        0.69, -1.33,  1.16,  1.59, -0.26, -1.29, -0.13, -2.12, -3.91,\n",
       "        1.28, -0.57, -2.07, -2.07,  2.5 ,  1.18,  1.03, -0.88,  1.31,\n",
       "        1.24, -0.59])"
      ]
     },
     "execution_count": 223,
     "metadata": {},
     "output_type": "execute_result"
    }
   ],
   "source": [
    "change = np.diff(c)\n",
    "change"
   ]
  },
  {
   "cell_type": "code",
   "execution_count": 224,
   "metadata": {},
   "outputs": [
    {
     "data": {
      "text/plain": [
       "array([ 1., -1., -1.,  1., -1., -1.,  1., -1.,  1.,  1., -1.,  1.,  1.,\n",
       "       -1., -1., -1., -1., -1.,  1., -1., -1., -1.,  1.,  1.,  1., -1.,\n",
       "        1.,  1., -1.])"
      ]
     },
     "execution_count": 224,
     "metadata": {},
     "output_type": "execute_result"
    }
   ],
   "source": [
    "signs = np.sign(change)\n",
    "signs"
   ]
  },
  {
   "cell_type": "code",
   "execution_count": 225,
   "metadata": {},
   "outputs": [
    {
     "data": {
      "text/plain": [
       "array([ 1., -1., -1.,  1., -1., -1.,  1., -1.,  1.,  1., -1.,  1.,  1.,\n",
       "       -1., -1., -1., -1., -1.,  1., -1., -1., -1.,  1.,  1.,  1., -1.,\n",
       "        1.,  1., -1.])"
      ]
     },
     "execution_count": 225,
     "metadata": {},
     "output_type": "execute_result"
    }
   ],
   "source": [
    "pieces = np.piecewise(change, [change <0, change >0], [-1, 1])\n",
    "pieces"
   ]
  },
  {
   "cell_type": "code",
   "execution_count": 226,
   "metadata": {},
   "outputs": [
    {
     "data": {
      "text/plain": [
       "True"
      ]
     },
     "execution_count": 226,
     "metadata": {},
     "output_type": "execute_result"
    }
   ],
   "source": [
    "np.array_equal(signs, pieces)"
   ]
  },
  {
   "cell_type": "markdown",
   "metadata": {},
   "source": [
    "OBV依赖前一日收盘价，所以，去掉数组v第一个值"
   ]
  },
  {
   "cell_type": "code",
   "execution_count": 227,
   "metadata": {},
   "outputs": [
    {
     "name": "stdout",
     "output_type": "stream",
     "text": [
      "on balance volume \n"
     ]
    },
    {
     "data": {
      "text/plain": [
       "array([ 2620800., -2461300., -3270900.,  2650200., -4667300., -5359800.,\n",
       "        7768400., -4799100.,  3448300.,  4719800., -3898900.,  3727700.,\n",
       "        3379400., -2463900., -3590900., -3805000., -3271700., -5507800.,\n",
       "        2996800., -3434800., -5008300., -7809799.,  3947100.,  3809700.,\n",
       "        3098200., -3500200.,  4285600.,  3918800., -3632200.])"
      ]
     },
     "execution_count": 227,
     "metadata": {},
     "output_type": "execute_result"
    }
   ],
   "source": [
    "print(\"on balance volume \")\n",
    "v[1:]*signs"
   ]
  },
  {
   "cell_type": "markdown",
   "metadata": {},
   "source": [
    "### 避免使用循环"
   ]
  },
  {
   "cell_type": "code",
   "execution_count": 228,
   "metadata": {},
   "outputs": [],
   "source": [
    "o,h,l,c = np.loadtxt('input/BHP.csv', delimiter=',', usecols=(3,4,5,6), unpack=True)"
   ]
  },
  {
   "cell_type": "code",
   "execution_count": 229,
   "metadata": {},
   "outputs": [],
   "source": [
    "buy_rate = 0.999\n",
    "def calc_profit(oopen, high, low, close):\n",
    "    buy = oopen * buy_rate\n",
    "    if low < buy < high:\n",
    "        return (close - buy)/buy\n",
    "    else:\n",
    "        return 0.0\n",
    "    "
   ]
  },
  {
   "cell_type": "code",
   "execution_count": 230,
   "metadata": {},
   "outputs": [],
   "source": [
    "func = np.vectorize(calc_profit)"
   ]
  },
  {
   "cell_type": "code",
   "execution_count": 231,
   "metadata": {},
   "outputs": [],
   "source": [
    "profits = func(o,h,l,c)"
   ]
  },
  {
   "cell_type": "code",
   "execution_count": 232,
   "metadata": {},
   "outputs": [
    {
     "data": {
      "text/plain": [
       "array([ 0.00755895,  0.0123267 ,  0.0021668 ,  0.00780612,  0.        ,\n",
       "        0.00154302, -0.01006869,  0.00568316, -0.00614746,  0.00560552,\n",
       "       -0.00121617, -0.01774473,  0.00675817,  0.00225356, -0.00274807,\n",
       "       -0.02015786,  0.00762307, -0.00675369, -0.00675957,  0.        ,\n",
       "        0.01065112,  0.02904986, -0.01558377,  0.00168882, -0.0098442 ,\n",
       "       -0.00499634, -0.00783465,  0.00603003,  0.00540779,  0.00376864])"
      ]
     },
     "execution_count": 232,
     "metadata": {},
     "output_type": "execute_result"
    }
   ],
   "source": [
    "profits"
   ]
  },
  {
   "cell_type": "code",
   "execution_count": 233,
   "metadata": {},
   "outputs": [
    {
     "name": "stdout",
     "output_type": "stream",
     "text": [
      "trade days 28, trade percent 93.33\n",
      "average profit/loss 0.02\n"
     ]
    }
   ],
   "source": [
    "real_trades = profits[profits != 0]\n",
    "print(\"trade days {}, trade percent {}\".format(len(real_trades), round(100.0 * len(real_trades)/len(c),2)))\n",
    "print(\"average profit/loss {}\".format(round(np.mean(real_trades)*100,2)))"
   ]
  },
  {
   "cell_type": "code",
   "execution_count": 234,
   "metadata": {},
   "outputs": [
    {
     "name": "stdout",
     "output_type": "stream",
     "text": [
      "number of winning trades 16\n",
      "53.33 %\n",
      "average profit 0.72%\n"
     ]
    }
   ],
   "source": [
    "winning_trades = profits[profits >0]\n",
    "print(\"number of winning trades {}\".format(len(winning_trades)))\n",
    "print(\"{} %\".format(round(100.0 * len(winning_trades)/len(c),2)))\n",
    "print(\"average profit {}%\".format(round(np.mean(winning_trades)*100, 2)))"
   ]
  },
  {
   "cell_type": "code",
   "execution_count": 235,
   "metadata": {},
   "outputs": [
    {
     "name": "stdout",
     "output_type": "stream",
     "text": [
      "Number of losing trades 12\n",
      "40.0 %\n",
      "average losing -0.92%\n"
     ]
    }
   ],
   "source": [
    "losing_trades = profits[profits < 0]\n",
    "print(\"Number of losing trades {}\".format(len(losing_trades)))\n",
    "print(\"{} %\".format(round(100.0 * len(losing_trades)/len(c),2)))\n",
    "print(\"average losing {}%\".format(round(np.mean(losing_trades)*100, 2)))"
   ]
  },
  {
   "cell_type": "markdown",
   "metadata": {},
   "source": [
    "### 数据平滑"
   ]
  },
  {
   "cell_type": "code",
   "execution_count": 236,
   "metadata": {},
   "outputs": [
    {
     "data": {
      "text/plain": [
       "array([ 0.        ,  0.1882551 ,  0.61126047,  0.95048443,  0.95048443,\n",
       "        0.61126047,  0.1882551 ,  0.        ])"
      ]
     },
     "execution_count": 236,
     "metadata": {},
     "output_type": "execute_result"
    }
   ],
   "source": [
    "N= 8\n",
    "weights = np.hanning(N)\n",
    "weights"
   ]
  },
  {
   "cell_type": "code",
   "execution_count": 237,
   "metadata": {},
   "outputs": [],
   "source": [
    "bhp = np.loadtxt('input/BHP.csv', delimiter=',', usecols=(6,), unpack=True)\n",
    "bhp_returns = np.diff(bhp)/bhp[:-1]\n",
    "# np.diff(np.log(bhp))\n",
    "smooth_bhp = np.convolve(weights/weights.sum(),bhp_returns)[N-1: -N+1]\n",
    "\n",
    "vale =  np.loadtxt('input/VALE.csv', delimiter=',', usecols=(6,), unpack=True)\n",
    "vale_returns = np.diff(vale)/vale[:-1]\n",
    "smooth_vale = np.convolve(weights/weights.sum(), vale_returns)[N-1 : -N+1]"
   ]
  },
  {
   "cell_type": "code",
   "execution_count": 238,
   "metadata": {},
   "outputs": [
    {
     "data": {
      "text/plain": [
       "<matplotlib.legend.Legend at 0x7fecacaee358>"
      ]
     },
     "execution_count": 238,
     "metadata": {},
     "output_type": "execute_result"
    },
    {
     "data": {
      "image/png": "[encoded data removed]",
      "text/plain": [
       "<matplotlib.figure.Figure at 0x7fecacbbdc50>"
      ]
     },
     "metadata": {},
     "output_type": "display_data"
    }
   ],
   "source": [
    "t= np.arange(N -1, len(bhp_returns))\n",
    "plt.plot(t, bhp_returns[N-1:], label = 'bhp return')\n",
    "plt.plot(t, smooth_bhp, label = 'bhp smooth')\n",
    "plt.plot(t, vale_returns[N-1:], label = 'vale return')\n",
    "plt.plot(t, smooth_vale, label = 'vale smooth')\n",
    "\n",
    "plt.legend(loc = 'best', shadow=True, fontsize = 'small')"
   ]
  },
  {
   "cell_type": "code",
   "execution_count": 239,
   "metadata": {},
   "outputs": [],
   "source": [
    "# 多项式拟合平滑后数据\n",
    "K = 8\n",
    "t = np.arange(N -1, len(bhp_returns))\n",
    "poly_bhp = np.polyfit(t, smooth_bhp, K)\n",
    "poly_vale = np.polyfit(t, smooth_vale, K)"
   ]
  },
  {
   "cell_type": "code",
   "execution_count": 240,
   "metadata": {},
   "outputs": [
    {
     "name": "stdout",
     "output_type": "stream",
     "text": [
      "Intersection points \n"
     ]
    },
    {
     "data": {
      "text/plain": [
       "array([ 27.73321597+0.j        ,  27.51284094+0.j        ,\n",
       "        24.32064343+0.j        ,  18.86423973+0.j        ,\n",
       "        12.43797190+1.73218179j,  12.43797190-1.73218179j,\n",
       "         6.34613053+0.62519463j,   6.34613053-0.62519463j])"
      ]
     },
     "execution_count": 240,
     "metadata": {},
     "output_type": "execute_result"
    }
   ],
   "source": [
    "poly_sub = np.polysub(poly_bhp, poly_vale)\n",
    "xpoints = np.roots(poly_sub)\n",
    "print(\"Intersection points \")\n",
    "xpoints"
   ]
  },
  {
   "cell_type": "code",
   "execution_count": 241,
   "metadata": {},
   "outputs": [
    {
     "data": {
      "text/plain": [
       "array([ True,  True,  True,  True, False, False, False, False], dtype=bool)"
      ]
     },
     "execution_count": 241,
     "metadata": {},
     "output_type": "execute_result"
    }
   ],
   "source": [
    "reals = np.isreal(xpoints)\n",
    "reals"
   ]
  },
  {
   "cell_type": "code",
   "execution_count": 242,
   "metadata": {},
   "outputs": [
    {
     "name": "stdout",
     "output_type": "stream",
     "text": [
      "实数交叉点\n"
     ]
    },
    {
     "data": {
      "text/plain": [
       "array([ 27.73321597,  27.51284094,  24.32064343,  18.86423973,\n",
       "         0.        ,   0.        ,   0.        ,   0.        ])"
      ]
     },
     "execution_count": 242,
     "metadata": {},
     "output_type": "execute_result"
    }
   ],
   "source": [
    "xpoints = np.select([reals], [xpoints])\n",
    "xpoints = xpoints.real\n",
    "print(\"实数交叉点\")\n",
    "xpoints"
   ]
  },
  {
   "cell_type": "code",
   "execution_count": 243,
   "metadata": {},
   "outputs": [
    {
     "data": {
      "text/plain": [
       "array([ 27.73321597,  27.51284094,  24.32064343,  18.86423973])"
      ]
     },
     "execution_count": 243,
     "metadata": {},
     "output_type": "execute_result"
    }
   ],
   "source": [
    "np.trim_zeros(xpoints)"
   ]
  },
  {
   "cell_type": "code",
   "execution_count": 244,
   "metadata": {},
   "outputs": [
    {
     "data": {
      "application/javascript": [
       "$.getScript('https://kmahelona.github.io/ipython_notebook_goodies/ipython_notebook_toc.js')"
      ],
      "text/plain": [
       "<IPython.core.display.Javascript object>"
      ]
     },
     "metadata": {},
     "output_type": "display_data"
    }
   ],
   "source": [
    "%%javascript\n",
    "$.getScript('https://kmahelona.github.io/ipython_notebook_goodies/ipython_notebook_toc.js')"
   ]
  },
  {
   "cell_type": "code",
   "execution_count": null,
   "metadata": {},
   "outputs": [],
   "source": []
  }
 ],
 "metadata": {
  "kernelspec": {
   "display_name": "Python 3",
   "language": "python",
   "name": "python3"
  },
  "language_info": {
   "codemirror_mode": {
    "name": "ipython",
    "version": 3
   },
   "file_extension": ".py",
   "mimetype": "text/x-python",
   "name": "python",
   "nbconvert_exporter": "python",
   "pygments_lexer": "ipython3",
   "version": "3.6.4"
  }
 },
 "nbformat": 4,
 "nbformat_minor": 2
}
