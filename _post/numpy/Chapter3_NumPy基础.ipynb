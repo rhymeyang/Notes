{
 "cells": [
  {
   "cell_type": "markdown",
   "metadata": {},
   "source": [
    "<h1 id=\"tocheading\">NumPy基础 Chapter3</h1>\n",
    "<div id=\"toc\"></div>"
   ]
  },
  {
   "cell_type": "markdown",
   "metadata": {},
   "source": [
    "### 本节知识点\n",
    "\n",
    "1. loadtxt, savetxt\n",
    "2. eye 单位矩阵, ones 全1, convolve 指定权重卷积\n",
    "3. average, mean, median, min, max, std, var\n",
    "4. diff, log自然对数\n",
    "5. loadtxt 默认转浮点数，converters 指定转换函数\n",
    "6. apply_along_axis\n",
    "7. exp, linspace\n",
    "8. fill"
   ]
  },
  {
   "cell_type": "code",
   "execution_count": 393,
   "metadata": {},
   "outputs": [
    {
     "data": {
      "text/plain": [
       "array([[ 1.,  0.],\n",
       "       [ 0.,  1.]])"
      ]
     },
     "execution_count": 393,
     "metadata": {},
     "output_type": "execute_result"
    }
   ],
   "source": [
    "import numpy as np\n",
    "i2 = np.eye(2)\n",
    "i2"
   ]
  },
  {
   "cell_type": "code",
   "execution_count": 394,
   "metadata": {},
   "outputs": [],
   "source": [
    "np.savetxt('output/eye.txt', i2)"
   ]
  },
  {
   "cell_type": "code",
   "execution_count": 395,
   "metadata": {},
   "outputs": [],
   "source": [
    "# fh = open('input/600436_sublime_utf8_no_head.txt',encoding='utf8')\n",
    "fh = open('input/600436_sublime_utf8_no_head.csv',encoding='utf8')\n"
   ]
  },
  {
   "cell_type": "code",
   "execution_count": 396,
   "metadata": {},
   "outputs": [],
   "source": [
    "# 不好，只能按行，而且csv文件不能有head\n",
    "# unpack 不同列数据分开存储\n",
    "# 不能有任何中文\n",
    "# 日期也不能读\n",
    "c,v = np.loadtxt('input/600436_sublime_utf8_no_head.csv', delimiter=',', usecols=(4,7), unpack=True)"
   ]
  },
  {
   "cell_type": "code",
   "execution_count": 397,
   "metadata": {},
   "outputs": [
    {
     "data": {
      "text/plain": [
       "array([  1.97,   2.  ,   1.93, ...,  64.32,  64.2 ,  66.02])"
      ]
     },
     "execution_count": 397,
     "metadata": {},
     "output_type": "execute_result"
    }
   ],
   "source": [
    "c"
   ]
  },
  {
   "cell_type": "code",
   "execution_count": 398,
   "metadata": {},
   "outputs": [
    {
     "data": {
      "text/plain": [
       "array([ 20699084.,   5684036.,   3902889., ...,   7757334.,   9501911.,\n",
       "        10721024.])"
      ]
     },
     "execution_count": 398,
     "metadata": {},
     "output_type": "execute_result"
    }
   ],
   "source": [
    "v"
   ]
  },
  {
   "cell_type": "code",
   "execution_count": 399,
   "metadata": {},
   "outputs": [
    {
     "data": {
      "text/plain": [
       "17.148567685589519"
      ]
     },
     "execution_count": 399,
     "metadata": {},
     "output_type": "execute_result"
    }
   ],
   "source": [
    "np.mean(c)"
   ]
  },
  {
   "cell_type": "code",
   "execution_count": 400,
   "metadata": {},
   "outputs": [
    {
     "data": {
      "text/plain": [
       "array([   0,    1,    2, ..., 3432, 3433, 3434])"
      ]
     },
     "execution_count": 400,
     "metadata": {},
     "output_type": "execute_result"
    }
   ],
   "source": [
    "t=np.arange(len(c))\n",
    "t"
   ]
  },
  {
   "cell_type": "markdown",
   "metadata": {},
   "source": [
    "### 时间加权平均，越近，权重越高"
   ]
  },
  {
   "cell_type": "code",
   "execution_count": 401,
   "metadata": {},
   "outputs": [
    {
     "data": {
      "text/plain": [
       "25.529569202232324"
      ]
     },
     "execution_count": 401,
     "metadata": {},
     "output_type": "execute_result"
    }
   ],
   "source": [
    "\n",
    "np.average(c,weights=t)"
   ]
  },
  {
   "cell_type": "code",
   "execution_count": 402,
   "metadata": {},
   "outputs": [
    {
     "data": {
      "text/plain": [
       "66.019999999999996"
      ]
     },
     "execution_count": 402,
     "metadata": {},
     "output_type": "execute_result"
    }
   ],
   "source": [
    "np.max(c)"
   ]
  },
  {
   "cell_type": "code",
   "execution_count": 403,
   "metadata": {},
   "outputs": [
    {
     "data": {
      "text/plain": [
       "0.93000000000000005"
      ]
     },
     "execution_count": 403,
     "metadata": {},
     "output_type": "execute_result"
    }
   ],
   "source": [
    "np.min(c)"
   ]
  },
  {
   "cell_type": "code",
   "execution_count": 404,
   "metadata": {},
   "outputs": [
    {
     "data": {
      "text/plain": [
       "252.22229611441429"
      ]
     },
     "execution_count": 404,
     "metadata": {},
     "output_type": "execute_result"
    }
   ],
   "source": [
    "np.var(c)"
   ]
  },
  {
   "cell_type": "code",
   "execution_count": 405,
   "metadata": {},
   "outputs": [
    {
     "data": {
      "text/plain": [
       "252.22229611441429"
      ]
     },
     "execution_count": 405,
     "metadata": {},
     "output_type": "execute_result"
    }
   ],
   "source": [
    "np.mean((c - c.mean())**2)"
   ]
  },
  {
   "cell_type": "code",
   "execution_count": 406,
   "metadata": {},
   "outputs": [
    {
     "data": {
      "text/plain": [
       "array([  0.93,   0.93,   0.94, ...,  64.89,  65.2 ,  66.02])"
      ]
     },
     "execution_count": 406,
     "metadata": {},
     "output_type": "execute_result"
    }
   ],
   "source": [
    "np.msort(c)"
   ]
  },
  {
   "cell_type": "markdown",
   "metadata": {},
   "source": [
    ">方差：\n",
    "各个数据与所有数据算术平均数的离差平方和除以数据个数。\n",
    "\n",
    "样本方差和总体方差分母有区别，样本方差使用自由度。"
   ]
  },
  {
   "cell_type": "code",
   "execution_count": 407,
   "metadata": {},
   "outputs": [
    {
     "data": {
      "text/plain": [
       "15.88150799245507"
      ]
     },
     "execution_count": 407,
     "metadata": {},
     "output_type": "execute_result"
    }
   ],
   "source": [
    "# 自己算怎么不对？\n",
    "c.std()"
   ]
  },
  {
   "cell_type": "code",
   "execution_count": 408,
   "metadata": {},
   "outputs": [
    {
     "data": {
      "text/plain": [
       "0.07342716044087752"
      ]
     },
     "execution_count": 408,
     "metadata": {},
     "output_type": "execute_result"
    }
   ],
   "source": [
    "(np.var(c))/len(c)"
   ]
  },
  {
   "cell_type": "code",
   "execution_count": 409,
   "metadata": {},
   "outputs": [
    {
     "data": {
      "text/plain": [
       "0.27097446455501584"
      ]
     },
     "execution_count": 409,
     "metadata": {},
     "output_type": "execute_result"
    }
   ],
   "source": [
    "np.sqrt((np.var(c))/len(c))"
   ]
  },
  {
   "cell_type": "markdown",
   "metadata": {},
   "source": [
    "### diff函数，返回一个由相邻数组元素的差值构成的数组"
   ]
  },
  {
   "cell_type": "code",
   "execution_count": 410,
   "metadata": {},
   "outputs": [
    {
     "data": {
      "text/plain": [
       "array([ 0.01522843, -0.035     ,  0.01036269, ..., -0.00786673,\n",
       "       -0.00186567,  0.02834891])"
      ]
     },
     "execution_count": 410,
     "metadata": {},
     "output_type": "execute_result"
    }
   ],
   "source": [
    "# 每天收益率\n",
    "np.diff(c)/c[:-1]"
   ]
  },
  {
   "cell_type": "code",
   "execution_count": 411,
   "metadata": {},
   "outputs": [
    {
     "data": {
      "text/plain": [
       "array([ 0.01511364, -0.03562718,  0.01030937, ..., -0.00789783,\n",
       "       -0.00186741,  0.02795452])"
      ]
     },
     "execution_count": 411,
     "metadata": {},
     "output_type": "execute_result"
    }
   ],
   "source": [
    "# 对数每天收益率\n",
    "log_return = np.diff(np.log(c))\n",
    "log_return"
   ]
  },
  {
   "cell_type": "code",
   "execution_count": 412,
   "metadata": {},
   "outputs": [
    {
     "data": {
      "text/plain": [
       "(array([   0,    2,    4, ..., 3428, 3429, 3433]),)"
      ]
     },
     "execution_count": 412,
     "metadata": {},
     "output_type": "execute_result"
    }
   ],
   "source": [
    "np.where(log_return > 0)"
   ]
  },
  {
   "cell_type": "code",
   "execution_count": 413,
   "metadata": {},
   "outputs": [
    {
     "data": {
      "text/plain": [
       "29.095895442515573"
      ]
     },
     "execution_count": 413,
     "metadata": {},
     "output_type": "execute_result"
    }
   ],
   "source": [
    "# 波动率\n",
    "np.std(log_return)/np.mean(log_return)"
   ]
  },
  {
   "cell_type": "code",
   "execution_count": 414,
   "metadata": {},
   "outputs": [
    {
     "data": {
      "text/plain": [
       "461.88302108180289"
      ]
     },
     "execution_count": 414,
     "metadata": {},
     "output_type": "execute_result"
    }
   ],
   "source": [
    "# 年均波动\n",
    "(np.std(log_return)/np.mean(log_return))/np.sqrt(1./252.)"
   ]
  },
  {
   "cell_type": "code",
   "execution_count": 415,
   "metadata": {},
   "outputs": [
    {
     "data": {
      "text/plain": [
       "100.79113839629744"
      ]
     },
     "execution_count": 415,
     "metadata": {},
     "output_type": "execute_result"
    }
   ],
   "source": [
    "(np.std(log_return)/np.mean(log_return))/np.sqrt(1./12.)"
   ]
  },
  {
   "cell_type": "markdown",
   "metadata": {},
   "source": [
    "## 日期分析"
   ]
  },
  {
   "cell_type": "code",
   "execution_count": 416,
   "metadata": {},
   "outputs": [],
   "source": [
    "import datetime\n",
    "def datestr2num(s):\n",
    "    return datetime.datetime.strptime(s.decode(), \"%Y-%m-%d\").date().weekday()\n",
    "\n",
    "\n",
    "dates,close = np.loadtxt('input/600436_sublime_utf8_no_head.csv', delimiter=',', usecols=(0,4), converters={0:datestr2num}, unpack=True)"
   ]
  },
  {
   "cell_type": "code",
   "execution_count": 417,
   "metadata": {},
   "outputs": [],
   "source": [
    "def datestr2datetime(s):\n",
    "    return datetime.datetime.strptime(s.decode(), \"%Y-%m-%d\").date()\n",
    "dates_year,close = np.loadtxt('input/600436_sublime_utf8_no_head.csv', \\\n",
    "                              delimiter=',', \\\n",
    "                              dtype= [('dates_year',datetime.date),('close',np.float)],\n",
    "                              usecols=(0,4), \\\n",
    "                              converters={0:datestr2datetime},\n",
    "                              unpack=True)\n",
    "\n",
    "# 以下写法，比较日期时，没办法过滤出 需要的日期\n",
    "# dates_year,close = np.loadtxt('input/600436_sublime_utf8_no_head.csv', \\\n",
    "#                               delimiter=',', \\\n",
    "#                               dtype= object,\n",
    "#                               usecols=(0,4), \\\n",
    "#                               converters={0:datestr2datetime,\n",
    "#                                          4: np.float},\n",
    "#                               unpack=True)"
   ]
  },
  {
   "cell_type": "code",
   "execution_count": 418,
   "metadata": {},
   "outputs": [
    {
     "data": {
      "text/plain": [
       "array([ 0.,  1.,  2., ...,  2.,  3.,  4.])"
      ]
     },
     "execution_count": 418,
     "metadata": {},
     "output_type": "execute_result"
    }
   ],
   "source": [
    "dates"
   ]
  },
  {
   "cell_type": "code",
   "execution_count": 419,
   "metadata": {},
   "outputs": [
    {
     "data": {
      "text/plain": [
       "array([ 0.,  0.,  0.,  0.,  0.])"
      ]
     },
     "execution_count": 419,
     "metadata": {},
     "output_type": "execute_result"
    }
   ],
   "source": [
    "averages = np.zeros(5)\n",
    "averages"
   ]
  },
  {
   "cell_type": "markdown",
   "metadata": {},
   "source": [
    "__where 函数__"
   ]
  },
  {
   "cell_type": "code",
   "execution_count": 420,
   "metadata": {},
   "outputs": [],
   "source": [
    "for i in range(5):\n",
    "    indices = np.where(dates ==i)\n",
    "    prices = np.take(close, indices)\n",
    "    avg = np.mean(prices)\n",
    "    averages[i]=avg"
   ]
  },
  {
   "cell_type": "code",
   "execution_count": 421,
   "metadata": {},
   "outputs": [
    {
     "data": {
      "text/plain": [
       "array([ 17.14001499,  17.16056358,  17.21121602,  17.11965268,  17.11007289])"
      ]
     },
     "execution_count": 421,
     "metadata": {},
     "output_type": "execute_result"
    }
   ],
   "source": [
    "averages"
   ]
  },
  {
   "cell_type": "code",
   "execution_count": 422,
   "metadata": {},
   "outputs": [
    {
     "data": {
      "text/plain": [
       "2"
      ]
     },
     "execution_count": 422,
     "metadata": {},
     "output_type": "execute_result"
    }
   ],
   "source": [
    "averages.argmax()"
   ]
  },
  {
   "cell_type": "markdown",
   "metadata": {},
   "source": [
    "### 仅使用2017年数据"
   ]
  },
  {
   "cell_type": "code",
   "execution_count": 423,
   "metadata": {},
   "outputs": [],
   "source": [
    "year_end_2016 = datetime.datetime.strptime('2016-12-31','%Y-%m-%d').date()"
   ]
  },
  {
   "cell_type": "code",
   "execution_count": 424,
   "metadata": {},
   "outputs": [],
   "source": [
    "dates_2017 = np.ravel(np.take(dates_year, np.where(dates_year>year_end_2016)))\n",
    "close_2017 = np.ravel(np.take(close, np.where(dates_year>year_end_2016)))"
   ]
  },
  {
   "cell_type": "code",
   "execution_count": 425,
   "metadata": {},
   "outputs": [
    {
     "data": {
      "text/plain": [
       "array([datetime.date(2003, 6, 16), datetime.date(2003, 6, 17),\n",
       "       datetime.date(2003, 6, 18), ..., datetime.date(2017, 10, 25),\n",
       "       datetime.date(2017, 10, 26), datetime.date(2017, 10, 27)], dtype=object)"
      ]
     },
     "execution_count": 425,
     "metadata": {},
     "output_type": "execute_result"
    }
   ],
   "source": [
    "dates_year"
   ]
  },
  {
   "cell_type": "code",
   "execution_count": 426,
   "metadata": {},
   "outputs": [
    {
     "data": {
      "text/plain": [
       "numpy.ndarray"
      ]
     },
     "execution_count": 426,
     "metadata": {},
     "output_type": "execute_result"
    }
   ],
   "source": [
    "type(dates_2017)"
   ]
  },
  {
   "cell_type": "code",
   "execution_count": 427,
   "metadata": {},
   "outputs": [
    {
     "data": {
      "text/plain": [
       "1"
      ]
     },
     "execution_count": 427,
     "metadata": {},
     "output_type": "execute_result"
    }
   ],
   "source": [
    "dates_2017.ndim"
   ]
  },
  {
   "cell_type": "code",
   "execution_count": 428,
   "metadata": {},
   "outputs": [
    {
     "data": {
      "text/plain": [
       "(199,)"
      ]
     },
     "execution_count": 428,
     "metadata": {},
     "output_type": "execute_result"
    }
   ],
   "source": [
    "dates_2017.shape"
   ]
  },
  {
   "cell_type": "code",
   "execution_count": 429,
   "metadata": {},
   "outputs": [
    {
     "data": {
      "text/plain": [
       "199"
      ]
     },
     "execution_count": 429,
     "metadata": {},
     "output_type": "execute_result"
    }
   ],
   "source": [
    "for index in range(0, len(dates_2017)):\n",
    "    pass\n",
    "\n",
    "len(dates_2017)"
   ]
  },
  {
   "cell_type": "code",
   "execution_count": 430,
   "metadata": {},
   "outputs": [
    {
     "data": {
      "text/plain": [
       "(2017, 42, 7)"
      ]
     },
     "execution_count": 430,
     "metadata": {},
     "output_type": "execute_result"
    }
   ],
   "source": [
    "datetime.datetime.strptime('2017-10-22','%Y-%m-%d').date().isocalendar()"
   ]
  },
  {
   "cell_type": "code",
   "execution_count": 431,
   "metadata": {},
   "outputs": [],
   "source": [
    "week_index_2017 = [x.isocalendar()[1] for x in dates_2017]\n",
    "\n",
    "# 0 星期一，4 星期五\n",
    "week_day_2017 = [x.weekday() for x in dates_2017]\n",
    "data_2017 = np.dstack((week_index_2017,week_day_2017, close_2017))"
   ]
  },
  {
   "cell_type": "code",
   "execution_count": 432,
   "metadata": {},
   "outputs": [
    {
     "data": {
      "text/plain": [
       "(1, 199, 3)"
      ]
     },
     "execution_count": 432,
     "metadata": {},
     "output_type": "execute_result"
    }
   ],
   "source": [
    "data_2017.shape"
   ]
  },
  {
   "cell_type": "code",
   "execution_count": 433,
   "metadata": {},
   "outputs": [
    {
     "data": {
      "text/plain": [
       "(199, 3)"
      ]
     },
     "execution_count": 433,
     "metadata": {},
     "output_type": "execute_result"
    }
   ],
   "source": [
    "data_2017.reshape(199,3,)\n",
    "data_2017 = data_2017.ravel().reshape(199,3)\n",
    "data_2017.shape"
   ]
  },
  {
   "cell_type": "code",
   "execution_count": 434,
   "metadata": {},
   "outputs": [
    {
     "data": {
      "text/plain": [
       "(199,)"
      ]
     },
     "execution_count": 434,
     "metadata": {},
     "output_type": "execute_result"
    }
   ],
   "source": [
    "dates_2017.shape"
   ]
  },
  {
   "cell_type": "code",
   "execution_count": 435,
   "metadata": {},
   "outputs": [
    {
     "data": {
      "text/plain": [
       "array([[  1.  ,   1.  ,  45.36],\n",
       "       [  1.  ,   2.  ,  45.58],\n",
       "       [  1.  ,   3.  ,  45.36],\n",
       "       [  1.  ,   4.  ,  45.13],\n",
       "       [  2.  ,   0.  ,  44.88],\n",
       "       [  2.  ,   1.  ,  44.78],\n",
       "       [  2.  ,   2.  ,  44.53],\n",
       "       [  2.  ,   3.  ,  44.26],\n",
       "       [  2.  ,   4.  ,  44.66],\n",
       "       [  3.  ,   0.  ,  45.21],\n",
       "       [  3.  ,   1.  ,  44.99]])"
      ]
     },
     "execution_count": 435,
     "metadata": {},
     "output_type": "execute_result"
    }
   ],
   "source": [
    "data_2017[0:11]"
   ]
  },
  {
   "cell_type": "code",
   "execution_count": 436,
   "metadata": {},
   "outputs": [],
   "source": [
    "from itertools import groupby\n",
    "from operator import itemgetter"
   ]
  },
  {
   "cell_type": "code",
   "execution_count": 437,
   "metadata": {},
   "outputs": [
    {
     "data": {
      "text/plain": [
       "{1.0: array([[  1.  ,   1.  ,  45.36],\n",
       "        [  1.  ,   2.  ,  45.58],\n",
       "        [  1.  ,   3.  ,  45.36],\n",
       "        [  1.  ,   4.  ,  45.13]]), 2.0: array([[  2.  ,   0.  ,  44.88],\n",
       "        [  2.  ,   1.  ,  44.78],\n",
       "        [  2.  ,   2.  ,  44.53],\n",
       "        [  2.  ,   3.  ,  44.26],\n",
       "        [  2.  ,   4.  ,  44.66]]), 3.0: array([[  3.  ,   0.  ,  45.21],\n",
       "        [  3.  ,   1.  ,  44.99],\n",
       "        [  3.  ,   2.  ,  45.09],\n",
       "        [  3.  ,   3.  ,  44.72],\n",
       "        [  3.  ,   4.  ,  44.92]]), 4.0: array([[  4.  ,   0.  ,  44.99],\n",
       "        [  4.  ,   1.  ,  44.91],\n",
       "        [  4.  ,   2.  ,  44.98],\n",
       "        [  4.  ,   3.  ,  44.97]]), 5.0: array([[  5.  ,   4.  ,  44.93]]), 6.0: array([[  6.  ,   0.  ,  44.86],\n",
       "        [  6.  ,   1.  ,  44.53],\n",
       "        [  6.  ,   2.  ,  44.59],\n",
       "        [  6.  ,   3.  ,  44.68],\n",
       "        [  6.  ,   4.  ,  44.89]]), 7.0: array([[  7.  ,   0.  ,  45.43],\n",
       "        [  7.  ,   1.  ,  45.3 ],\n",
       "        [  7.  ,   2.  ,  44.99],\n",
       "        [  7.  ,   3.  ,  45.06],\n",
       "        [  7.  ,   4.  ,  44.88]]), 8.0: array([[  8.  ,   0.  ,  45.95],\n",
       "        [  8.  ,   1.  ,  45.88],\n",
       "        [  8.  ,   2.  ,  47.34],\n",
       "        [  8.  ,   3.  ,  47.37],\n",
       "        [  8.  ,   4.  ,  47.21]]), 9.0: array([[  9.  ,   0.  ,  47.54],\n",
       "        [  9.  ,   1.  ,  47.76],\n",
       "        [  9.  ,   2.  ,  47.58],\n",
       "        [  9.  ,   3.  ,  47.11],\n",
       "        [  9.  ,   4.  ,  46.98]]), 10.0: array([[ 10.  ,   0.  ,  47.38],\n",
       "        [ 10.  ,   1.  ,  47.61],\n",
       "        [ 10.  ,   2.  ,  47.29],\n",
       "        [ 10.  ,   3.  ,  47.01],\n",
       "        [ 10.  ,   4.  ,  47.58]]), 11.0: array([[ 11.  ,   0.  ,  48.23],\n",
       "        [ 11.  ,   1.  ,  47.84],\n",
       "        [ 11.  ,   2.  ,  48.  ],\n",
       "        [ 11.  ,   3.  ,  47.58],\n",
       "        [ 11.  ,   4.  ,  47.41]]), 12.0: array([[ 12.  ,   0.  ,  47.82],\n",
       "        [ 12.  ,   1.  ,  49.02],\n",
       "        [ 12.  ,   2.  ,  50.48],\n",
       "        [ 12.  ,   3.  ,  50.2 ],\n",
       "        [ 12.  ,   4.  ,  50.24]]), 13.0: array([[ 13.  ,   0.  ,  49.74],\n",
       "        [ 13.  ,   1.  ,  49.51],\n",
       "        [ 13.  ,   2.  ,  49.73],\n",
       "        [ 13.  ,   3.  ,  48.85],\n",
       "        [ 13.  ,   4.  ,  50.02]]), 14.0: array([[ 14.  ,   2.  ,  51.8 ],\n",
       "        [ 14.  ,   3.  ,  52.53],\n",
       "        [ 14.  ,   4.  ,  52.61]]), 15.0: array([[ 15.  ,   0.  ,  54.48],\n",
       "        [ 15.  ,   1.  ,  53.91],\n",
       "        [ 15.  ,   2.  ,  53.52],\n",
       "        [ 15.  ,   3.  ,  53.  ],\n",
       "        [ 15.  ,   4.  ,  53.04]]), 16.0: array([[ 16.  ,   0.  ,  52.56],\n",
       "        [ 16.  ,   1.  ,  55.63],\n",
       "        [ 16.  ,   2.  ,  55.81],\n",
       "        [ 16.  ,   3.  ,  57.7 ],\n",
       "        [ 16.  ,   4.  ,  56.45]]), 17.0: array([[ 17.  ,   0.  ,  55.5 ],\n",
       "        [ 17.  ,   1.  ,  57.69],\n",
       "        [ 17.  ,   2.  ,  56.59],\n",
       "        [ 17.  ,   3.  ,  56.92],\n",
       "        [ 17.  ,   4.  ,  54.91]]), 18.0: array([[ 18.  ,   1.  ,  55.3 ],\n",
       "        [ 18.  ,   2.  ,  55.65],\n",
       "        [ 18.  ,   3.  ,  55.14],\n",
       "        [ 18.  ,   4.  ,  53.12]]), 19.0: array([[ 19.  ,   0.  ,  53.24],\n",
       "        [ 19.  ,   1.  ,  53.43],\n",
       "        [ 19.  ,   2.  ,  53.24],\n",
       "        [ 19.  ,   3.  ,  53.35],\n",
       "        [ 19.  ,   4.  ,  55.37]]), 20.0: array([[ 20.  ,   0.  ,  55.65],\n",
       "        [ 20.  ,   1.  ,  56.22],\n",
       "        [ 20.  ,   2.  ,  55.1 ],\n",
       "        [ 20.  ,   3.  ,  54.34],\n",
       "        [ 20.  ,   4.  ,  54.86]]), 21.0: array([[ 21.  ,   0.  ,  55.69],\n",
       "        [ 21.  ,   1.  ,  56.62],\n",
       "        [ 21.  ,   2.  ,  54.92],\n",
       "        [ 21.  ,   3.  ,  54.52],\n",
       "        [ 21.  ,   4.  ,  53.81]]), 22.0: array([[ 22.  ,   2.  ,  53.19],\n",
       "        [ 22.  ,   3.  ,  54.29],\n",
       "        [ 22.  ,   4.  ,  53.82]]), 23.0: array([[ 23.  ,   0.  ,  54.11],\n",
       "        [ 23.  ,   1.  ,  54.67],\n",
       "        [ 23.  ,   2.  ,  55.2 ],\n",
       "        [ 23.  ,   3.  ,  56.32],\n",
       "        [ 23.  ,   4.  ,  56.3 ]]), 24.0: array([[ 24.  ,   0.  ,  56.4 ],\n",
       "        [ 24.  ,   1.  ,  56.93],\n",
       "        [ 24.  ,   2.  ,  55.44],\n",
       "        [ 24.  ,   3.  ,  55.47],\n",
       "        [ 24.  ,   4.  ,  55.01]]), 25.0: array([[ 25.  ,   0.  ,  56.63],\n",
       "        [ 25.  ,   1.  ,  55.99],\n",
       "        [ 25.  ,   2.  ,  58.24],\n",
       "        [ 25.  ,   3.  ,  56.67],\n",
       "        [ 25.  ,   4.  ,  60.31]]), 26.0: array([[ 26.  ,   0.  ,  60.72],\n",
       "        [ 26.  ,   1.  ,  60.4 ],\n",
       "        [ 26.  ,   2.  ,  59.06],\n",
       "        [ 26.  ,   3.  ,  59.61],\n",
       "        [ 26.  ,   4.  ,  61.04]]), 27.0: array([[ 27.  ,   0.  ,  59.53],\n",
       "        [ 27.  ,   1.  ,  57.85],\n",
       "        [ 27.  ,   2.  ,  58.36],\n",
       "        [ 27.  ,   3.  ,  57.78],\n",
       "        [ 27.  ,   4.  ,  57.79]]), 28.0: array([[ 28.  ,   0.  ,  58.05],\n",
       "        [ 28.  ,   1.  ,  58.51],\n",
       "        [ 28.  ,   2.  ,  57.34],\n",
       "        [ 28.  ,   3.  ,  56.85],\n",
       "        [ 28.  ,   4.  ,  57.12]]), 29.0: array([[ 29.  ,   0.  ,  54.8 ],\n",
       "        [ 29.  ,   1.  ,  55.53],\n",
       "        [ 29.  ,   2.  ,  56.17],\n",
       "        [ 29.  ,   3.  ,  56.53],\n",
       "        [ 29.  ,   4.  ,  56.16]]), 30.0: array([[ 30.  ,   0.  ,  55.84],\n",
       "        [ 30.  ,   1.  ,  56.3 ],\n",
       "        [ 30.  ,   2.  ,  55.21],\n",
       "        [ 30.  ,   3.  ,  55.29],\n",
       "        [ 30.  ,   4.  ,  55.47]]), 31.0: array([[ 31.  ,   0.  ,  56.51],\n",
       "        [ 31.  ,   1.  ,  56.18],\n",
       "        [ 31.  ,   2.  ,  55.41],\n",
       "        [ 31.  ,   3.  ,  54.98],\n",
       "        [ 31.  ,   4.  ,  54.52]]), 32.0: array([[ 32.  ,   0.  ,  55.06],\n",
       "        [ 32.  ,   1.  ,  54.59],\n",
       "        [ 32.  ,   2.  ,  56.5 ],\n",
       "        [ 32.  ,   3.  ,  56.08],\n",
       "        [ 32.  ,   4.  ,  55.76]]), 33.0: array([[ 33.  ,   0.  ,  56.96],\n",
       "        [ 33.  ,   1.  ,  56.82],\n",
       "        [ 33.  ,   2.  ,  56.47],\n",
       "        [ 33.  ,   3.  ,  56.39],\n",
       "        [ 33.  ,   4.  ,  55.75]]), 34.0: array([[ 34.  ,   0.  ,  55.97],\n",
       "        [ 34.  ,   1.  ,  55.82],\n",
       "        [ 34.  ,   2.  ,  55.4 ],\n",
       "        [ 34.  ,   3.  ,  55.24],\n",
       "        [ 34.  ,   4.  ,  55.6 ]]), 35.0: array([[ 35.  ,   0.  ,  55.28],\n",
       "        [ 35.  ,   1.  ,  55.04],\n",
       "        [ 35.  ,   2.  ,  55.  ],\n",
       "        [ 35.  ,   3.  ,  54.69],\n",
       "        [ 35.  ,   4.  ,  54.16]]), 36.0: array([[ 36.  ,   0.  ,  54.93],\n",
       "        [ 36.  ,   1.  ,  55.23],\n",
       "        [ 36.  ,   2.  ,  54.67],\n",
       "        [ 36.  ,   3.  ,  54.75],\n",
       "        [ 36.  ,   4.  ,  55.06]]), 37.0: array([[ 37.  ,   0.  ,  54.89],\n",
       "        [ 37.  ,   1.  ,  54.71],\n",
       "        [ 37.  ,   2.  ,  55.53],\n",
       "        [ 37.  ,   3.  ,  55.31],\n",
       "        [ 37.  ,   4.  ,  55.84]]), 38.0: array([[ 38.  ,   0.  ,  56.03],\n",
       "        [ 38.  ,   1.  ,  55.71],\n",
       "        [ 38.  ,   2.  ,  55.21],\n",
       "        [ 38.  ,   3.  ,  55.12],\n",
       "        [ 38.  ,   4.  ,  54.85]]), 39.0: array([[ 39.  ,   0.  ,  57.96],\n",
       "        [ 39.  ,   1.  ,  58.24],\n",
       "        [ 39.  ,   2.  ,  57.84],\n",
       "        [ 39.  ,   3.  ,  59.01],\n",
       "        [ 39.  ,   4.  ,  58.26]]), 41.0: array([[ 41.  ,   0.  ,  58.4 ],\n",
       "        [ 41.  ,   1.  ,  59.44],\n",
       "        [ 41.  ,   2.  ,  60.27],\n",
       "        [ 41.  ,   3.  ,  60.14],\n",
       "        [ 41.  ,   4.  ,  59.26]]), 42.0: array([[ 42.  ,   0.  ,  61.51],\n",
       "        [ 42.  ,   1.  ,  61.22],\n",
       "        [ 42.  ,   2.  ,  63.63],\n",
       "        [ 42.  ,   3.  ,  63.34],\n",
       "        [ 42.  ,   4.  ,  63.75]]), 43.0: array([[ 43.  ,   0.  ,  64.89],\n",
       "        [ 43.  ,   1.  ,  64.83],\n",
       "        [ 43.  ,   2.  ,  64.32],\n",
       "        [ 43.  ,   3.  ,  64.2 ],\n",
       "        [ 43.  ,   4.  ,  66.02]])}"
      ]
     },
     "execution_count": 437,
     "metadata": {},
     "output_type": "execute_result"
    }
   ],
   "source": [
    "group_map = {}\n",
    "\n",
    "for key, value in groupby(data_2017,key = itemgetter(0)):\n",
    "    group_map[key] = np.vstack(value)\n",
    "    \n",
    "group_map"
   ]
  },
  {
   "cell_type": "code",
   "execution_count": 438,
   "metadata": {},
   "outputs": [
    {
     "data": {
      "text/plain": [
       "array([ 1,  2,  3,  4,  5,  6,  7,  8,  9, 10, 11, 12, 13, 14, 15, 16, 17,\n",
       "       18, 19, 20, 21, 22, 23, 24, 25, 26, 27, 28, 29, 30, 31, 32, 33, 34,\n",
       "       35, 36, 37, 38, 39, 41, 42, 43])"
      ]
     },
     "execution_count": 438,
     "metadata": {},
     "output_type": "execute_result"
    }
   ],
   "source": [
    "np.unique(week_index_2017)"
   ]
  },
  {
   "cell_type": "code",
   "execution_count": 439,
   "metadata": {},
   "outputs": [
    {
     "data": {
      "text/plain": [
       "array([[  1.  ,   1.  ,  45.36],\n",
       "       [  1.  ,   2.  ,  45.58],\n",
       "       [  1.  ,   3.  ,  45.36],\n",
       "       [  1.  ,   4.  ,  45.13]])"
      ]
     },
     "execution_count": 439,
     "metadata": {},
     "output_type": "execute_result"
    }
   ],
   "source": [
    "# start from 1\n",
    "group_map[1]"
   ]
  },
  {
   "cell_type": "code",
   "execution_count": 440,
   "metadata": {},
   "outputs": [
    {
     "data": {
      "text/plain": [
       "numpy.ndarray"
      ]
     },
     "execution_count": 440,
     "metadata": {},
     "output_type": "execute_result"
    }
   ],
   "source": [
    "type(group_map[1])"
   ]
  },
  {
   "cell_type": "code",
   "execution_count": 441,
   "metadata": {},
   "outputs": [
    {
     "data": {
      "text/plain": [
       "15"
      ]
     },
     "execution_count": 441,
     "metadata": {},
     "output_type": "execute_result"
    }
   ],
   "source": [
    "group_map[2].ravel().shape[0]"
   ]
  },
  {
   "cell_type": "code",
   "execution_count": 442,
   "metadata": {},
   "outputs": [],
   "source": [
    "# ?np.apply_along_axis\n",
    "\n",
    "# 有第一个收盘价 模拟周开盘\n",
    "def summarize(week_item):\n",
    "    \n",
    "    trade_price = week_item[:,2]\n",
    "    week_high = np.max(trade_price)\n",
    "    week_low = np.min(trade_price)\n",
    "    week_open = trade_price[0]\n",
    "    week_close = trade_price[-1]\n",
    "    week_index = int(week_item.ravel()[0])\n",
    "    return np.array([week_index, week_open, week_close, week_high, week_low])\n",
    "    "
   ]
  },
  {
   "cell_type": "code",
   "execution_count": 443,
   "metadata": {},
   "outputs": [],
   "source": [
    "week_info =  np.array([])\n",
    "\n",
    "for item in group_map:\n",
    "    trans = summarize(group_map[item])\n",
    "    \n",
    "    if len(week_info) != 0:\n",
    "    \n",
    "        week_info = np.row_stack((week_info,trans))\n",
    "    else:\n",
    "        week_info = trans"
   ]
  },
  {
   "cell_type": "code",
   "execution_count": 444,
   "metadata": {},
   "outputs": [
    {
     "data": {
      "text/plain": [
       "array([[  1.  ,  45.36,  45.13,  45.58,  45.13],\n",
       "       [  2.  ,  44.88,  44.66,  44.88,  44.26],\n",
       "       [  3.  ,  45.21,  44.92,  45.21,  44.72],\n",
       "       [  4.  ,  44.99,  44.97,  44.99,  44.91],\n",
       "       [  5.  ,  44.93,  44.93,  44.93,  44.93],\n",
       "       [  6.  ,  44.86,  44.89,  44.89,  44.53],\n",
       "       [  7.  ,  45.43,  44.88,  45.43,  44.88],\n",
       "       [  8.  ,  45.95,  47.21,  47.37,  45.88],\n",
       "       [  9.  ,  47.54,  46.98,  47.76,  46.98],\n",
       "       [ 10.  ,  47.38,  47.58,  47.61,  47.01],\n",
       "       [ 11.  ,  48.23,  47.41,  48.23,  47.41],\n",
       "       [ 12.  ,  47.82,  50.24,  50.48,  47.82],\n",
       "       [ 13.  ,  49.74,  50.02,  50.02,  48.85],\n",
       "       [ 14.  ,  51.8 ,  52.61,  52.61,  51.8 ],\n",
       "       [ 15.  ,  54.48,  53.04,  54.48,  53.  ],\n",
       "       [ 16.  ,  52.56,  56.45,  57.7 ,  52.56],\n",
       "       [ 17.  ,  55.5 ,  54.91,  57.69,  54.91],\n",
       "       [ 18.  ,  55.3 ,  53.12,  55.65,  53.12],\n",
       "       [ 19.  ,  53.24,  55.37,  55.37,  53.24],\n",
       "       [ 20.  ,  55.65,  54.86,  56.22,  54.34],\n",
       "       [ 21.  ,  55.69,  53.81,  56.62,  53.81],\n",
       "       [ 22.  ,  53.19,  53.82,  54.29,  53.19],\n",
       "       [ 23.  ,  54.11,  56.3 ,  56.32,  54.11],\n",
       "       [ 24.  ,  56.4 ,  55.01,  56.93,  55.01],\n",
       "       [ 25.  ,  56.63,  60.31,  60.31,  55.99],\n",
       "       [ 26.  ,  60.72,  61.04,  61.04,  59.06],\n",
       "       [ 27.  ,  59.53,  57.79,  59.53,  57.78],\n",
       "       [ 28.  ,  58.05,  57.12,  58.51,  56.85],\n",
       "       [ 29.  ,  54.8 ,  56.16,  56.53,  54.8 ],\n",
       "       [ 30.  ,  55.84,  55.47,  56.3 ,  55.21],\n",
       "       [ 31.  ,  56.51,  54.52,  56.51,  54.52],\n",
       "       [ 32.  ,  55.06,  55.76,  56.5 ,  54.59],\n",
       "       [ 33.  ,  56.96,  55.75,  56.96,  55.75],\n",
       "       [ 34.  ,  55.97,  55.6 ,  55.97,  55.24],\n",
       "       [ 35.  ,  55.28,  54.16,  55.28,  54.16],\n",
       "       [ 36.  ,  54.93,  55.06,  55.23,  54.67],\n",
       "       [ 37.  ,  54.89,  55.84,  55.84,  54.71],\n",
       "       [ 38.  ,  56.03,  54.85,  56.03,  54.85],\n",
       "       [ 39.  ,  57.96,  58.26,  59.01,  57.84],\n",
       "       [ 41.  ,  58.4 ,  59.26,  60.27,  58.4 ],\n",
       "       [ 42.  ,  61.51,  63.75,  63.75,  61.22],\n",
       "       [ 43.  ,  64.89,  66.02,  66.02,  64.2 ]])"
      ]
     },
     "execution_count": 444,
     "metadata": {},
     "output_type": "execute_result"
    }
   ],
   "source": [
    "week_info "
   ]
  },
  {
   "cell_type": "markdown",
   "metadata": {},
   "source": [
    "### 卷积\n",
    "\n",
    "一个函数与经过翻转和平移的另一个函数的乘积的积分。"
   ]
  },
  {
   "cell_type": "code",
   "execution_count": 445,
   "metadata": {},
   "outputs": [],
   "source": [
    "import sys"
   ]
  },
  {
   "cell_type": "code",
   "execution_count": 446,
   "metadata": {},
   "outputs": [],
   "source": [
    "# N = int(sys.argv[1])\n",
    "N = 10\n",
    "weights = np.ones(N)/N"
   ]
  },
  {
   "cell_type": "code",
   "execution_count": 447,
   "metadata": {},
   "outputs": [
    {
     "data": {
      "text/plain": [
       "array([ 0.1,  0.1,  0.1,  0.1,  0.1,  0.1,  0.1,  0.1,  0.1,  0.1])"
      ]
     },
     "execution_count": 447,
     "metadata": {},
     "output_type": "execute_result"
    }
   ],
   "source": [
    "weights"
   ]
  },
  {
   "cell_type": "code",
   "execution_count": 448,
   "metadata": {},
   "outputs": [
    {
     "data": {
      "text/plain": [
       "(42, 5)"
      ]
     },
     "execution_count": 448,
     "metadata": {},
     "output_type": "execute_result"
    }
   ],
   "source": [
    "week_info.shape"
   ]
  },
  {
   "cell_type": "code",
   "execution_count": 449,
   "metadata": {},
   "outputs": [],
   "source": [
    "# all close\n",
    "week_close = week_info[:,1]"
   ]
  },
  {
   "cell_type": "code",
   "execution_count": 450,
   "metadata": {},
   "outputs": [],
   "source": [
    "# 计算卷积\n",
    "sma = np.convolve(weights, close_2017)[N-1: -N+1] \n",
    "t = np.arange(N -1, len(close_2017))"
   ]
  },
  {
   "cell_type": "code",
   "execution_count": 451,
   "metadata": {},
   "outputs": [
    {
     "data": {
      "text/plain": [
       "(199,)"
      ]
     },
     "execution_count": 451,
     "metadata": {},
     "output_type": "execute_result"
    }
   ],
   "source": [
    "close_2017.shape"
   ]
  },
  {
   "cell_type": "code",
   "execution_count": 452,
   "metadata": {},
   "outputs": [
    {
     "data": {
      "text/plain": [
       "(190,)"
      ]
     },
     "execution_count": 452,
     "metadata": {},
     "output_type": "execute_result"
    }
   ],
   "source": [
    "sma.shape"
   ]
  },
  {
   "cell_type": "code",
   "execution_count": 453,
   "metadata": {},
   "outputs": [],
   "source": [
    "import matplotlib.pyplot as plt\n",
    "%matplotlib inline"
   ]
  },
  {
   "cell_type": "code",
   "execution_count": 454,
   "metadata": {},
   "outputs": [
    {
     "data": {
      "text/plain": [
       "<matplotlib.legend.Legend at 0x7f07ac838e10>"
      ]
     },
     "execution_count": 454,
     "metadata": {},
     "output_type": "execute_result"
    },
    {
     "data": {
      "image/png": "[encoded data removed]",
      "text/plain": [
       "<matplotlib.figure.Figure at 0x7f07aca61470>"
      ]
     },
     "metadata": {},
     "output_type": "display_data"
    }
   ],
   "source": [
    "plt.xlabel('Day Index')\n",
    "plt.ylabel('Price')\n",
    "plt.title('{} days average'.format(N))\n",
    "\n",
    "plt.plot(t,close_2017[N-1:],lw=1.0, label = 'close')\n",
    "plt.plot(t, sma, lw=2.0, label = 'sma')\n",
    "plt.legend(loc = 'best', shadow=True, fontsize = 'large')\n",
    "\n",
    "# plt.plot(t,close_2017[N-1:], lw=1.0)\n",
    "# show()"
   ]
  },
  {
   "cell_type": "markdown",
   "metadata": {},
   "source": [
    "### 指数移动平均线\n",
    "\n",
    "exponential moving average"
   ]
  },
  {
   "cell_type": "code",
   "execution_count": 455,
   "metadata": {},
   "outputs": [
    {
     "data": {
      "text/plain": [
       "array([  1.        ,   2.71828183,   7.3890561 ,  20.08553692,  54.59815003])"
      ]
     },
     "execution_count": 455,
     "metadata": {},
     "output_type": "execute_result"
    }
   ],
   "source": [
    "x = np.arange(5)\n",
    "np.exp(x)"
   ]
  },
  {
   "cell_type": "code",
   "execution_count": 456,
   "metadata": {},
   "outputs": [
    {
     "data": {
      "text/plain": [
       "array([-1.  , -0.75, -0.5 , -0.25,  0.  ])"
      ]
     },
     "execution_count": 456,
     "metadata": {},
     "output_type": "execute_result"
    }
   ],
   "source": [
    "np.linspace(-1, 0, 5)"
   ]
  },
  {
   "cell_type": "code",
   "execution_count": 457,
   "metadata": {},
   "outputs": [],
   "source": [
    "def set_weights(N):\n",
    "    weights_array = np.exp(np.linspace(-1, 0, N))\n",
    "    # 归一化\n",
    "    weights_array /= weights_array.sum()\n",
    "    return weights_array"
   ]
  },
  {
   "cell_type": "code",
   "execution_count": 458,
   "metadata": {},
   "outputs": [],
   "source": [
    "N = 10\n",
    "weights = set_weights(N)"
   ]
  },
  {
   "cell_type": "code",
   "execution_count": 459,
   "metadata": {},
   "outputs": [
    {
     "data": {
      "text/plain": [
       "array([ 0.05767151,  0.06444901,  0.072023  ,  0.08048708,  0.08994584,\n",
       "        0.10051619,  0.11232876,  0.12552954,  0.14028165,  0.15676742])"
      ]
     },
     "execution_count": 459,
     "metadata": {},
     "output_type": "execute_result"
    }
   ],
   "source": [
    "weights"
   ]
  },
  {
   "cell_type": "code",
   "execution_count": 460,
   "metadata": {},
   "outputs": [],
   "source": [
    "# 计算卷积\n",
    "sma = np.convolve(weights, close_2017)[N-1: -N+1] \n",
    "t = np.arange(N -1, len(close_2017))"
   ]
  },
  {
   "cell_type": "code",
   "execution_count": 461,
   "metadata": {},
   "outputs": [
    {
     "data": {
      "text/plain": [
       "<matplotlib.legend.Legend at 0x7f07ac8288d0>"
      ]
     },
     "execution_count": 461,
     "metadata": {},
     "output_type": "execute_result"
    },
    {
     "data": {
      "image/png": "[encoded data removed]",
      "text/plain": [
       "<matplotlib.figure.Figure at 0x7f07ac7efa58>"
      ]
     },
     "metadata": {},
     "output_type": "display_data"
    }
   ],
   "source": [
    "plt.xlabel('Day Index')\n",
    "plt.ylabel('Price')\n",
    "plt.title('{} days exp average'.format(N))\n",
    "\n",
    "plt.plot(t,close_2017[N-1:],lw=1.0, label = 'close')\n",
    "plt.plot(t, sma, lw=2.0, label = 'sma')\n",
    "plt.legend(loc = 'best', shadow=True, fontsize = 'large')"
   ]
  },
  {
   "cell_type": "markdown",
   "metadata": {},
   "source": [
    "### 布林带"
   ]
  },
  {
   "cell_type": "code",
   "execution_count": 462,
   "metadata": {},
   "outputs": [],
   "source": [
    "N= 20\n",
    "weights_20 = set_weights(N)"
   ]
  },
  {
   "cell_type": "code",
   "execution_count": 463,
   "metadata": {},
   "outputs": [],
   "source": [
    "sma_20 = np.convolve(weights_20, close_2017)[N-1: -N+1] \n",
    "t_20 = np.arange(N -1, len(close_2017))"
   ]
  },
  {
   "cell_type": "code",
   "execution_count": 464,
   "metadata": {},
   "outputs": [],
   "source": [
    "deviation = []\n",
    "C = len(close_2017)\n",
    "\n",
    "for i in range(N -1, C):\n",
    "    if i+N <C:\n",
    "        dev = close_2017[i: i+N]\n",
    "    else:\n",
    "        dev = close_2017[-N:]\n",
    "        \n",
    "    averages = np.zeros(N)\n",
    "    averages.fill(sma[i-N -1])\n",
    "    dev = dev - averages\n",
    "    dev = dev ** 2\n",
    "    dev = np.sqrt(np.mean(dev))\n",
    "    deviation.append(dev)\n",
    "    \n",
    "deviation = 2 * np.array(deviation)\n",
    "upperBB = sma_20 + deviation\n",
    "lowerBB = sma_20 - deviation"
   ]
  },
  {
   "cell_type": "code",
   "execution_count": 465,
   "metadata": {},
   "outputs": [
    {
     "data": {
      "text/plain": [
       "<matplotlib.legend.Legend at 0x7f07ac7a1358>"
      ]
     },
     "execution_count": 465,
     "metadata": {},
     "output_type": "execute_result"
    },
    {
     "data": {
      "image/png": "[encoded data removed]",
      "text/plain": [
       "<matplotlib.figure.Figure at 0x7f07ac7c3470>"
      ]
     },
     "metadata": {},
     "output_type": "display_data"
    }
   ],
   "source": [
    "plt.xlabel('Day Index')\n",
    "plt.ylabel('Price')\n",
    "plt.title('{} days exp average'.format(N))\n",
    "\n",
    "plt.plot(t_20,close_2017[N-1:],lw=1.0, label='close')\n",
    "plt.plot(t_20, sma_20, lw=2.0, label='sma')\n",
    "plt.plot(t_20, upperBB, lw=1, label='upper')\n",
    "plt.plot(t_20, lowerBB, lw=1, label='lower')\n",
    "plt.legend(loc = 'best', shadow=True, fontsize = 'large')"
   ]
  },
  {
   "cell_type": "markdown",
   "metadata": {},
   "source": [
    "### 线性模型"
   ]
  },
  {
   "cell_type": "code",
   "execution_count": 466,
   "metadata": {},
   "outputs": [
    {
     "data": {
      "text/plain": [
       "array([ 64.89,  64.83,  64.32,  64.2 ,  66.02])"
      ]
     },
     "execution_count": 466,
     "metadata": {},
     "output_type": "execute_result"
    }
   ],
   "source": [
    "N=5\n",
    "b = close_2017[-N:]\n",
    "b"
   ]
  },
  {
   "cell_type": "code",
   "execution_count": 467,
   "metadata": {},
   "outputs": [
    {
     "data": {
      "text/plain": [
       "array([ 66.02,  64.2 ,  64.32,  64.83,  64.89])"
      ]
     },
     "execution_count": 467,
     "metadata": {},
     "output_type": "execute_result"
    }
   ],
   "source": [
    "b = b[::-1]\n",
    "b"
   ]
  },
  {
   "cell_type": "code",
   "execution_count": 468,
   "metadata": {},
   "outputs": [
    {
     "data": {
      "text/plain": [
       "array([[ 0.,  0.,  0.,  0.,  0.],\n",
       "       [ 0.,  0.,  0.,  0.,  0.],\n",
       "       [ 0.,  0.,  0.,  0.,  0.],\n",
       "       [ 0.,  0.,  0.,  0.,  0.],\n",
       "       [ 0.,  0.,  0.,  0.,  0.]])"
      ]
     },
     "execution_count": 468,
     "metadata": {},
     "output_type": "execute_result"
    }
   ],
   "source": [
    "A = np.zeros((N,N),float)\n",
    "A"
   ]
  },
  {
   "cell_type": "code",
   "execution_count": 469,
   "metadata": {},
   "outputs": [
    {
     "data": {
      "text/plain": [
       "array([[ 63.75,  64.89,  64.83,  64.32,  64.2 ],\n",
       "       [ 63.34,  63.75,  64.89,  64.83,  64.32],\n",
       "       [ 63.63,  63.34,  63.75,  64.89,  64.83],\n",
       "       [ 61.22,  63.63,  63.34,  63.75,  64.89],\n",
       "       [ 61.51,  61.22,  63.63,  63.34,  63.75]])"
      ]
     },
     "execution_count": 469,
     "metadata": {},
     "output_type": "execute_result"
    }
   ],
   "source": [
    "for i in range(N):\n",
    "    A[i,] = close_2017[-N -1 -i : -1 -i]\n",
    "    \n",
    "A"
   ]
  },
  {
   "cell_type": "code",
   "execution_count": 470,
   "metadata": {},
   "outputs": [],
   "source": [
    "# 用最小二乘法拟合数据得到一个形如y = mx + c的线性方程\n",
    "# lstsq 是 LeaST SQuare （最小二乘\n",
    "\n",
    "(x, residuals, rank, s) = np.linalg.lstsq(A,b)"
   ]
  },
  {
   "cell_type": "code",
   "execution_count": 471,
   "metadata": {},
   "outputs": [
    {
     "name": "stdout",
     "output_type": "stream",
     "text": [
      "系数向量: [ 1.35538357 -0.22023188  1.19073974 -3.67164565  2.38114851]\n",
      "残差数组: []\n",
      "轶: 5\n",
      "奇异值:[ 318.79971819    1.86963496    1.75471526    1.0877576     0.3229591 ]\n"
     ]
    }
   ],
   "source": [
    "print(\"系数向量: {}\\n残差数组: {}\\n轶: {}\\n奇异值:{}\".format(x,residuals, rank,s))"
   ]
  },
  {
   "cell_type": "code",
   "execution_count": 472,
   "metadata": {},
   "outputs": [
    {
     "data": {
      "text/plain": [
       "68.411856627666793"
      ]
     },
     "execution_count": 472,
     "metadata": {},
     "output_type": "execute_result"
    }
   ],
   "source": [
    "# 最近N个价格构成的向量点积\n",
    "# 即预测股价\n",
    "\n",
    "np.dot(b,x)"
   ]
  },
  {
   "cell_type": "markdown",
   "metadata": {},
   "source": [
    "### 趋势线"
   ]
  },
  {
   "cell_type": "code",
   "execution_count": 473,
   "metadata": {},
   "outputs": [],
   "source": [
    "def fit_line(t, y):\n",
    "    A = np.vstack([t, np.ones_like(t)]).T\n",
    "    return np.linalg.lstsq(A, y)[0]\n",
    "h, l, c,v = np.loadtxt('input/600436_sublime_utf8_no_head.csv', delimiter=',', usecols=(2,3,4,7), unpack=True)\n",
    "pivots =(h + l + c)/3"
   ]
  },
  {
   "cell_type": "code",
   "execution_count": 474,
   "metadata": {},
   "outputs": [],
   "source": [
    "\n",
    "t = np.arange(len(c))\n",
    "sa, sb = fit_line(t, pivots - (h-l))\n",
    "ra, rb = fit_line(t, pivots + (h-l))\n",
    "\n",
    "support = sa * t + sb\n",
    "resistance = ra * t + rb"
   ]
  },
  {
   "cell_type": "code",
   "execution_count": 475,
   "metadata": {},
   "outputs": [
    {
     "data": {
      "text/plain": [
       "array([False, False, False, ..., False, False, False], dtype=bool)"
      ]
     },
     "execution_count": 475,
     "metadata": {},
     "output_type": "execute_result"
    }
   ],
   "source": [
    "condition = (c>support) & (c< resistance)\n",
    "condition"
   ]
  },
  {
   "cell_type": "code",
   "execution_count": 476,
   "metadata": {},
   "outputs": [],
   "source": [
    "between_bands = np.where(condition)"
   ]
  },
  {
   "cell_type": "code",
   "execution_count": 477,
   "metadata": {},
   "outputs": [
    {
     "data": {
      "text/plain": [
       "array([  2.6169647 ,   2.63117569,   2.64538667,   2.65959765,\n",
       "         2.67380863,   2.68801961,   2.7022306 ,   2.71644158,\n",
       "         2.75907452,   2.77328551,   3.07171612,   3.08592711,\n",
       "         3.14277103,   3.15698201,   3.171193  ,   3.27066987,\n",
       "         3.28488085,   3.29909183,   3.31330282,   3.3275138 ,\n",
       "         3.35593576,   3.37014674,   3.38435772,   3.39856871,\n",
       "         3.41277969,   3.44120165,   3.72542129,   3.89595307,\n",
       "         3.91016405,   3.92437503,   3.93858602,   3.952797  ,\n",
       "         3.96700798,   3.98121896,   3.99542994,   4.00964093,\n",
       "         4.02385191,   4.03806289,   6.78078239,   6.83762631,\n",
       "         7.2355338 ,   7.24974479,   7.26395577,   7.27816675,\n",
       "         7.29237773,   7.3207997 ,   7.34922166,   7.36343264,\n",
       "         7.3918546 ,   7.49133148,   7.50554246,   7.53396442,\n",
       "         7.5481754 ,   7.56238639,   7.60501933,   7.61923031,\n",
       "         7.6334413 ,   7.69028522,   7.73291817,   7.74712915,\n",
       "         7.77555111,   7.7897621 ,   7.80397308,   7.81818406,\n",
       "         7.83239504,   7.86081701,   7.87502799,   7.88923897,\n",
       "         7.90344995,   7.97450486,   7.98871584,   8.00292682,\n",
       "         8.04555977,   8.05977075,   8.07398173,  17.26848699,\n",
       "        17.28269797,  17.35375288,  17.36796386,  17.38217484,\n",
       "        17.4105968 ,  17.42480779,  17.43901877,  17.48165171,\n",
       "        17.51007368,  17.52428466,  17.53849564,  17.55270662,\n",
       "        17.56691761,  17.58112859,  22.78234794,  22.81076991,\n",
       "        22.8960358 ,  22.91024678,  22.92445776,  22.93866874,\n",
       "        22.95287972,  22.96709071,  22.98130169,  23.0523566 ,\n",
       "        23.06656758,  23.08077856,  23.09498954,  23.10920052,\n",
       "        23.13762249,  23.15183347,  23.16604445,  23.18025543,\n",
       "        23.19446642,  23.2086774 ,  23.22288838,  23.23709936,\n",
       "        23.42184213,  23.45026409,  23.63500685,  23.64921783,\n",
       "        23.66342882,  23.6776398 ,  23.69185078,  23.70606176,\n",
       "        23.72027274,  23.73448373,  23.74869471,  23.77711667,\n",
       "        23.79132765,  23.80553863,  23.96185944,  23.97607042,\n",
       "        24.48766576,  24.50187675,  24.60135362,  24.6155646 ,\n",
       "        24.62977558,  24.64398656,  24.67240853,  24.68661951,\n",
       "        24.70083049,  24.71504147,  24.75767442,  24.7718854 ,\n",
       "        24.80030736,  24.82872933,  24.84294031,  24.85715129,\n",
       "        25.41137958,  25.42559057,  25.43980155,  25.49664547,\n",
       "        25.78086511,  25.80928708,  25.88034198,  25.89455297,\n",
       "        25.95139689,  27.13090839,  27.14511937,  27.15933035,\n",
       "        27.2019633 ,  32.11896301,  32.133174  ,  32.14738498,\n",
       "        32.19001792,  33.48321727,  33.51163923,  33.58269414,\n",
       "        33.83849182,  33.8527028 ,  33.86691378,  33.88112476,\n",
       "        33.89533574,  33.90954673,  33.92375771,  33.93796869,\n",
       "        33.95217967,  34.33587618,  34.35008716,  34.74799466,\n",
       "        34.76220564,  34.7906276 ,  35.48696571,  35.50117669,\n",
       "        35.52959866,  35.54380964,  35.55802062,  35.5722316 ,\n",
       "        35.58644258,  35.60065357,  35.61486455,  35.62907553,\n",
       "        35.64328651,  35.65749749,  35.67170848,  35.79960731,\n",
       "        35.81381829,  35.82802928,  35.8848732 ,  35.89908418,\n",
       "        35.91329517,  35.95592811,  35.97013909,  36.02698302,\n",
       "        36.041194  ,  36.05540498,  36.06961597,  36.08382695,\n",
       "        36.09803793,  36.11224891,  36.16909284,  36.18330382,\n",
       "        36.1975148 ,  36.21172579,  36.22593677])"
      ]
     },
     "execution_count": 477,
     "metadata": {},
     "output_type": "execute_result"
    }
   ],
   "source": [
    "support[between_bands]"
   ]
  },
  {
   "cell_type": "code",
   "execution_count": 478,
   "metadata": {},
   "outputs": [
    {
     "data": {
      "text/plain": [
       "array([  2.9 ,   2.9 ,   2.74,   2.67,   2.74,   2.79,   2.84,   2.82,\n",
       "         2.83,   2.86,   3.43,   3.4 ,   3.5 ,   3.5 ,   3.51,   3.65,\n",
       "         3.58,   3.65,   3.65,   3.52,   3.46,   3.53,   3.57,   3.49,\n",
       "         3.49,   3.46,   3.76,   4.02,   4.06,   4.32,   4.27,   4.09,\n",
       "         4.25,   4.1 ,   4.3 ,   4.12,   4.25,   4.23,   7.03,   7.07,\n",
       "         7.29,   7.32,   7.57,   7.63,   7.75,   7.9 ,   7.85,   7.8 ,\n",
       "         7.98,   8.08,   7.98,   8.06,   7.94,   8.  ,   8.04,   7.91,\n",
       "         7.65,   7.77,   7.94,   7.78,   8.37,   8.29,   8.24,   8.4 ,\n",
       "         8.18,   8.45,   8.38,   8.08,   7.91,   8.29,   8.14,   8.47,\n",
       "         8.47,   8.4 ,   8.2 ,  18.4 ,  18.48,  18.55,  17.79,  17.87,\n",
       "        17.94,  17.89,  17.97,  17.51,  17.58,  18.06,  18.08,  17.63,\n",
       "        17.63,  17.7 ,  23.26,  23.61,  24.39,  24.44,  24.1 ,  23.92,\n",
       "        24.31,  23.94,  23.29,  24.23,  24.48,  24.48,  24.38,  23.67,\n",
       "        24.37,  24.45,  24.2 ,  23.65,  23.29,  23.24,  23.31,  23.63,\n",
       "        23.56,  23.46,  23.83,  23.82,  24.69,  24.58,  24.28,  24.44,\n",
       "        24.51,  25.11,  24.95,  25.31,  25.34,  24.05,  23.99,  24.19,\n",
       "        24.56,  25.33,  24.72,  25.1 ,  25.18,  25.09,  26.12,  25.42,\n",
       "        26.04,  25.19,  26.19,  25.23,  24.83,  24.99,  24.88,  25.78,\n",
       "        26.97,  26.76,  26.09,  27.17,  27.39,  27.45,  27.43,  27.47,\n",
       "        27.64,  28.91,  27.57,  27.48,  27.29,  32.32,  32.69,  32.64,\n",
       "        33.36,  34.17,  34.19,  33.87,  34.48,  34.17,  34.58,  35.18,\n",
       "        35.48,  34.98,  35.4 ,  34.36,  35.45,  36.12,  36.5 ,  35.19,\n",
       "        35.67,  35.53,  35.78,  36.19,  36.19,  36.75,  35.7 ,  36.12,\n",
       "        36.81,  37.04,  36.85,  36.78,  36.92,  36.08,  36.11,  36.16,\n",
       "        36.78,  36.42,  37.04,  36.68,  36.97,  38.04,  38.06,  37.17,\n",
       "        36.58,  36.88,  36.51,  37.72,  37.77,  37.78,  38.3 ,  37.24,\n",
       "        37.39,  38.19,  37.66])"
      ]
     },
     "execution_count": 478,
     "metadata": {},
     "output_type": "execute_result"
    }
   ],
   "source": [
    "c[between_bands]"
   ]
  },
  {
   "cell_type": "code",
   "execution_count": 479,
   "metadata": {},
   "outputs": [
    {
     "data": {
      "text/plain": [
       "array([  2.95769311,   2.97274462,   2.98779613,   3.00284764,\n",
       "         3.01789915,   3.03295066,   3.04800217,   3.06305368,\n",
       "         3.10820821,   3.12325972,   3.43934144,   3.45439295,\n",
       "         3.51459899,   3.5296505 ,   3.54470201,   3.65006258,\n",
       "         3.66511409,   3.6801656 ,   3.69521711,   3.71026862,\n",
       "         3.74037164,   3.75542315,   3.77047466,   3.78552617,\n",
       "         3.80057768,   3.8306807 ,   4.13171091,   4.31232903,\n",
       "         4.32738054,   4.34243205,   4.35748356,   4.37253507,\n",
       "         4.38758658,   4.40263809,   4.4176896 ,   4.43274111,\n",
       "         4.44779262,   4.46284413,   7.36778561,   7.42799165,\n",
       "         7.84943393,   7.86448545,   7.87953696,   7.89458847,\n",
       "         7.90963998,   7.939743  ,   7.96984602,   7.98489753,\n",
       "         8.01500055,   8.12036112,   8.13541263,   8.16551565,\n",
       "         8.18056716,   8.19561867,   8.2407732 ,   8.25582471,\n",
       "         8.27087622,   8.33108226,   8.37623679,   8.3912883 ,\n",
       "         8.42139132,   8.43644283,   8.45149434,   8.46654585,\n",
       "         8.48159736,   8.51170039,   8.5267519 ,   8.54180341,\n",
       "         8.55685492,   8.63211247,   8.64716398,   8.66221549,\n",
       "         8.70737002,   8.72242153,   8.73747304,  18.47580016,\n",
       "        18.49085167,  18.56610922,  18.58116073,  18.59621224,\n",
       "        18.62631526,  18.64136677,  18.65641828,  18.70157281,\n",
       "        18.73167583,  18.74672734,  18.76177885,  18.77683036,\n",
       "        18.79188187,  18.80693339,  24.31578613,  24.34588915,\n",
       "        24.43619821,  24.45124972,  24.46630123,  24.48135274,\n",
       "        24.49640425,  24.51145576,  24.52650727,  24.60176483,\n",
       "        24.61681634,  24.63186785,  24.64691936,  24.66197087,\n",
       "        24.69207389,  24.7071254 ,  24.72217691,  24.73722842,\n",
       "        24.75227993,  24.76733144,  24.78238295,  24.79743446,\n",
       "        24.99310409,  25.02320711,  25.21887674,  25.23392825,\n",
       "        25.24897977,  25.26403128,  25.27908279,  25.2941343 ,\n",
       "        25.30918581,  25.32423732,  25.33928883,  25.36939185,\n",
       "        25.38444336,  25.39949487,  25.56506148,  25.58011299,\n",
       "        26.12196736,  26.13701887,  26.24237944,  26.25743095,\n",
       "        26.27248246,  26.28753397,  26.31763699,  26.3326885 ,\n",
       "        26.34774001,  26.36279152,  26.40794605,  26.42299756,\n",
       "        26.45310058,  26.4832036 ,  26.49825511,  26.51330662,\n",
       "        27.10031552,  27.11536703,  27.13041854,  27.19062459,\n",
       "        27.49165479,  27.52175781,  27.59701536,  27.61206687,\n",
       "        27.67227291,  28.92154826,  28.93659977,  28.95165128,\n",
       "        28.99680581,  34.20462835,  34.21967986,  34.23473137,\n",
       "        34.27988591,  35.64957334,  35.67967636,  35.75493391,\n",
       "        36.02586109,  36.0409126 ,  36.05596411,  36.07101562,\n",
       "        36.08606713,  36.10111864,  36.11617015,  36.13122166,\n",
       "        36.14627317,  36.55266395,  36.56771546,  36.98915775,\n",
       "        37.00420926,  37.03431228,  37.77183628,  37.78688779,\n",
       "        37.81699081,  37.83204232,  37.84709383,  37.86214534,\n",
       "        37.87719685,  37.89224836,  37.90729987,  37.92235138,\n",
       "        37.93740289,  37.9524544 ,  37.96750591,  38.1029695 ,\n",
       "        38.11802101,  38.13307253,  38.19327857,  38.20833008,\n",
       "        38.22338159,  38.26853612,  38.28358763,  38.34379367,\n",
       "        38.35884518,  38.37389669,  38.3889482 ,  38.40399971,\n",
       "        38.41905122,  38.43410273,  38.49430877,  38.50936028,\n",
       "        38.52441179,  38.5394633 ,  38.55451481])"
      ]
     },
     "execution_count": 479,
     "metadata": {},
     "output_type": "execute_result"
    }
   ],
   "source": [
    "resistance[between_bands]"
   ]
  },
  {
   "cell_type": "code",
   "execution_count": 480,
   "metadata": {},
   "outputs": [
    {
     "data": {
      "text/plain": [
       "211"
      ]
     },
     "execution_count": 480,
     "metadata": {},
     "output_type": "execute_result"
    }
   ],
   "source": [
    "len(np.ravel(between_bands))"
   ]
  },
  {
   "cell_type": "code",
   "execution_count": 481,
   "metadata": {},
   "outputs": [
    {
     "data": {
      "text/plain": [
       "'明日支撑 40.97240470314693'"
      ]
     },
     "execution_count": 481,
     "metadata": {},
     "output_type": "execute_result"
    }
   ],
   "source": [
    "\"明日支撑 {}\".format(sa * (t[-1] + 1) + sb)"
   ]
  },
  {
   "cell_type": "code",
   "execution_count": 482,
   "metadata": {},
   "outputs": [
    {
     "data": {
      "text/plain": [
       "'明日阻力 40.694504212918446'"
      ]
     },
     "execution_count": 482,
     "metadata": {},
     "output_type": "execute_result"
    }
   ],
   "source": [
    "\"明日阻力 {}\".format(sa * (t[-1] + 1) + rb)"
   ]
  },
  {
   "cell_type": "markdown",
   "metadata": {},
   "source": [
    "### 支撑 阻力 方法2"
   ]
  },
  {
   "cell_type": "code",
   "execution_count": 483,
   "metadata": {},
   "outputs": [],
   "source": [
    "a1 = c[c>support]\n",
    "a2 = c[c<resistance]"
   ]
  },
  {
   "cell_type": "code",
   "execution_count": 484,
   "metadata": {},
   "outputs": [
    {
     "data": {
      "text/plain": [
       "305"
      ]
     },
     "execution_count": 484,
     "metadata": {},
     "output_type": "execute_result"
    }
   ],
   "source": [
    "len(np.intersect1d(a1,a2))"
   ]
  },
  {
   "cell_type": "code",
   "execution_count": 485,
   "metadata": {},
   "outputs": [
    {
     "data": {
      "text/plain": [
       "<matplotlib.legend.Legend at 0x7f07ad09b4a8>"
      ]
     },
     "execution_count": 485,
     "metadata": {},
     "output_type": "execute_result"
    },
    {
     "data": {
      "image/png": "[encoded data removed]",
      "text/plain": [
       "<matplotlib.figure.Figure at 0x7f07aca31320>"
      ]
     },
     "metadata": {},
     "output_type": "display_data"
    }
   ],
   "source": [
    "# plt.xlabel('Day Index')\n",
    "# plt.ylabel('Price')\n",
    "# plt.title('{} days exp average'.format(N))\n",
    "\n",
    "plt.plot(t[-100:],c[-100:],lw=1.0, label='c')\n",
    "plt.plot(t[-100:], support[-100:], lw=2.0,label='support')\n",
    "plt.plot(t[-100:], resistance[-100:], lw=1.0, label='resistance')\n",
    "plt.legend(loc = 'best', shadow=True, fontsize = 'large')"
   ]
  },
  {
   "cell_type": "markdown",
   "metadata": {},
   "source": [
    "### 数组的修剪和压缩\n",
    "\n",
    "clip 返回一个修剪过的数组\n",
    "\n",
    "compress 返回删选后的数组"
   ]
  },
  {
   "cell_type": "code",
   "execution_count": 486,
   "metadata": {},
   "outputs": [
    {
     "name": "stdout",
     "output_type": "stream",
     "text": [
      "a :[0 1 2 3 4]\n"
     ]
    },
    {
     "data": {
      "text/plain": [
       "array([1, 1, 2, 3, 3])"
      ]
     },
     "execution_count": 486,
     "metadata": {},
     "output_type": "execute_result"
    }
   ],
   "source": [
    "a = np.arange(5)\n",
    "print(\"a :{}\".format(a))\n",
    "\n",
    "a.clip(1,3)"
   ]
  },
  {
   "cell_type": "code",
   "execution_count": 487,
   "metadata": {},
   "outputs": [
    {
     "data": {
      "text/plain": [
       "array([3, 4])"
      ]
     },
     "execution_count": 487,
     "metadata": {},
     "output_type": "execute_result"
    }
   ],
   "source": [
    "a.compress(a>2)"
   ]
  },
  {
   "cell_type": "markdown",
   "metadata": {},
   "source": [
    "ndarray 中\n",
    "\n",
    "1. prod 计算数组中所有元素乘积\n",
    "2. cumprod计算数组元素累积乘积"
   ]
  },
  {
   "cell_type": "code",
   "execution_count": 488,
   "metadata": {},
   "outputs": [
    {
     "data": {
      "text/plain": [
       "array([1, 2, 3, 4, 5, 6, 7, 8])"
      ]
     },
     "execution_count": 488,
     "metadata": {},
     "output_type": "execute_result"
    }
   ],
   "source": [
    "b = np.arange(1,9)\n",
    "b"
   ]
  },
  {
   "cell_type": "code",
   "execution_count": 489,
   "metadata": {},
   "outputs": [
    {
     "data": {
      "text/plain": [
       "40320"
      ]
     },
     "execution_count": 489,
     "metadata": {},
     "output_type": "execute_result"
    }
   ],
   "source": [
    "b.prod()"
   ]
  },
  {
   "cell_type": "code",
   "execution_count": 490,
   "metadata": {},
   "outputs": [
    {
     "data": {
      "text/plain": [
       "array([    1,     2,     6,    24,   120,   720,  5040, 40320])"
      ]
     },
     "execution_count": 490,
     "metadata": {},
     "output_type": "execute_result"
    }
   ],
   "source": [
    "b.cumprod()"
   ]
  },
  {
   "cell_type": "code",
   "execution_count": 491,
   "metadata": {},
   "outputs": [
    {
     "data": {
      "application/javascript": [
       "$.getScript('https://kmahelona.github.io/ipython_notebook_goodies/ipython_notebook_toc.js')"
      ],
      "text/plain": [
       "<IPython.core.display.Javascript object>"
      ]
     },
     "metadata": {},
     "output_type": "display_data"
    }
   ],
   "source": [
    "%%javascript\n",
    "$.getScript('https://kmahelona.github.io/ipython_notebook_goodies/ipython_notebook_toc.js')"
   ]
  }
 ],
 "metadata": {
  "kernelspec": {
   "display_name": "Python 3",
   "language": "python",
   "name": "python3"
  },
  "language_info": {
   "codemirror_mode": {
    "name": "ipython",
    "version": 3
   },
   "file_extension": ".py",
   "mimetype": "text/x-python",
   "name": "python",
   "nbconvert_exporter": "python",
   "pygments_lexer": "ipython3",
   "version": "3.6.4"
  }
 },
 "nbformat": 4,
 "nbformat_minor": 2
}
