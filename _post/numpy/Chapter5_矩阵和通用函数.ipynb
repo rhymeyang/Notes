{
 "cells": [
  {
   "cell_type": "markdown",
   "metadata": {},
   "source": [
    "<h1 id=\"tocheading\">矩阵和通用函数</h1>\n",
    "<div id=\"toc\"></div>\n",
    "\n",
    "+ 通用函数 universal functions 即 `ufuncs`"
   ]
  },
  {
   "cell_type": "markdown",
   "metadata": {},
   "source": [
    "doc \n",
    "\n",
    "+ [秩 - 线性代数](https://zh.wikipedia.org/wiki/秩_(线性代数))\n",
    "+ [PEP 238 -- Changing the Division Operator](https://www.python.org/dev/peps/pep-0238/)\n",
    "\n",
    "内容\n",
    "\n",
    "+ 矩阵创建\n",
    "+ 矩阵运算\n",
    "+ 基本通用函数\n",
    "+ 三角函数\n",
    "+ 位运算函数\n",
    "+ 比较函数\n",
    "\n",
    "知识点\n",
    "\n",
    "+ np.mat"
   ]
  },
  {
   "cell_type": "markdown",
   "metadata": {},
   "source": [
    "## 矩阵\n",
    "\n",
    "mat 函数创建矩阵时，若输入 已为 matrix 或 ndarray对象，则不会为其创建副本，因此，调用mat函数和调用 matrix(data, copy=False)等价。"
   ]
  },
  {
   "cell_type": "code",
   "execution_count": 158,
   "metadata": {},
   "outputs": [],
   "source": [
    "import numpy as np"
   ]
  },
  {
   "cell_type": "code",
   "execution_count": 159,
   "metadata": {},
   "outputs": [
    {
     "data": {
      "text/plain": [
       "matrix([[1, 2, 3],\n",
       "        [4, 5, 6],\n",
       "        [7, 8, 9]])"
      ]
     },
     "execution_count": 159,
     "metadata": {},
     "output_type": "execute_result"
    }
   ],
   "source": [
    "\n",
    "A = np.mat('1 2 3; 4 5 6; 7 8 9')\n",
    "A"
   ]
  },
  {
   "cell_type": "code",
   "execution_count": 160,
   "metadata": {},
   "outputs": [
    {
     "data": {
      "text/plain": [
       "matrix([[1, 4, 7],\n",
       "        [2, 5, 8],\n",
       "        [3, 6, 9]])"
      ]
     },
     "execution_count": 160,
     "metadata": {},
     "output_type": "execute_result"
    }
   ],
   "source": [
    "A.T"
   ]
  },
  {
   "cell_type": "code",
   "execution_count": 161,
   "metadata": {},
   "outputs": [
    {
     "data": {
      "text/plain": [
       "matrix([[0, 1, 2],\n",
       "        [3, 4, 5],\n",
       "        [6, 7, 8]])"
      ]
     },
     "execution_count": 161,
     "metadata": {},
     "output_type": "execute_result"
    }
   ],
   "source": [
    "np.mat(np.arange(9).reshape(3,3))"
   ]
  },
  {
   "cell_type": "markdown",
   "metadata": {},
   "source": [
    "## 已有矩阵创建新矩阵\n",
    "\n",
    "利用已有小矩阵，创建新的大矩阵，使用 bmat 函数可实现, b 表示`分块`， bmat 即分块矩阵(block matrix)"
   ]
  },
  {
   "cell_type": "code",
   "execution_count": 162,
   "metadata": {},
   "outputs": [
    {
     "data": {
      "text/plain": [
       "array([[ 1.,  0.],\n",
       "       [ 0.,  1.]])"
      ]
     },
     "execution_count": 162,
     "metadata": {},
     "output_type": "execute_result"
    }
   ],
   "source": [
    "A = np.eye(2)\n",
    "A"
   ]
  },
  {
   "cell_type": "code",
   "execution_count": 163,
   "metadata": {},
   "outputs": [
    {
     "data": {
      "text/plain": [
       "array([[ 2.,  0.],\n",
       "       [ 0.,  2.]])"
      ]
     },
     "execution_count": 163,
     "metadata": {},
     "output_type": "execute_result"
    }
   ],
   "source": [
    "B = 2* A\n",
    "B"
   ]
  },
  {
   "cell_type": "code",
   "execution_count": 164,
   "metadata": {},
   "outputs": [
    {
     "data": {
      "text/plain": [
       "matrix([[ 1.,  0.,  2.,  0.],\n",
       "        [ 0.,  1.,  0.,  2.],\n",
       "        [ 1.,  0.,  2.,  0.],\n",
       "        [ 0.,  1.,  0.,  2.]])"
      ]
     },
     "execution_count": 164,
     "metadata": {},
     "output_type": "execute_result"
    }
   ],
   "source": [
    "np.bmat(\"A B; A B\")"
   ]
  },
  {
   "cell_type": "markdown",
   "metadata": {},
   "source": [
    "## 通用函数\n",
    "\n",
    "通用函数，输入输出 均是标量"
   ]
  },
  {
   "cell_type": "code",
   "execution_count": 165,
   "metadata": {},
   "outputs": [],
   "source": [
    "def ultimate_answer(a):\n",
    "    result = np.zeros_like(a)\n",
    "    result.flat = 42\n",
    "    return result"
   ]
  },
  {
   "cell_type": "code",
   "execution_count": 166,
   "metadata": {},
   "outputs": [
    {
     "data": {
      "text/plain": [
       "array([array(42), array(42), array(42), array(42)], dtype=object)"
      ]
     },
     "execution_count": 166,
     "metadata": {},
     "output_type": "execute_result"
    }
   ],
   "source": [
    "ufunc = np.frompyfunc(ultimate_answer, 1, 1)\n",
    "ufunc(np.arange(4))"
   ]
  },
  {
   "cell_type": "code",
   "execution_count": 167,
   "metadata": {},
   "outputs": [
    {
     "data": {
      "text/plain": [
       "array(42)"
      ]
     },
     "execution_count": 167,
     "metadata": {},
     "output_type": "execute_result"
    }
   ],
   "source": [
    "ultimate_answer(3)"
   ]
  },
  {
   "cell_type": "markdown",
   "metadata": {},
   "source": [
    "### 通用函数方法\n",
    "\n",
    "+ reduce\n",
    "+ accumulate\n",
    "+ reduceat\n",
    "+ outer\n",
    "    -  返回一个数组，他的轶(rank)等于两个输入数组的轶的和。作用与两个输入数组直接存在的所有元素对"
   ]
  },
  {
   "cell_type": "code",
   "execution_count": 168,
   "metadata": {},
   "outputs": [
    {
     "data": {
      "text/plain": [
       "array([0, 1, 2, 3, 4, 5, 6, 7, 8])"
      ]
     },
     "execution_count": 168,
     "metadata": {},
     "output_type": "execute_result"
    }
   ],
   "source": [
    "a = np.arange(9)\n",
    "a"
   ]
  },
  {
   "cell_type": "code",
   "execution_count": 169,
   "metadata": {},
   "outputs": [
    {
     "data": {
      "text/plain": [
       "36"
      ]
     },
     "execution_count": 169,
     "metadata": {},
     "output_type": "execute_result"
    }
   ],
   "source": [
    "np.add.reduce(a)"
   ]
  },
  {
   "cell_type": "code",
   "execution_count": 170,
   "metadata": {},
   "outputs": [
    {
     "data": {
      "text/plain": [
       "array([ 0,  1,  3,  6, 10, 15, 21, 28, 36])"
      ]
     },
     "execution_count": 170,
     "metadata": {},
     "output_type": "execute_result"
    }
   ],
   "source": [
    "np.add.accumulate(a)"
   ]
  },
  {
   "cell_type": "markdown",
   "metadata": {},
   "source": [
    "#### reduceat 解释\n",
    "\n",
    "1. 索引值列表中0，5， 即在数组中索引值在0导5之间元素进行reduce操作\n",
    "2. 索引值5， 2，由于 2 小于5，直接返回索引值为5的元素\n",
    "3. 索引值2， 7\n",
    "4. 索引值 7"
   ]
  },
  {
   "cell_type": "code",
   "execution_count": 171,
   "metadata": {},
   "outputs": [
    {
     "data": {
      "text/plain": [
       "array([10,  5, 20, 15])"
      ]
     },
     "execution_count": 171,
     "metadata": {},
     "output_type": "execute_result"
    }
   ],
   "source": [
    "np.add.reduceat(a, [0,5,2,7])"
   ]
  },
  {
   "cell_type": "code",
   "execution_count": 172,
   "metadata": {},
   "outputs": [
    {
     "name": "stdout",
     "output_type": "stream",
     "text": [
      "reduce 0 5:\t10\n",
      "reduce 5:\t5\n",
      "reduce 2 7:\t20\n",
      "reduce 7:\t15\n"
     ]
    }
   ],
   "source": [
    "print(\"reduce 0 5:\\t{}\".format(np.add.reduce(a[0:5])))\n",
    "print(\"reduce 5:\\t{}\".format(np.add.reduce(a[5])))\n",
    "print(\"reduce 2 7:\\t{}\".format(np.add.reduce(a[2:7])))\n",
    "print(\"reduce 7:\\t{}\".format(np.add.reduce(a[7:])))"
   ]
  },
  {
   "cell_type": "code",
   "execution_count": 173,
   "metadata": {},
   "outputs": [
    {
     "data": {
      "text/plain": [
       "array([[ 0,  1,  2,  3,  4,  5,  6,  7,  8],\n",
       "       [ 1,  2,  3,  4,  5,  6,  7,  8,  9],\n",
       "       [ 2,  3,  4,  5,  6,  7,  8,  9, 10]])"
      ]
     },
     "execution_count": 173,
     "metadata": {},
     "output_type": "execute_result"
    }
   ],
   "source": [
    "np.add.outer(np.arange(3),a)"
   ]
  },
  {
   "cell_type": "markdown",
   "metadata": {},
   "source": [
    "## 算术运算\n",
    "\n",
    "NumPy中，算术运算 `+` `-` `*` 隐式关联着通用函数 `add`, `subtract`,`multiply`。 即当对NumPy数组使用这些运算符时，对应通用函数将自动调用。\n",
    "\n",
    "除法过程较复杂，数组除法运算中涉及 三个通用函数 `divide`,`true_divide`, `floor_division`，以及两个对应运算符 `/`, `//`\n",
    "\n",
    "+ divide, python2 仅保留整数部分，python 3中，浮点运算\n",
    "+ python3 中divide 和 true_divide 已无区别\n",
    "+ 默认情况`/`调用divide,`//`调用 floor_divide"
   ]
  },
  {
   "cell_type": "code",
   "execution_count": 174,
   "metadata": {},
   "outputs": [],
   "source": [
    "a = np.array([2,6,5])\n",
    "b = np.array([1,2,3])"
   ]
  },
  {
   "cell_type": "code",
   "execution_count": 175,
   "metadata": {},
   "outputs": [
    {
     "data": {
      "text/plain": [
       "array([ 2.        ,  3.        ,  1.66666667])"
      ]
     },
     "execution_count": 175,
     "metadata": {},
     "output_type": "execute_result"
    }
   ],
   "source": [
    "np.divide(a,b)"
   ]
  },
  {
   "cell_type": "code",
   "execution_count": 176,
   "metadata": {},
   "outputs": [
    {
     "data": {
      "text/plain": [
       "array([ 0.5       ,  0.33333333,  0.6       ])"
      ]
     },
     "execution_count": 176,
     "metadata": {},
     "output_type": "execute_result"
    }
   ],
   "source": [
    "# python 2, 全 0\n",
    "np.divide(b,a)"
   ]
  },
  {
   "cell_type": "code",
   "execution_count": 177,
   "metadata": {},
   "outputs": [
    {
     "data": {
      "text/plain": [
       "array([ 2.        ,  3.        ,  1.66666667])"
      ]
     },
     "execution_count": 177,
     "metadata": {},
     "output_type": "execute_result"
    }
   ],
   "source": [
    "np.true_divide(a,b)"
   ]
  },
  {
   "cell_type": "code",
   "execution_count": 178,
   "metadata": {},
   "outputs": [
    {
     "data": {
      "text/plain": [
       "array([ 0.5       ,  0.33333333,  0.6       ])"
      ]
     },
     "execution_count": 178,
     "metadata": {},
     "output_type": "execute_result"
    }
   ],
   "source": [
    "np.true_divide(b, a)"
   ]
  },
  {
   "cell_type": "code",
   "execution_count": 179,
   "metadata": {},
   "outputs": [
    {
     "data": {
      "text/plain": [
       "array([2, 3, 1])"
      ]
     },
     "execution_count": 179,
     "metadata": {},
     "output_type": "execute_result"
    }
   ],
   "source": [
    "np.floor_divide(a,b)"
   ]
  },
  {
   "cell_type": "code",
   "execution_count": 180,
   "metadata": {},
   "outputs": [
    {
     "data": {
      "text/plain": [
       "array([0, 0, 0])"
      ]
     },
     "execution_count": 180,
     "metadata": {},
     "output_type": "execute_result"
    }
   ],
   "source": [
    "np.floor_divide(b, a)"
   ]
  },
  {
   "cell_type": "code",
   "execution_count": 181,
   "metadata": {},
   "outputs": [
    {
     "data": {
      "text/plain": [
       "array([ 2.        ,  3.        ,  1.66666667])"
      ]
     },
     "execution_count": 181,
     "metadata": {},
     "output_type": "execute_result"
    }
   ],
   "source": [
    "a/b"
   ]
  },
  {
   "cell_type": "code",
   "execution_count": 182,
   "metadata": {},
   "outputs": [
    {
     "data": {
      "text/plain": [
       "array([2, 3, 1])"
      ]
     },
     "execution_count": 182,
     "metadata": {},
     "output_type": "execute_result"
    }
   ],
   "source": [
    "a//b"
   ]
  },
  {
   "cell_type": "code",
   "execution_count": 183,
   "metadata": {},
   "outputs": [
    {
     "name": "stdout",
     "output_type": "stream",
     "text": [
      "a\n",
      "[2 6 5]\n",
      "b\n",
      "[1 2 3]\n",
      "c\n",
      "[ 3.14  6.28  9.42]\n",
      "\n",
      "Divide\t[ 2.          3.          1.66666667]\t[ 0.5         0.33333333  0.6       ]\n",
      "TrueDivide\t[ 2.          3.          1.66666667]\t[ 0.5         0.33333333  0.6       ]\n",
      "Floor Divide\t[2 3 1]\t[0 0 0]\n",
      "\n",
      "Floor Divide 2\t[ 3.  3.  3.]\t[ 0.  0.  0.]\n",
      "/ operator\t[ 2.          3.          1.66666667]\t[ 0.5         0.33333333  0.6       ]\n",
      "// operator\t[2 3 1]\t[0 0 0]\n",
      "// operator 2\t[ 3.  3.  3.]\t[ 0.  0.  0.]\n"
     ]
    }
   ],
   "source": [
    "from __future__ import division\n",
    "\n",
    "def test():\n",
    "    \n",
    "    import numpy as np\n",
    "    \n",
    "    a = np.array([2,6,5])\n",
    "    b = np.array([1,2,3])\n",
    "    c = 3.14 * b\n",
    "    print(\"a\\n{}\".format(a))\n",
    "    print(\"b\\n{}\".format(b))\n",
    "    print(\"c\\n{}\".format(c))\n",
    "    print('')\n",
    "    print(\"Divide\\t{}\\t{}\".format(np.divide(a,b), np.divide(b,a)))\n",
    "    print(\"TrueDivide\\t{}\\t{}\".format(np.true_divide(a,b), np.true_divide(b,a)))\n",
    "    print(\"Floor Divide\\t{}\\t{}\".format(np.floor_divide(a,b), np.floor_divide(b,a)))\n",
    "    \n",
    "    print('')\n",
    "    print(\"Floor Divide 2\\t{}\\t{}\".format(np.floor_divide(c,b), np.floor_divide(b,c)))\n",
    "    print(\"/ operator\\t{}\\t{}\".format(a/b,b/a))\n",
    "    print(\"// operator\\t{}\\t{}\".format(a//b,b//a))\n",
    "    print(\"// operator 2\\t{}\\t{}\".format(c//b,b//c))\n",
    "    \n",
    "test()"
   ]
  },
  {
   "cell_type": "markdown",
   "metadata": {},
   "source": [
    "## 模运算\n",
    "\n",
    "NumPy中 `mod`, `remainder`, `fmod`，或`%`\n",
    "\n",
    "差异主要在于处理负数的方式，fmod 不同于其他函数"
   ]
  },
  {
   "cell_type": "code",
   "execution_count": 184,
   "metadata": {},
   "outputs": [
    {
     "data": {
      "text/plain": [
       "array([-4, -3, -2, -1,  0,  1,  2,  3])"
      ]
     },
     "execution_count": 184,
     "metadata": {},
     "output_type": "execute_result"
    }
   ],
   "source": [
    "a= np.arange(-4, 4)\n",
    "a"
   ]
  },
  {
   "cell_type": "code",
   "execution_count": 185,
   "metadata": {},
   "outputs": [
    {
     "data": {
      "text/plain": [
       "array([0, 1, 0, 1, 0, 1, 0, 1])"
      ]
     },
     "execution_count": 185,
     "metadata": {},
     "output_type": "execute_result"
    }
   ],
   "source": [
    "np.remainder(a,2)"
   ]
  },
  {
   "cell_type": "code",
   "execution_count": 186,
   "metadata": {},
   "outputs": [
    {
     "data": {
      "text/plain": [
       "array([0, 1, 0, 1, 0, 1, 0, 1])"
      ]
     },
     "execution_count": 186,
     "metadata": {},
     "output_type": "execute_result"
    }
   ],
   "source": [
    "a % 2"
   ]
  },
  {
   "cell_type": "code",
   "execution_count": 187,
   "metadata": {},
   "outputs": [
    {
     "data": {
      "text/plain": [
       "array([ 0, -1,  0, -1,  0,  1,  0,  1])"
      ]
     },
     "execution_count": 187,
     "metadata": {},
     "output_type": "execute_result"
    }
   ],
   "source": [
    "np.fmod(a,2)"
   ]
  },
  {
   "cell_type": "markdown",
   "metadata": {},
   "source": [
    "## 斐波那契数列\n",
    "\n",
    "+ matrix, 创建矩阵\n",
    "+ rint， 对浮点数取整，但结果仍是浮点数\n",
    "+ 比奈公式 Binet's Formula\n",
    "    - 利用黄金分割公式(Binet's Formula)加上取整函数，可以直接计算斐波那契数列"
   ]
  },
  {
   "cell_type": "code",
   "execution_count": 188,
   "metadata": {},
   "outputs": [
    {
     "data": {
      "text/plain": [
       "matrix([[1, 1],\n",
       "        [1, 0]])"
      ]
     },
     "execution_count": 188,
     "metadata": {},
     "output_type": "execute_result"
    }
   ],
   "source": [
    "F = np.matrix([[1,1], [1,0]])\n",
    "F"
   ]
  },
  {
   "cell_type": "code",
   "execution_count": 189,
   "metadata": {},
   "outputs": [
    {
     "name": "stdout",
     "output_type": "stream",
     "text": [
      "8 th Fibonacci\n"
     ]
    },
    {
     "data": {
      "text/plain": [
       "21"
      ]
     },
     "execution_count": 189,
     "metadata": {},
     "output_type": "execute_result"
    }
   ],
   "source": [
    "print(\"8 th Fibonacci\")\n",
    "\n",
    "(F ** 7)[0,0]"
   ]
  },
  {
   "cell_type": "code",
   "execution_count": 190,
   "metadata": {},
   "outputs": [
    {
     "data": {
      "text/plain": [
       "array([1, 2, 3, 4, 5, 6, 7, 8])"
      ]
     },
     "execution_count": 190,
     "metadata": {},
     "output_type": "execute_result"
    }
   ],
   "source": [
    "n = np.arange(1,9)\n",
    "n"
   ]
  },
  {
   "cell_type": "code",
   "execution_count": 191,
   "metadata": {},
   "outputs": [
    {
     "data": {
      "text/plain": [
       "array([  1.,   1.,   2.,   3.,   5.,   8.,  13.,  21.])"
      ]
     },
     "execution_count": 191,
     "metadata": {},
     "output_type": "execute_result"
    }
   ],
   "source": [
    "sqrt5 = np.sqrt(5)\n",
    "phi = (1 + sqrt5)/2\n",
    "fibonacci = np.rint((phi ** n - (-1/phi)**n)/sqrt5)\n",
    "fibonacci"
   ]
  },
  {
   "cell_type": "markdown",
   "metadata": {},
   "source": [
    "## 利萨茹曲线\n",
    "\n",
    "NumPy中，所有标准三角函数如 sin, cos, tan 均有对应通用函数.Lissajous curve 是一种使用三角函数的方式。\n",
    "\n",
    "利萨茹曲线定义\n",
    "\n",
    "+ $x = Asin(at + n/2)$\n",
    "+ $y = B sin(bt)$\n",
    "\n",
    "参数包含 A,B,a,b"
   ]
  },
  {
   "cell_type": "code",
   "execution_count": 192,
   "metadata": {},
   "outputs": [],
   "source": [
    "A = 1\n",
    "B = 1\n",
    "a = 9\n",
    "b = 8\n",
    "t = np.linspace(-np.pi, np.pi, 201)"
   ]
  },
  {
   "cell_type": "code",
   "execution_count": 193,
   "metadata": {},
   "outputs": [],
   "source": [
    "x= A * np.sin(a * t + np.pi/2)\n",
    "y = B * np.sin(b * t)"
   ]
  },
  {
   "cell_type": "code",
   "execution_count": 194,
   "metadata": {},
   "outputs": [],
   "source": [
    "import matplotlib.pyplot as plt\n",
    "%matplotlib inline"
   ]
  },
  {
   "cell_type": "code",
   "execution_count": 195,
   "metadata": {},
   "outputs": [
    {
     "data": {
      "text/plain": [
       "Text(0.5,1,'Lissajous Curve')"
      ]
     },
     "execution_count": 195,
     "metadata": {},
     "output_type": "execute_result"
    },
    {
     "data": {
      "image/png": "[encoded data removed]",
      "text/plain": [
       "<matplotlib.figure.Figure at 0x7f72e20b9ba8>"
      ]
     },
     "metadata": {},
     "output_type": "display_data"
    }
   ],
   "source": [
    "plt.plot(x, y)\n",
    "plt.title('Lissajous Curve')"
   ]
  },
  {
   "cell_type": "markdown",
   "metadata": {},
   "source": [
    "## 方波\n",
    "\n",
    "近似表示多个正弦波的叠加。任意一个方波信号都可以用无穷傅立叶级数表示\n",
    "\n",
    "方波可以用如下函数表示：$$\\sum_{k=1}^\\infty\\cfrac{4sin((2k-1)t)}{(2k -1)\\pi}$$"
   ]
  },
  {
   "cell_type": "code",
   "execution_count": 196,
   "metadata": {},
   "outputs": [],
   "source": [
    "t = np.linspace(-np.pi, np.pi ,201)\n",
    "k = np.arange(1, 99.)\n",
    "k = 2 * k - 1\n",
    "f = np.zeros_like(t)"
   ]
  },
  {
   "cell_type": "code",
   "execution_count": 197,
   "metadata": {},
   "outputs": [],
   "source": [
    "# for i in range(len(t)):\n",
    "#     f[i] = np.sum(np.sin(k * t[i])/k)\n",
    "# f = (4 / np.pi) * f\n",
    "\n",
    "\n",
    "def calc_block_wave(ti):\n",
    "    return np.sum(np.sin(k * ti)/k)\n",
    "    \n",
    "func = np.vectorize(calc_block_wave)\n",
    "\n",
    "f = func(t)\n",
    "f = (4 / np.pi) * f"
   ]
  },
  {
   "cell_type": "code",
   "execution_count": 198,
   "metadata": {},
   "outputs": [
    {
     "data": {
      "text/plain": [
       "Text(0.5,1,'block wave')"
      ]
     },
     "execution_count": 198,
     "metadata": {},
     "output_type": "execute_result"
    },
    {
     "data": {
      "image/png": "[encoded data removed]",
      "text/plain": [
       "<matplotlib.figure.Figure at 0x7f72e28912e8>"
      ]
     },
     "metadata": {},
     "output_type": "display_data"
    }
   ],
   "source": [
    "plt.plot(t,f)\n",
    "plt.title('block wave')"
   ]
  },
  {
   "cell_type": "code",
   "execution_count": null,
   "metadata": {},
   "outputs": [],
   "source": []
  },
  {
   "cell_type": "code",
   "execution_count": null,
   "metadata": {},
   "outputs": [],
   "source": []
  },
  {
   "cell_type": "code",
   "execution_count": null,
   "metadata": {},
   "outputs": [],
   "source": []
  },
  {
   "cell_type": "markdown",
   "metadata": {},
   "source": [
    "## 锯齿波和三角波\n",
    "\n",
    "+ 锯齿波 : $$\\sum_{k=1}^\\infty\\cfrac{-2sin(2\\pi k t)}{k\\pi}$$\n",
    "+ 锯齿波 取 绝对值 即为三角波"
   ]
  },
  {
   "cell_type": "code",
   "execution_count": 199,
   "metadata": {},
   "outputs": [],
   "source": [
    "t = np.linspace(-np.pi, np.pi, 201)\n",
    "k = np.arange(1,99)\n",
    "f = np.zeros_like(t)"
   ]
  },
  {
   "cell_type": "code",
   "execution_count": 200,
   "metadata": {},
   "outputs": [],
   "source": [
    "# for i in range(len(t)):\n",
    "#     f[i] = np.sum(np.sin(2 * np.pi * k * t[i])/k)\n",
    "# f = (-2/np.pi) * f\n",
    "\n",
    "def calc_trangle_wave(ti):\n",
    "    return  np.sum(np.sin(2 * np.pi * k * ti)/k)\n",
    "    \n",
    "func = np.vectorize(calc_trangle_wave)\n",
    "\n",
    "f = func(t)\n",
    "f = (-2/np.pi) * f"
   ]
  },
  {
   "cell_type": "code",
   "execution_count": 201,
   "metadata": {},
   "outputs": [
    {
     "data": {
      "text/plain": [
       "<matplotlib.legend.Legend at 0x7f72e1db5a90>"
      ]
     },
     "execution_count": 201,
     "metadata": {},
     "output_type": "execute_result"
    },
    {
     "data": {
      "image/png": "[encoded data removed]",
      "text/plain": [
       "<matplotlib.figure.Figure at 0x7f72e1e9a358>"
      ]
     },
     "metadata": {},
     "output_type": "display_data"
    }
   ],
   "source": [
    "plt.plot(t,f, label='org')\n",
    "plt.plot(t,np.abs(f), label='abs')\n",
    "plt.legend(loc='best')"
   ]
  },
  {
   "cell_type": "markdown",
   "metadata": {},
   "source": [
    "## 位操作函数 比较函数\n",
    "\n",
    "+ 位操作\n",
    "    - 整数、整数数组，都是通用函数 `^`, `&`, `\\`, `<<`, `>>`\n",
    "+ 比较\n",
    "    - `<` `>` `==`\n",
    "+ `XOR` `^` 不等\n",
    "    - `^` 对应于 `bitwise_xor`\n",
    "+ `<<` left_shift"
   ]
  },
  {
   "cell_type": "code",
   "execution_count": 202,
   "metadata": {},
   "outputs": [],
   "source": [
    "x = np.arange(-9, 9)\n",
    "y = -x"
   ]
  },
  {
   "cell_type": "code",
   "execution_count": 203,
   "metadata": {},
   "outputs": [
    {
     "name": "stdout",
     "output_type": "stream",
     "text": [
      "sign different \n",
      "[-9 -8 -7 -6 -5 -4 -3 -2 -1  0  1  2  3  4  5  6  7  8]\n"
     ]
    },
    {
     "data": {
      "text/plain": [
       "array([ True,  True,  True,  True,  True,  True,  True,  True,  True,\n",
       "       False,  True,  True,  True,  True,  True,  True,  True,  True], dtype=bool)"
      ]
     },
     "execution_count": 203,
     "metadata": {},
     "output_type": "execute_result"
    }
   ],
   "source": [
    "print(\"sign different \")\n",
    "print(x)\n",
    "(x^y)<0"
   ]
  },
  {
   "cell_type": "code",
   "execution_count": 204,
   "metadata": {},
   "outputs": [
    {
     "name": "stdout",
     "output_type": "stream",
     "text": [
      "sign different \n",
      "[[-9 -8 -7 -6 -5 -4 -3 -2 -1  0  1  2  3  4  5  6  7  8]\n",
      " [ 1  1  1  1  1  1  1  1  1  0  1  1  1  1  1  1  1  1]]\n"
     ]
    }
   ],
   "source": [
    "print(\"sign different \")\n",
    "rst = np.less(np.bitwise_xor(x,y), 0)\n",
    "print(np.vstack((x,rst)))\n"
   ]
  },
  {
   "cell_type": "code",
   "execution_count": 205,
   "metadata": {},
   "outputs": [
    {
     "name": "stdout",
     "output_type": "stream",
     "text": [
      "Power of 2\n",
      "[-9 -8 -7 -6 -5 -4 -3 -2 -1  0  1  2  3  4  5  6  7  8]\n"
     ]
    },
    {
     "data": {
      "text/plain": [
       "array([False, False, False, False, False, False, False, False, False,\n",
       "        True,  True,  True, False,  True, False, False, False,  True], dtype=bool)"
      ]
     },
     "execution_count": 205,
     "metadata": {},
     "output_type": "execute_result"
    }
   ],
   "source": [
    "print(\"Power of 2\")\n",
    "print(x)\n",
    "(x & (x -1)) == 0"
   ]
  },
  {
   "cell_type": "code",
   "execution_count": 206,
   "metadata": {},
   "outputs": [
    {
     "name": "stdout",
     "output_type": "stream",
     "text": [
      "Power of 2\n",
      "[-9 -8 -7 -6 -5 -4 -3 -2 -1  0  1  2  3  4  5  6  7  8]\n"
     ]
    },
    {
     "data": {
      "text/plain": [
       "array([False, False, False, False, False, False, False, False, False,\n",
       "        True,  True,  True, False,  True, False, False, False,  True], dtype=bool)"
      ]
     },
     "execution_count": 206,
     "metadata": {},
     "output_type": "execute_result"
    }
   ],
   "source": [
    "print(\"Power of 2\")\n",
    "print(x)\n",
    "np.equal(np.bitwise_and(x, x-1), 0)"
   ]
  },
  {
   "cell_type": "markdown",
   "metadata": {},
   "source": [
    "计算余数的技巧实际在模为2的幂数如4，8，16 时有效。 \n",
    "\n",
    "`<<` left_shift"
   ]
  },
  {
   "cell_type": "code",
   "execution_count": 207,
   "metadata": {},
   "outputs": [
    {
     "name": "stdout",
     "output_type": "stream",
     "text": [
      "Modulus 4\n",
      "[-9 -8 -7 -6 -5 -4 -3 -2 -1  0  1  2  3  4  5  6  7  8]\n"
     ]
    },
    {
     "data": {
      "text/plain": [
       "array([3, 0, 1, 2, 3, 0, 1, 2, 3, 0, 1, 2, 3, 0, 1, 2, 3, 0])"
      ]
     },
     "execution_count": 207,
     "metadata": {},
     "output_type": "execute_result"
    }
   ],
   "source": [
    "print(\"Modulus 4\")\n",
    "print(x)\n",
    "x & ((1 <<2) -1)"
   ]
  },
  {
   "cell_type": "code",
   "execution_count": 208,
   "metadata": {},
   "outputs": [
    {
     "name": "stdout",
     "output_type": "stream",
     "text": [
      "Modulus 4\n",
      "[-9 -8 -7 -6 -5 -4 -3 -2 -1  0  1  2  3  4  5  6  7  8]\n"
     ]
    },
    {
     "data": {
      "text/plain": [
       "array([3, 0, 1, 2, 3, 0, 1, 2, 3, 0, 1, 2, 3, 0, 1, 2, 3, 0])"
      ]
     },
     "execution_count": 208,
     "metadata": {},
     "output_type": "execute_result"
    }
   ],
   "source": [
    "print(\"Modulus 4\")\n",
    "print(x)\n",
    "np.bitwise_and(x, np.left_shift(1,2) -1)"
   ]
  },
  {
   "cell_type": "code",
   "execution_count": 209,
   "metadata": {},
   "outputs": [
    {
     "data": {
      "application/javascript": [
       "$.getScript('https://kmahelona.github.io/ipython_notebook_goodies/ipython_notebook_toc.js')"
      ],
      "text/plain": [
       "<IPython.core.display.Javascript object>"
      ]
     },
     "metadata": {},
     "output_type": "display_data"
    }
   ],
   "source": [
    "%%javascript\n",
    "$.getScript('https://kmahelona.github.io/ipython_notebook_goodies/ipython_notebook_toc.js')"
   ]
  }
 ],
 "metadata": {
  "kernelspec": {
   "display_name": "Python 3",
   "language": "python",
   "name": "python3"
  },
  "language_info": {
   "codemirror_mode": {
    "name": "ipython",
    "version": 3
   },
   "file_extension": ".py",
   "mimetype": "text/x-python",
   "name": "python",
   "nbconvert_exporter": "python",
   "pygments_lexer": "ipython3",
   "version": "3.6.4"
  }
 },
 "nbformat": 4,
 "nbformat_minor": 2
}
