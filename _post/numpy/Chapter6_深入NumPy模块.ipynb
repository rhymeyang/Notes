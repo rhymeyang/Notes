{
 "cells": [
  {
   "cell_type": "markdown",
   "metadata": {},
   "source": [
    "<h1 id=\"tocheading\">Chapter6_深入NumPy模块</h1>\n",
    "<div id=\"toc\"></div>\n",
    "\n",
    "NumPy一些模块在SciPy中也有对应部分，并且功能可能更加丰富。\n",
    "\n",
    "numpy.dual 模块包含同时在NumPy 和SciPy中定义的函数"
   ]
  },
  {
   "cell_type": "markdown",
   "metadata": {},
   "source": [
    "知识点\n",
    "\n",
    "+ linalg 模块\n",
    "    - 包含线性代数的函数\n",
    "    - `np.linalg.inv` 逆矩阵\n",
    "+ fft 模块\n",
    "    - fft模块提供了快速傅立叶变换的功能\n",
    "+ 随机数\n",
    "    - random\n",
    "    - hypergeometric\n",
    "+ 连续分布 离散分布\n",
    "\n",
    "## 逆矩阵"
   ]
  },
  {
   "cell_type": "code",
   "execution_count": 84,
   "metadata": {},
   "outputs": [],
   "source": [
    "import numpy as np"
   ]
  },
  {
   "cell_type": "code",
   "execution_count": 85,
   "metadata": {},
   "outputs": [
    {
     "data": {
      "text/plain": [
       "matrix([[ 0,  1,  2],\n",
       "        [ 1,  0,  3],\n",
       "        [ 4, -3,  8]])"
      ]
     },
     "execution_count": 85,
     "metadata": {},
     "output_type": "execute_result"
    }
   ],
   "source": [
    "A = np.mat(\"0 1 2; 1 0 3; 4 -3 8\")\n",
    "A"
   ]
  },
  {
   "cell_type": "code",
   "execution_count": 86,
   "metadata": {},
   "outputs": [
    {
     "data": {
      "text/plain": [
       "matrix([[-4.5,  7. , -1.5],\n",
       "        [-2. ,  4. , -1. ],\n",
       "        [ 1.5, -2. ,  0.5]])"
      ]
     },
     "execution_count": 86,
     "metadata": {},
     "output_type": "execute_result"
    }
   ],
   "source": [
    "inverse = np.linalg.inv(A)\n",
    "inverse"
   ]
  },
  {
   "cell_type": "code",
   "execution_count": 87,
   "metadata": {},
   "outputs": [
    {
     "data": {
      "text/plain": [
       "matrix([[ 1.,  0.,  0.],\n",
       "        [ 0.,  1.,  0.],\n",
       "        [ 0.,  0.,  1.]])"
      ]
     },
     "execution_count": 87,
     "metadata": {},
     "output_type": "execute_result"
    }
   ],
   "source": [
    "A * inverse"
   ]
  },
  {
   "cell_type": "markdown",
   "metadata": {},
   "source": [
    ">如果输入的是奇异矩阵或非方阵，会抛出LinAlgError异常\n",
    "\n",
    "奇异矩阵，即行列式为0的矩阵"
   ]
  },
  {
   "cell_type": "code",
   "execution_count": 88,
   "metadata": {},
   "outputs": [
    {
     "data": {
      "text/plain": [
       "matrix([[ 0,  1,  2],\n",
       "        [ 1,  0,  3],\n",
       "        [ 4, -3,  8],\n",
       "        [ 1,  1,  1]])"
      ]
     },
     "execution_count": 88,
     "metadata": {},
     "output_type": "execute_result"
    }
   ],
   "source": [
    "test = np.mat(\"0 1 2; 1 0 3; 4 -3 8; 1 1 1\")\n",
    "test"
   ]
  },
  {
   "cell_type": "code",
   "execution_count": 89,
   "metadata": {},
   "outputs": [
    {
     "name": "stdout",
     "output_type": "stream",
     "text": [
      "LinAlgError: Last 2 dimensions of the array must be square\n"
     ]
    }
   ],
   "source": [
    "try:\n",
    "    np.linalg.inv(test)\n",
    "except Exception as ex:\n",
    "    print(\"LinAlgError: {}\".format(ex))"
   ]
  },
  {
   "cell_type": "markdown",
   "metadata": {},
   "source": [
    "## 求解线性方程组\n",
    "\n",
    "矩阵对向量进行线性变换，对应于数学中的线性方程组。 `numpy.linalg`中`solve`可以求解 如`Ax =b`的线性方程组。A为矩阵，b为一维或二维数组。\n",
    "\n",
    "dot 点积，检查求解是否正确"
   ]
  },
  {
   "cell_type": "code",
   "execution_count": 90,
   "metadata": {},
   "outputs": [
    {
     "data": {
      "text/plain": [
       "matrix([[ 1, -2,  1],\n",
       "        [ 0,  2, -8],\n",
       "        [-4,  5,  9]])"
      ]
     },
     "execution_count": 90,
     "metadata": {},
     "output_type": "execute_result"
    }
   ],
   "source": [
    "A = np.mat(\"1 -2 1; 0 2 -8; -4 5 9\")\n",
    "A"
   ]
  },
  {
   "cell_type": "code",
   "execution_count": 91,
   "metadata": {},
   "outputs": [
    {
     "data": {
      "text/plain": [
       "array([ 0,  8, -9])"
      ]
     },
     "execution_count": 91,
     "metadata": {},
     "output_type": "execute_result"
    }
   ],
   "source": [
    "b = np.array([0,8,-9])\n",
    "b"
   ]
  },
  {
   "cell_type": "code",
   "execution_count": 92,
   "metadata": {},
   "outputs": [
    {
     "data": {
      "text/plain": [
       "array([ 29.,  16.,   3.])"
      ]
     },
     "execution_count": 92,
     "metadata": {},
     "output_type": "execute_result"
    }
   ],
   "source": [
    "x = np.linalg.solve(A,b)\n",
    "x"
   ]
  },
  {
   "cell_type": "code",
   "execution_count": 93,
   "metadata": {},
   "outputs": [
    {
     "data": {
      "text/plain": [
       "matrix([[ 0.,  8., -9.]])"
      ]
     },
     "execution_count": 93,
     "metadata": {},
     "output_type": "execute_result"
    }
   ],
   "source": [
    "np.dot(A,x)"
   ]
  },
  {
   "cell_type": "markdown",
   "metadata": {},
   "source": [
    "## 特征值 特征向量\n",
    "\n",
    "+ 特征值 eigenvalue 即方程${\\bf A}x=ax$的根，是标量，A二维矩阵，x 一维向量。\n",
    "+ 特征向量 eigenvector 是关于特征值的向量。 \n",
    "+ numpy.linalg中 `eigvals`计算特征值 `eig` 返回一个包含特征值和对应特征向量的元组"
   ]
  },
  {
   "cell_type": "code",
   "execution_count": 94,
   "metadata": {},
   "outputs": [
    {
     "data": {
      "text/plain": [
       "matrix([[ 3, -2],\n",
       "        [ 1,  0]])"
      ]
     },
     "execution_count": 94,
     "metadata": {},
     "output_type": "execute_result"
    }
   ],
   "source": [
    "A = np.mat(\"3 -2; 1 0\")\n",
    "A"
   ]
  },
  {
   "cell_type": "code",
   "execution_count": 95,
   "metadata": {},
   "outputs": [
    {
     "name": "stdout",
     "output_type": "stream",
     "text": [
      "特征值\n"
     ]
    },
    {
     "data": {
      "text/plain": [
       "array([ 2.,  1.])"
      ]
     },
     "execution_count": 95,
     "metadata": {},
     "output_type": "execute_result"
    }
   ],
   "source": [
    "print(\"特征值\")\n",
    "np.linalg.eigvals(A)"
   ]
  },
  {
   "cell_type": "code",
   "execution_count": 96,
   "metadata": {},
   "outputs": [
    {
     "name": "stdout",
     "output_type": "stream",
     "text": [
      "特征值\n",
      "[ 2.  1.]\n",
      "特征向量\n"
     ]
    },
    {
     "data": {
      "text/plain": [
       "matrix([[ 0.89442719,  0.70710678],\n",
       "        [ 0.4472136 ,  0.70710678]])"
      ]
     },
     "execution_count": 96,
     "metadata": {},
     "output_type": "execute_result"
    }
   ],
   "source": [
    "eigenvalues, eigenvectors = np.linalg.eig(A)\n",
    "\n",
    "print(\"特征值\")\n",
    "print(eigenvalues)\n",
    "\n",
    "print(\"特征向量\")\n",
    "eigenvectors"
   ]
  },
  {
   "cell_type": "code",
   "execution_count": 97,
   "metadata": {},
   "outputs": [
    {
     "name": "stdout",
     "output_type": "stream",
     "text": [
      "Left [[ 1.78885438]\n",
      " [ 0.89442719]]\n",
      "Right [[ 1.78885438]\n",
      " [ 0.89442719]]\n",
      "\n",
      "Left [[ 0.70710678]\n",
      " [ 0.70710678]]\n",
      "Right [[ 0.70710678]\n",
      " [ 0.70710678]]\n",
      "\n"
     ]
    }
   ],
   "source": [
    "for i in range(len(eigenvalues)):\n",
    "    print(\"Left {}\".format(np.dot(A, eigenvectors[:,i])))\n",
    "    print(\"Right {}\".format(eigenvalues[i] * eigenvectors[:,i]))\n",
    "    print(\"\")"
   ]
  },
  {
   "cell_type": "markdown",
   "metadata": {},
   "source": [
    "## 奇异值分解\n",
    "\n",
    "SVD（Singular Value Decomposition）是一种因子分解运算，将一个矩阵分解为3 个矩阵的乘积。 奇异值分解是前面讨论过的特征值分解的一种推广。\n",
    "\n",
    "svd 函数可以对矩阵进行奇异值分解，返回3个矩阵 - U, Sigma V, U 和V是正交矩阵，Sigma包含输入矩阵的奇异值\n",
    "\n",
    "$$ M = U\\sum V^*$$\n",
    "\n",
    "星号表示厄米共轭(Hermitian conjugate) 或 共轭转置(conjugate transpose)\n"
   ]
  },
  {
   "cell_type": "code",
   "execution_count": 98,
   "metadata": {},
   "outputs": [
    {
     "data": {
      "text/plain": [
       "matrix([[ 4, 11, 14],\n",
       "        [ 8,  7, -2]])"
      ]
     },
     "execution_count": 98,
     "metadata": {},
     "output_type": "execute_result"
    }
   ],
   "source": [
    "A = np.mat(\"4 11 14; 8 7 -2\")\n",
    "A"
   ]
  },
  {
   "cell_type": "code",
   "execution_count": 99,
   "metadata": {},
   "outputs": [
    {
     "name": "stdout",
     "output_type": "stream",
     "text": [
      "U\n",
      "[[-0.9486833  -0.31622777]\n",
      " [-0.31622777  0.9486833 ]]\n",
      "Sigma\n",
      "[ 18.97366596   9.48683298]\n",
      "V\n",
      "[[-0.33333333 -0.66666667 -0.66666667]\n",
      " [ 0.66666667  0.33333333 -0.66666667]]\n"
     ]
    }
   ],
   "source": [
    "U, Sigma, V = np.linalg.svd(A, full_matrices=False)\n",
    "print(\"U\")\n",
    "print(U)\n",
    "print(\"Sigma\")\n",
    "print(Sigma)\n",
    "print(\"V\")\n",
    "print(V)"
   ]
  },
  {
   "cell_type": "markdown",
   "metadata": {},
   "source": [
    "没有得到真正的中间的奇异值矩阵 - 得到的只是其对角线上的值，而非对角线的值均为0.使用 diag函数生成完整奇异矩阵"
   ]
  },
  {
   "cell_type": "code",
   "execution_count": 100,
   "metadata": {},
   "outputs": [
    {
     "data": {
      "text/plain": [
       "matrix([[  4.,  11.,  14.],\n",
       "        [  8.,   7.,  -2.]])"
      ]
     },
     "execution_count": 100,
     "metadata": {},
     "output_type": "execute_result"
    }
   ],
   "source": [
    "U * np.diag(Sigma) * V"
   ]
  },
  {
   "cell_type": "markdown",
   "metadata": {},
   "source": [
    "## 广义逆矩阵\n",
    "\n",
    "摩尔 彭罗斯广义逆矩阵(Moore-Penrose pseudoinverse) 使用pinv 函数求解\n",
    "\n",
    "+ inv 仅接受方阵作为输入矩阵\n",
    "+ pinv 没有方阵限制"
   ]
  },
  {
   "cell_type": "code",
   "execution_count": 101,
   "metadata": {},
   "outputs": [
    {
     "data": {
      "text/plain": [
       "matrix([[ 4, 11, 14],\n",
       "        [ 8,  7, -2]])"
      ]
     },
     "execution_count": 101,
     "metadata": {},
     "output_type": "execute_result"
    }
   ],
   "source": [
    "A = np.mat(\"4 11 14; 8 7 -2\")\n",
    "A"
   ]
  },
  {
   "cell_type": "code",
   "execution_count": 102,
   "metadata": {},
   "outputs": [
    {
     "data": {
      "text/plain": [
       "matrix([[-0.00555556,  0.07222222],\n",
       "        [ 0.02222222,  0.04444444],\n",
       "        [ 0.05555556, -0.05555556]])"
      ]
     },
     "execution_count": 102,
     "metadata": {},
     "output_type": "execute_result"
    }
   ],
   "source": [
    "pseudoinv = np.linalg.pinv(A)\n",
    "pseudoinv"
   ]
  },
  {
   "cell_type": "code",
   "execution_count": 103,
   "metadata": {},
   "outputs": [
    {
     "data": {
      "text/plain": [
       "matrix([[  1.00000000e+00,  -9.29811783e-16],\n",
       "        [ -1.66533454e-16,   1.00000000e+00]])"
      ]
     },
     "execution_count": 103,
     "metadata": {},
     "output_type": "execute_result"
    }
   ],
   "source": [
    "A * pseudoinv"
   ]
  },
  {
   "cell_type": "markdown",
   "metadata": {},
   "source": [
    "## 行列式\n",
    "\n",
    "行列式(determinant)是与方阵相关的一个标量值。对于一个 nXn实数矩阵，行列式描述的是一个线性变换对“有向体积”造成的影响。\n",
    "\n",
    "行列式的值为正，表示保持了空间的定向（顺时针/逆时针），为负表示颠倒了空间的定向。\n",
    "\n",
    "det函数计算矩阵的行列式"
   ]
  },
  {
   "cell_type": "code",
   "execution_count": 104,
   "metadata": {},
   "outputs": [
    {
     "data": {
      "text/plain": [
       "matrix([[3, 4],\n",
       "        [5, 6]])"
      ]
     },
     "execution_count": 104,
     "metadata": {},
     "output_type": "execute_result"
    }
   ],
   "source": [
    "A = np.mat(\"3 4; 5 6\")\n",
    "A"
   ]
  },
  {
   "cell_type": "code",
   "execution_count": 105,
   "metadata": {},
   "outputs": [
    {
     "data": {
      "text/plain": [
       "-1.9999999999999971"
      ]
     },
     "execution_count": 105,
     "metadata": {},
     "output_type": "execute_result"
    }
   ],
   "source": [
    "np.linalg.det(A)"
   ]
  },
  {
   "cell_type": "markdown",
   "metadata": {},
   "source": [
    "## 快速傅立叶变换\n",
    "\n",
    "FFT(Fast Fourier Transform)是一种高效的计算DFT(Discrete Fourier Transform)算法。 FFT算法比根据定义直接计算更快，计算复杂度 O(NlogN)。 DFT在信号处理、图像处理、求解偏微分方程等方面有应用。\n",
    "\n",
    "NumPy中，fft模块提供了快速傅立叶变换的功能。该模块中，很多函数称对存在，即很多函数存在对应的逆操作函数，如fft和ifft"
   ]
  },
  {
   "cell_type": "code",
   "execution_count": 114,
   "metadata": {},
   "outputs": [
    {
     "data": {
      "text/plain": [
       "True"
      ]
     },
     "execution_count": 114,
     "metadata": {},
     "output_type": "execute_result"
    }
   ],
   "source": [
    "# 创建包含30个点的余弦波信号\n",
    "\n",
    "x = np.linspace(0,2 * np.pi, 30)\n",
    "wave = np.cos(x)\n",
    "\n",
    "# 使用fft对余弦波信号进行傅立叶变换\n",
    "transformed = np.fft.fft(wave)\n",
    "\n",
    "# 对变换后的结果应用ifft函数，近似还原初始信号\n",
    "org_back = np.fft.ifft(transformed)\n",
    "\n",
    "np.all(np.abs(org_back - wave)< 10 ** -9)"
   ]
  },
  {
   "cell_type": "code",
   "execution_count": 117,
   "metadata": {},
   "outputs": [],
   "source": [
    "import matplotlib.pyplot as plt\n",
    "%matplotlib inline\n",
    "\n",
    "import warnings\n",
    "warnings.filterwarnings('ignore')"
   ]
  },
  {
   "cell_type": "code",
   "execution_count": 118,
   "metadata": {},
   "outputs": [
    {
     "data": {
      "text/plain": [
       "[<matplotlib.lines.Line2D at 0x7fadc686e2b0>]"
      ]
     },
     "execution_count": 118,
     "metadata": {},
     "output_type": "execute_result"
    },
    {
     "data": {
      "image/png": "[encoded data removed]",
      "text/plain": [
       "<matplotlib.figure.Figure at 0x7fadc6e23cc0>"
      ]
     },
     "metadata": {},
     "output_type": "display_data"
    }
   ],
   "source": [
    "plt.plot(transformed)"
   ]
  },
  {
   "cell_type": "markdown",
   "metadata": {},
   "source": [
    "## 移频\n",
    "\n",
    "fftshift 可以将fft输出中的直流分量移动到频谱中央，ifftshift是其逆操作"
   ]
  },
  {
   "cell_type": "code",
   "execution_count": 119,
   "metadata": {},
   "outputs": [
    {
     "data": {
      "text/plain": [
       "True"
      ]
     },
     "execution_count": 119,
     "metadata": {},
     "output_type": "execute_result"
    }
   ],
   "source": [
    "x = np.linspace(0, 2 * np.pi, 30)\n",
    "wave = np.cos(x)\n",
    "\n",
    "transformed = np.fft.fft(wave)\n",
    "\n",
    "shifted = np.fft.fftshift(transformed)\n",
    "\n",
    "np.all((np.fft.ifftshift(shifted) - transformed) < 10 ** -9)"
   ]
  },
  {
   "cell_type": "code",
   "execution_count": 120,
   "metadata": {},
   "outputs": [
    {
     "data": {
      "text/plain": [
       "<matplotlib.legend.Legend at 0x7fadc6393208>"
      ]
     },
     "execution_count": 120,
     "metadata": {},
     "output_type": "execute_result"
    },
    {
     "data": {
      "image/png": "[encoded data removed]",
      "text/plain": [
       "<matplotlib.figure.Figure at 0x7fadc683f550>"
      ]
     },
     "metadata": {},
     "output_type": "display_data"
    }
   ],
   "source": [
    "plt.plot(transformed, label='transformed')\n",
    "plt.plot(shifted, label='shifted')\n",
    "plt.legend(loc='best')"
   ]
  },
  {
   "cell_type": "markdown",
   "metadata": {},
   "source": [
    "## 随机数\n",
    "\n",
    "随机数在蒙特卡罗(Monto Carlo method)、随机积分等很多方面有应用。实际常使用伪随机数。\n",
    "\n",
    "random模块\n",
    "\n",
    "随机数发生器核心算法基于马特赛特旋转演算法(Mersenne Twister algorithm)，随机数从离散分布或连续分布中产生。"
   ]
  },
  {
   "cell_type": "code",
   "execution_count": 121,
   "metadata": {},
   "outputs": [],
   "source": [
    "cash = np.zeros(10000)\n",
    "cash[0] = 1000\n",
    "outcome = np.random.binomial(9, 0.5, size = len(cash))\n"
   ]
  },
  {
   "cell_type": "code",
   "execution_count": 124,
   "metadata": {},
   "outputs": [
    {
     "name": "stdout",
     "output_type": "stream",
     "text": [
      "0\n",
      "9\n"
     ]
    }
   ],
   "source": [
    "for i in range(1, len(cash)):\n",
    "    if outcome[i]<5:\n",
    "        cash[i] = cash[i-1] -1\n",
    "    elif outcome[i]<10:\n",
    "        cash[i] = cash[i-1] + 1\n",
    "    else:\n",
    "        raise AssertionError(\"Unexpected outcome {}\".format(outcome))\n",
    "        \n",
    "print(outcome.min())\n",
    "print(outcome.max())\n",
    "        "
   ]
  },
  {
   "cell_type": "code",
   "execution_count": 126,
   "metadata": {},
   "outputs": [
    {
     "data": {
      "text/plain": [
       "[<matplotlib.lines.Line2D at 0x7fadc6834be0>]"
      ]
     },
     "execution_count": 126,
     "metadata": {},
     "output_type": "execute_result"
    },
    {
     "data": {
      "image/png": "[encoded data removed]",
      "text/plain": [
       "<matplotlib.figure.Figure at 0x7fadc67d8e48>"
      ]
     },
     "metadata": {},
     "output_type": "display_data"
    }
   ],
   "source": [
    "plt.plot(np.arange(len(cash)),cash)"
   ]
  },
  {
   "cell_type": "markdown",
   "metadata": {},
   "source": [
    "剩余资本呈随机游走(random walk)状态\n",
    "\n",
    "## 超几何分布\n",
    "\n",
    "超几何分布(hypergeometric distribution)是一种离散概率分布，描述罐子里有两种物件，无放回的从中抽取指定数量的物件后，抽出指定种类物件的数量。\n",
    "\n",
    "random 模块中hypergeometric函数可模拟"
   ]
  },
  {
   "cell_type": "code",
   "execution_count": null,
   "metadata": {},
   "outputs": [],
   "source": []
  },
  {
   "cell_type": "code",
   "execution_count": null,
   "metadata": {},
   "outputs": [],
   "source": []
  },
  {
   "cell_type": "code",
   "execution_count": null,
   "metadata": {},
   "outputs": [],
   "source": []
  },
  {
   "cell_type": "code",
   "execution_count": null,
   "metadata": {},
   "outputs": [],
   "source": []
  },
  {
   "cell_type": "code",
   "execution_count": null,
   "metadata": {},
   "outputs": [],
   "source": [
    "## "
   ]
  },
  {
   "cell_type": "code",
   "execution_count": null,
   "metadata": {},
   "outputs": [],
   "source": []
  },
  {
   "cell_type": "code",
   "execution_count": null,
   "metadata": {},
   "outputs": [],
   "source": []
  },
  {
   "cell_type": "code",
   "execution_count": null,
   "metadata": {},
   "outputs": [],
   "source": []
  },
  {
   "cell_type": "code",
   "execution_count": null,
   "metadata": {},
   "outputs": [],
   "source": []
  },
  {
   "cell_type": "code",
   "execution_count": 125,
   "metadata": {},
   "outputs": [
    {
     "data": {
      "application/javascript": [
       "$.getScript('https://kmahelona.github.io/ipython_notebook_goodies/ipython_notebook_toc.js')"
      ],
      "text/plain": [
       "<IPython.core.display.Javascript object>"
      ]
     },
     "metadata": {},
     "output_type": "display_data"
    }
   ],
   "source": [
    "%%javascript\n",
    "$.getScript('https://kmahelona.github.io/ipython_notebook_goodies/ipython_notebook_toc.js')"
   ]
  },
  {
   "cell_type": "code",
   "execution_count": null,
   "metadata": {},
   "outputs": [],
   "source": []
  }
 ],
 "metadata": {
  "kernelspec": {
   "display_name": "Python 3",
   "language": "python",
   "name": "python3"
  },
  "language_info": {
   "codemirror_mode": {
    "name": "ipython",
    "version": 3
   },
   "file_extension": ".py",
   "mimetype": "text/x-python",
   "name": "python",
   "nbconvert_exporter": "python",
   "pygments_lexer": "ipython3",
   "version": "3.6.4"
  }
 },
 "nbformat": 4,
 "nbformat_minor": 2
}
