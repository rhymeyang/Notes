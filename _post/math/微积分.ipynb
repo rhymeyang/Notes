{
 "cells": [
  {
   "cell_type": "markdown",
   "metadata": {},
   "source": [
    "<h1 id=\"tocheading\">映射与函数</h1>\n",
    "<div id=\"toc\"></div>"
   ]
  },
  {
   "cell_type": "markdown",
   "metadata": {},
   "source": [
    "## 1. 集合 区间 邻域\n",
    "\n",
    "###  集合基本运算\n",
    "\n",
    "+ 交，$A\\bigcap B = \\{x| x \\in A \\quad and \\quad x \\in B\\}$\n",
    "+ 并，$A \\bigcup B = \\{x | x \\in A \\quad or \\quad x \\in B\\}$\n",
    "+ 差，$A - B = \\{x | x \\in A \\quad and \\quad x \\not\\in B\\}$\n",
    "+ 直积，$A \\times B = \\{ (x,y)| x\\in A, y \\in B\\}$"
   ]
  },
  {
   "cell_type": "markdown",
   "metadata": {},
   "source": [
    "### 邻域\n",
    "\n",
    "以点 $x_0$ 为中心， $\\delta(\\delta >0 )$ 为半径的开区间 $(x_0 - \\delta, x_0 + \\delta)$ ,称为 $x_0$ 的 $\\delta$ `邻域`，记做 $U(x_0,\\delta)$\n",
    "\n",
    "即\n",
    "\n",
    "$U(x_0, \\delta) = (x_0 -\\delta, x_0 + \\delta) = \\{x | |x-x_0| < \\delta \\}$\n",
    "\n",
    "不说明半径时，简记为$U(x_0)$\n",
    "\n",
    "去心 $\\delta$ 邻域 $U(\\hat{x_0}, \\delta)$\n",
    "\n",
    "$$ U(\\hat{x_0}, \\delta)  =  U(x_0, \\delta) - \\{x_0\\} \\\\ \\quad \\quad  = (x_0 - \\delta, x_0) \\cup (x_0, x_0 + \\delta) \\\\  =  \\{ x | 0< |x - x_0| < \\delta \\} $$\n",
    "\n",
    "+ $\\forall$ 表是对每一个\n",
    "+ $\\exists$ 存在"
   ]
  },
  {
   "cell_type": "markdown",
   "metadata": {},
   "source": [
    "## 2 映射\n",
    "\n",
    "$f: X \\rightarrow Y$\n",
    "\n",
    "或： \n",
    "\n",
    "$f: x \\mapsto y = f(x), x \\in X$\n",
    "\n",
    "y称为元素x在映射f下的象，元素x称为元素y在映射f下的`原象`（`逆象`）\n",
    "\n",
    "X 映射f的`定义域`，记做 $D(f) = X$\n",
    "\n",
    "Y 映射f的`值域`，记为$R(f) 或f(X)$\n",
    "\n",
    "即：\n",
    "\n",
    "$R(f) = f(X) = \\{y | y = f(x), x \\in X \\}$\n",
    "\n",
    "集合Y中每个元素在集合X中都有原象，即为`满射`\n",
    "\n",
    "__如果从集合X到集合Yd映射f，既是单射又是满射，则称f为从X到Y的一一映射__"
   ]
  },
  {
   "cell_type": "markdown",
   "metadata": {},
   "source": [
    "## 函数的概念\n",
    "###  隐函数\n",
    "\n",
    "凡是能由 $$F(x,y) =0 $$\n",
    "确定的函数，称为`隐函数`"
   ]
  },
  {
   "cell_type": "markdown",
   "metadata": {},
   "source": [
    "## 函数运算 反函数\n",
    "\n",
    "+ $(f \\pm g)(x) = f(x) \\pm g(x), \\quad x\\in D_f \\cap D_g$,\n",
    "+ $(f \\cdot g)(x) = f(x)g(x), \\quad x \\in D_f \\cap D_g$,\n",
    "+ $\\left(\\cfrac fg \\right) (x) = \\cfrac{f(x)}{g(x)},\\quad  x \\in D_f \\cap D_g \\quad and \\quad g(x) \\neq 0$\n",
    "\n",
    "特殊情况 $\\lambda \\ in R$ 与函数f的乘法 称为 `数乘` 定义为： $$(\\lambda f)(x) = \\lambda f(x), \\quad x \\in D_f$$\n",
    "\n",
    "### 复合函数\n",
    "\n",
    "$$f \\circ \\varphi: {\\bf X} \\rightarrow {\\bf Y} \\\\ f \\circ \\varphi : x \\mapsto y = f[\\varphi(x)], x \\in {\\bf X}$$\n",
    "\n",
    "为f 与 φ 的复合函数\n",
    "\n",
    "### 反函数\n",
    "\n",
    "如果确定函数$y = f(x)$ 的映射 $f: X \\rightarrow Y $ 是一一映射，那么这个映射到逆映射 $f^{-1}: Y \\rightarrow X$ 所确定的函数$x = f^{-1}(y)$ 称为 $y = f(x)$ 的反函数"
   ]
  },
  {
   "cell_type": "markdown",
   "metadata": {},
   "source": []
  },
  {
   "cell_type": "markdown",
   "metadata": {},
   "source": [
    "## 函数特性\n",
    "\n",
    "### 1. 奇偶性\n",
    "\n",
    "设函数f 定义域$D_f$ 关于原点对称($\\forall x \\in D_f, 有 -x \\in D_f$), 若$\\forall x \\in D_f$, 有 f(-x)=f(x), 则称f为`偶函数`， 若 $\\forall x \\in D_f $, 有 f(-x) = -f(x) , 则称f 为`奇函数`。\n",
    "\n",
    "### 2. 单调性\n",
    "\n",
    "$y =f(x), \\forall x_1, x_2 \\in (a,b) \\subset D_f, x_1 < x_2$, \n",
    "\n",
    "1. 若$f(x_1) < f(x_2) 或 f(x_1) > f(x_2)$, 则称 f(x) 在 (a, b) 内单调增加 或单调减少\n",
    "2. 若$f(x_1) \\leq f(x_2) 或 f(x_1) \\geq f(x_2)$, 则称 f(x) 在 (a, b) 内单调不减 或单调不增\n",
    "\n",
    "单调增加或单调减少的函数 统称 为`单调函数`\n",
    "\n",
    "### 3. 周期性\n",
    "\n",
    "$y = f(x)$, 若存在常数 $T \\neq 0$, 使得 $\\forall x \\in D_f (x + T \\in D_f)$, 都有 $f(x+T) = f(x)$ 成立，则称 f(x) 为周期函数， T为 f(x) 的周期\n",
    "\n",
    "并非所有周期函数一定存在最小周期\n",
    "\n",
    "Dirichlet 函数\n",
    "\n",
    "$$ y = f(x) = \\begin{cases} 1, \\text{当x为有理数} \\\\ 0, \\text{当x为无理数} \\end{cases}$$\n",
    "\n",
    "### 4. 有界性\n",
    "\n",
    "既有上界又有下界"
   ]
  },
  {
   "cell_type": "markdown",
   "metadata": {},
   "source": [
    "## 初等函数\n",
    "\n",
    "+ 常量函数\n",
    "+ 幂函数\n",
    "+ 指数函数\n",
    "+ 对数函数\n",
    "+ 三角函数\n",
    "+ 反三角函数\n",
    "\n",
    "有基本初等函数通过有限次四则运算和有限次复合运算得到的，且能用一个解析式表示的函数， 为 初等函数\n",
    "\n",
    "三角函数： y = sinx, y = cosx 又称 圆函数\n",
    "\n",
    "基本双曲函数  y = shx, y = chx, y = thx 反函数依次\n",
    "\n",
    "\n",
    "+ 双曲正弦函数 $y =shx = \\cfrac{e^x - e^{-x}}{2}, D_f = (-\\infty, \\infty)$, 单调递增 奇函数\n",
    "+ 双曲余弦函数 $y =chx = \\cfrac{e^x + e^{-x}}{2}, D_f = (-\\infty, \\infty)$， 偶函数\n",
    "+ 双曲正切函数 $y =thx = \\cfrac{e^x - e^{-x}}{e^x + e^{-x}}, D_f = (-\\infty, \\infty)$， 单调递增，奇函数\n",
    "\n",
    "+ 反双曲正弦函数 y = arshx,\n",
    "+ 反双曲余弦函数 y = archx,\n",
    "+ 反双曲正切函数 y = arthx\n",
    "\n",
    "+ $ch^2x - sh^2x =1, 1- th^2x = {1 \\over ch^2x}$\n",
    "+ $sh(x\\pm y ) = shxchy \\pm chxshy$\n",
    "    - $ch(x \\pm y) = chxchy \\pm shxshy$\n",
    "+ $sh2x = 2shxchx, ch2x = ch^2x + sh^2x$\n",
    "    - $sh^2x = {1 \\over 2}(ch2x -1), ch^2x = {1 \\over 2}(ch2x +1)$"
   ]
  },
  {
   "cell_type": "code",
   "execution_count": 8,
   "metadata": {},
   "outputs": [],
   "source": [
    "import numpy as np\n",
    "import matplotlib.pyplot as plt\n",
    "%matplotlib inline"
   ]
  },
  {
   "cell_type": "code",
   "execution_count": 10,
   "metadata": {},
   "outputs": [
    {
     "data": {
      "text/plain": [
       "[<matplotlib.lines.Line2D at 0x7f306d6926a0>]"
      ]
     },
     "execution_count": 10,
     "metadata": {},
     "output_type": "execute_result"
    },
    {
     "data": {
      "image/png": "[encoded data removed]",
      "text/plain": [
       "<matplotlib.figure.Figure at 0x7f306d692748>"
      ]
     },
     "metadata": {},
     "output_type": "display_data"
    }
   ],
   "source": [
    "x=np.linspace(-5,5,1000)\n",
    "y=[i ** 3 for i in x]\n",
    "\n",
    "plt.title('y = x^3')\n",
    "plt.plot(x,y)"
   ]
  },
  {
   "cell_type": "markdown",
   "metadata": {},
   "source": [
    "# 极限概念\n",
    "\n",
    "1. 唯一性\n",
    "    - 若函数 f(x) 当 $ x \\rightarrow x_0(或 x \\rightarrow \\infty)$ 时极限存在，则其极限唯一\n",
    "2. 有界性\n",
    "    - 若 $\\lim_{x\\rightarrow x_0}f(x)=A$，则$\\exists M>0, \\exists \\delta >0$，使得对$\\forall x \\in U(\\hat{x_0}, \\delta)$,  都有$|f(x)|\\leq M$\n",
    "3. 局部保号性 \n",
    "    - 若 $\\lim_{x\\rightarrow x_0}f(x)=A >0 或(<0)$, 则$\\exists \\delta >0$, 使得对$\\forall x \\in U(\\hat{x_0}, \\delta)$, 有 $|f(x) - A| < \\sigma = {A \\over 2}$, 即 $A - {A \\over 2} < f(x) < A + {A \\over 2}$\n",
    "    - 故 $f(x) > {A \\over 2} >0, A >0$"
   ]
  },
  {
   "cell_type": "markdown",
   "metadata": {},
   "source": [
    "## 无穷小比较 \n",
    "\n",
    "设$\\lim_{x\\rightarrow x_0}\\alpha (x) =0, \\lim_{x \\ rightarrow x_0} \\beta(x) =0(\\beta(x)\\neq 0)$,\n",
    "\n",
    "1. 如果 $\\lim_{x \\rightarrow x_0}\\cfrac{\\alpha(x)}{\\beta(x)}=0$, 则称当$x  \\rightarrow x_0$ 时， $\\alpha(x)$ 是$\\beta(x)$的高阶无穷小($\\beta(x)$是$\\alpha(x)$的低阶无穷小)， 记做 $\\alpha(x)= o(\\beta(x))(x \\rightarrow x_0)$\n",
    "2. 如果 $\\lim_{x \\rightarrow x_0}\\cfrac{\\alpha(x)}{\\beta(x)} = C \\neq 0$, 则称当$x \\rightarrow x_0$ 时， $\\alpha(x)$ 与$\\beta(x)$是同阶无穷小\n",
    "    -  如果 $\\lim_{x \\rightarrow x_0}\\cfrac{\\alpha(x)}{\\beta(x)} = 1$,  则称当$x \\rightarrow x_0$ 时， $\\alpha(x)$ 与$\\beta(x)$是等价无穷小， 记做 $\\alpha(x) ~ \\beta(x)(x \\rightarrow x_0)$\n",
    "1. 如果 $\\lim_{x \\rightarrow x_0}\\cfrac{\\alpha(x)}{\\beta(x)}=0$, 则称当$x  \\rightarrow x_0$ 时， $\\alpha(x)$ 是$\\beta(x)$的高阶无穷小($\\beta(x)$是$\\alpha(x)$的低阶无穷小)， 记做 $\\alpha(x)= o(\\beta(x))(x \\rightarrow x_0)$"
   ]
  },
  {
   "cell_type": "markdown",
   "metadata": {},
   "source": [
    "# 导数定义\n",
    "\n",
    "设函数 y=f(x) 在点$x_0$的某邻域 $U(x_0)$ 内有定义，当自变量x在点$x_0$取得增量 $\\Delta x(x_0 + \\Delta x \\in U(x_0))$ 时， 相应的因变量y取得增量 $\\Delta y =f(x_0 + \\Delta x) - f(x_0)$，若 ${\\Delta y \\over \\Delta x}$ 当 $\\Delta x \\rightarrow 0$时代极限存在，则称函数 $y=f(x)$ 在 $x_0$ 处可导，并称此极限值为函数 $y=f(x)$ 在$x_0$ 处的导数，记为 $f'(x_0)$, 即 $$f'(x_0)=\\lim_{\\Delta x \\rightarrow 0} \\cfrac{f(x_0 + \\Delta x) - f(x_0)}{\\Delta x}$$ 或 \n",
    "$$ y' \\mid _{x=x_0},\\quad {\\cfrac{{\\rm d}y}{{\\rm d}x}}\\mid _{x \\rightarrow x_0},\\quad \\cfrac{df(x)}{dx} \\mid _{x \\rightarrow x_0}$$"
   ]
  },
  {
   "cell_type": "markdown",
   "metadata": {},
   "source": [
    "## 导数运算\n",
    "\n",
    "1. 设函数$\\mu(x),\\upsilon(x)$ 都在点x处可导， 则他们的和、差、积、商（假设分母不为0）也在x处可导,有\n",
    "    - $(\\mu \\pm \\upsilon)'(x) = \\mu '(x) \\pm \\upsilon '(x)$\n",
    "    - $(\\mu \\upsilon)'(x) = \\mu '(x)\\upsilon (x) \\pm \\mu(x)\\upsilon '(x)$\n",
    "        + $(k\\upsilon)'(x) = \\upsilon '(x)$ k为常数\n",
    "    - $(\\cfrac{\\mu}{\\upsilon})'(x) = \\cfrac{\\mu '(x)\\upsilon (x) - \\mu(x)\\upsilon '(x)}{\\upsilon ^2(x)}$\n",
    "        + $(\\cfrac{1}{\\upsilon})'(x) = -\\cfrac{\\upsilon '(x)}{\\upsilon ^2(x)}$\n",
    "2. 反函数求导,设函数x=f(y)在某区间$I_y$ 内单调、可导，且$f'(y)\\neq 0$， 则他的反函数 $y = f^{-1}(x)$ 在对应的区间$I_x = \\{x | x=f(y), y \\in I_y\\}$ 内也可导，且有 $$(f^{-1})'(x) = \\cfrac{1}{f'(y)}$$\n",
    "3. 复合函数求导链式法则， 设函数$\\mu = \\varphi(x)$ 在点x处可导，函数$y = f(\\mu)$在对应点 μ处可导，则复合函数 $y=f[\\varphi(x)]$在x处也可导，且有 $$\\cfrac{{\\rm d}y}{{\\rm d}x} = \\cfrac{{\\rm d}y}{{\\rm d}\\mu} \\cdot \\cfrac {{\\rm d}u}{{\\rm d}x}$$\n",
    " 或 $$[f \\circ \\varphi]'(x) = \\{f[\\varphi(x)]\\}' = f'(\\mu)\\varphi '(x) = f'[\\varphi(x)]\\varphi '(x)$$\n",
    "4. 隐函数的导数\n",
    "5. 高阶导数,若函数 y = f(x)在点x的某邻域 U(x)内可导，且极限 $$\\lim_{\\Delta x \\rightarrow 0}\\cfrac{f'(x+\\Delta x) - f'(x)}{\\Delta x}$$ 存在，则称该极限值为函数f(x)在点x处的二阶导数，记做 $$ y'', f''(x) 或\\cfrac{{\\rm d}^2y}{{\\rm d}^2x}$$\n",
    "    - 二阶以上的导数为高阶导数 $f^{(0)}(x_0) = f(x)$\n",
    "    - n阶导数 $$ f^{(n)}(x_0) = \\lim_{\\Delta x \\rightarrow 0} \\cfrac{f^{(n-1)}(x_0 + \\Delta x) - f^{(n-1)}(x_0)}{\\Delta x}$$"
   ]
  },
  {
   "cell_type": "markdown",
   "metadata": {},
   "source": [
    "+ $$[\\ln (1+x)]^{(n)} = (-1)^{n-1} \\cdot \\cfrac{(n-1)!}{(1+x)^n} $$\n",
    "+ $$[\\alpha\\mu(x) + \\beta \\upsilon(x)]^{(n)} = \\alpha \\mu^{(n)}(x) + \\beta \\upsilon^{(n)}(x) \\quad (\\alpha \\beta为常数)$$\n",
    "+ $$(\\mu\\upsilon)^{(n)} = \\sum_{k=0}^n C_n^k\\mu^{(n-k)}\\upsilon ^{(k)}$$"
   ]
  },
  {
   "cell_type": "markdown",
   "metadata": {},
   "source": [
    "## 微分\n",
    "\n",
    "设函数y = f(x)在点x的某邻域内有定义，若函数在点$x_0$的改变量$\\Delta y = f(x_0 + \\Delta x) - f(x_0)$ 与自变量的改变量$\\Delta x$，满足以下关系$\\Delta y = A \\Delta x + o(\\Delta x)$,其中 A是与$\\Delta x$无关的常数，$o(\\Delta x) 当\\Delta x \\rightarrow 0$时时$\\Delta x$的高阶无穷小，则称函数 y = f(x) 在点$x_0$可微， $A \\Delta x$称为函数y=f(x)在点$x_0$的微分，记为$${\\rm d}y = A \\Delta x$$, $A \\Delta x(A \\neq 0) 称为 \\Delta y$的线性部分\n",
    "\n",
    "+ 函数 y = f(x) 在点$x_0$可微的充分必要条件是 y = f(x)在点$x_0$可导， 且 $A = f'(x_0)$,即$${\\rm d}y = f'(x_0)\\Delta x$$\n",
    "\n",
    "### 微分运算\n",
    "\n",
    "+ ${\\rm d}(\\mu \\pm \\upsilon) = {\\rm d}\\mu \\pm {\\rm d}\\upsilon$\n",
    "+ ${\\rm d}(C\\mu) = C {\\rm d} \\mu$ , C为常数\n",
    "+ ${\\rm d}(\\mu\\upsilon) = \\upsilon {\\rm d}\\mu + \\mu{\\rm d}\\upsilon$\n",
    "+ ${\\rm d} \\left(\\cfrac{\\mu}{\\upsilon} \\right )= \\cfrac{\\upsilon{\\rm d}\\mu - \\mu {\\rm d}\\upsilon}{\\upsilon ^2} \\quad (\\upsilon \\neq 0)$"
   ]
  },
  {
   "cell_type": "code",
   "execution_count": null,
   "metadata": {},
   "outputs": [],
   "source": []
  },
  {
   "cell_type": "code",
   "execution_count": null,
   "metadata": {},
   "outputs": [],
   "source": []
  },
  {
   "cell_type": "code",
   "execution_count": null,
   "metadata": {},
   "outputs": [],
   "source": []
  },
  {
   "cell_type": "code",
   "execution_count": null,
   "metadata": {},
   "outputs": [],
   "source": []
  },
  {
   "cell_type": "code",
   "execution_count": 14,
   "metadata": {},
   "outputs": [
    {
     "data": {
      "application/javascript": [
       "$.getScript('https://kmahelona.github.io/ipython_notebook_goodies/ipython_notebook_toc.js')"
      ],
      "text/plain": [
       "<IPython.core.display.Javascript object>"
      ]
     },
     "metadata": {},
     "output_type": "display_data"
    }
   ],
   "source": [
    "%%javascript\n",
    "$.getScript('https://kmahelona.github.io/ipython_notebook_goodies/ipython_notebook_toc.js')"
   ]
  },
  {
   "cell_type": "code",
   "execution_count": null,
   "metadata": {},
   "outputs": [],
   "source": []
  }
 ],
 "metadata": {
  "kernelspec": {
   "display_name": "Python 3",
   "language": "python",
   "name": "python3"
  },
  "language_info": {
   "codemirror_mode": {
    "name": "ipython",
    "version": 3
   },
   "file_extension": ".py",
   "mimetype": "text/x-python",
   "name": "python",
   "nbconvert_exporter": "python",
   "pygments_lexer": "ipython3",
   "version": "3.6.4"
  }
 },
 "nbformat": 4,
 "nbformat_minor": 2
}
