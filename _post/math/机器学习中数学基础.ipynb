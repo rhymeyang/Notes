{
 "cells": [
  {
   "cell_type": "markdown",
   "metadata": {},
   "source": [
    "+ [机器学习中数学基础](https://www.youtube.com/watch?v=T0WrSQixuxU)"
   ]
  },
  {
   "cell_type": "markdown",
   "metadata": {},
   "source": [
    "## 1. 导数(标量)\n",
    "\n",
    "+ 导数定义\n",
    "    - $$f'(a) = \\lim_{h \\to 0} \\cfrac{f(a+h)-f(a)}{h}$$\n",
    "+ 常见函数的导数\n",
    "    - $(x^a)' = ax^{a-1}$\n",
    "    - $(e^x)' = e^x$\n",
    "    - $(a^x)' = \\ln(a)a^x$\n",
    "    - $(\\ln(x))' = \\cfrac{1}{x}$\n",
    "    - $\\cfrac{d}{dx}sin(x) = cos(x)$\n",
    "    - $\\cfrac{d}{dx}cos(x) = -sin(x)$"
   ]
  },
  {
   "cell_type": "markdown",
   "metadata": {},
   "source": [
    "### 1.1导数法则\n",
    "\n",
    "+ $(\\alpha f + \\beta g)' = \\alpha f' + \\beta g'$\n",
    "+ $(fg)' = f'g + fg'$\n",
    "+ $(\\cfrac{f}{g})' = \\cfrac{f'g - fg'}{g^2}$\n",
    "+ 如果$f(x) = h(g(x))$, 则 $f'(x) = h'(g(x)) \\cdot g'(x)$"
   ]
  },
  {
   "cell_type": "markdown",
   "metadata": {},
   "source": [
    "计算 $f(x) = x^4 + sin(x^2) - ln(x)e^x +7$的导数"
   ]
  },
  {
   "cell_type": "markdown",
   "metadata": {},
   "source": [
    "$f'(x) = 4 \\cdot x^{4-1} + \\cfrac{d(x^2)}{dx}cos(x^2) -\\cfrac{1}{x} \\cdot e^x - ln(x) \\cdot e^x + 0$\n",
    " = $4x^3 + 2xcos(x^2) -\\cfrac{1}{x} \\cdot e^x - ln(x) \\cdot e^x $"
   ]
  },
  {
   "cell_type": "markdown",
   "metadata": {},
   "source": [
    "## 2. 梯度和Hessian矩阵\n",
    "\n",
    "梯度和Hessian矩阵(以下均假设连续可导)\n",
    "\n",
    "+ 一阶导数和梯度(gradient vector)\n",
    "    - $$ f'(x): \\nabla f(\\overrightarrow{X}) = \\cfrac{\\delta f(\\overrightarrow{X})}{\\delta \\overrightarrow{X}} = \n",
    "    \\begin{bmatrix}  \\cfrac{\\delta f(\\overrightarrow{X})}{\\delta x_{1}} \\\\ \n",
    "    \\vdots  \\\\\n",
    "     \\cfrac{\\delta f(\\overrightarrow{X})}{\\delta x_{n}} \\end{bmatrix} $$\n",
    "+ 二阶导数和Hessian矩阵\n",
    "    - $$ f''(x): H(\\overrightarrow{X}) = \\nabla^2f(x)\n",
    "     = \\begin{bmatrix} \\cfrac{\\delta^2 f(\\overrightarrow{X})}{\\delta x_{1}^2} & \\cfrac{\\delta^2 f(\\overrightarrow{X})}{\\delta x_1 \\delta x_2} & \\cdots & \\cfrac{\\delta^2 f(\\overrightarrow{X})}{\\delta x_1 \\delta x_n}  \\\\\n",
    "     \\cfrac{\\delta^2 f(\\overrightarrow{X})}{\\delta x_2 \\delta x_1} & \\cfrac{\\delta^2 f(\\overrightarrow{X})}{\\delta x_2^2} & \\ddots \\\\\n",
    "      \\cfrac{\\delta^2 f(\\overrightarrow{X})}{\\delta x_n \\delta x_1} & \\cfrac{\\delta^2 f(\\overrightarrow{X})}{\\delta x_n \\delta x_2} &  & \\cfrac{\\delta^2 f(\\overrightarrow{X})}{\\delta x_n^2} \\end{bmatrix}$$"
   ]
  },
  {
   "cell_type": "markdown",
   "metadata": {},
   "source": [
    "二次型的梯度（张矩阵）\n",
    "\n",
    "若$f(x) = [x_1, x_2, \\dots, x_n]$，则$\\cfrac{\\theta x^t}{\\theta x} = I$\n",
    "\n",
    "其中I为单位矩阵\n",
    "\n",
    "$\\cfrac{\\alpha X^T AX}{\\alpha X} = 2AX$"
   ]
  },
  {
   "cell_type": "markdown",
   "metadata": {},
   "source": [
    "## 泰勒级数与极值\n",
    "\n",
    "泰勒级数展开(标量)\n",
    "\n",
    "+ 输入为标量的泰勒级数展开\n",
    "    - $f(x_k + \\delta) \\approx f(x_k) + f'(x_k)\\delta + \\cfrac{1}{2}f''(x_k)\\delta^2$, 后面省略 $\\cfrac{1}{n!}f^{nd}(x_k)\\delta^n$\n",
    "+ 称满足$f'(x_k) =0$的点为平稳点（候选点），此时如果还有：\n",
    "    - $f''(x_k)>0, x_k$为一严格局部极小点（反之，严格局部最大点）（充分条件）\n",
    "    - 如果 $f''(x_k)=0$， 有可能是一个鞍点(saddle point)\n",
    "        + 如 $x^3$ 原点为鞍点， 一阶导数，二阶导数均为零"
   ]
  },
  {
   "cell_type": "markdown",
   "metadata": {},
   "source": [
    "泰勒级数展开(矢量)(和标量对比)\n",
    "\n",
    "+ 输入为矢量的泰勒级数展开\n",
    "    - $f({\\bf x}_k + {\\bf \\delta}) \\approx f({\\bf x}_k) + \\nabla ^Tf({\\bf x}_k){\\bf \\delta}  + \\cfrac{1}{2}{\\bf \\delta}^T \\nabla^2 f({\\bf x}_k){\\bf \\delta}$\n",
    "+ 称满足$\\nabla^Tf({\\bf x}_k) =0$的点为平稳点（候选点），此时如果还有：\n",
    "    - $\\nabla^2f({\\bf x}_k)>=0, x_k$为一严格局部极小点（反之，严格局部最大点）\n",
    "    - 如果$\\nabla^2f({\\bf x}_k)$不定矩阵，是一个鞍点，思考 $\\nabla^2f({\\bf x}_k) >=0$\n",
    "+ 梯度方向？梯度下降法从哪儿来？\n",
    "\n",
    "函数取梯度方向，最快上升，负梯度，最快下降"
   ]
  },
  {
   "cell_type": "markdown",
   "metadata": {},
   "source": [
    "微积分总结"
   ]
  },
  {
   "cell_type": "markdown",
   "metadata": {},
   "source": [
    "## 概率论"
   ]
  },
  {
   "cell_type": "markdown",
   "metadata": {},
   "source": [
    "随机变量-随机事件的数量表现\n",
    "\n",
    "+ 分布函数，离散情况， X取值 1、2、3\n",
    "+ 累积分布函数（连续情况），方便查看任意区间概率\n",
    "    - $F_X(x) = P(X<=x)$\n",
    "    - $P(a<X<b)=F_X(b)- F_X(a)$"
   ]
  },
  {
   "cell_type": "markdown",
   "metadata": {},
   "source": [
    "+ 概率密度函数\n",
    "    - $f_X(x)=\\cfrac{d}{dx}F_X(x)$\n",
    "    - $P[a\\leq X\\leq b]=\\int_a^bf_X(x)dx$\n",
    "    - $F_X(x)= \\int_{-\\infty}^xf_X(u)du$\n",
    "    - $P(t<X<t+dt)=f(t)dt$"
   ]
  },
  {
   "cell_type": "markdown",
   "metadata": {},
   "source": [
    "### 高斯分布（最美的分布）\n",
    "\n",
    "+ 一元概率密度: $f(x|\\mu, \\sigma^2)= \\cfrac{1}{\\sigma \\sqrt{2\\pi}}e^{-\\cfrac{(x-\\mu)^2}{2\\sigma^2}}$\n",
    "+ 多元概率密度：$f_{\\bf x}(x_1, \\dots, x_k)=\\cfrac{1}{\\sqrt{(2\\pi)^k|\\sum|}}exp(-\\cfrac{1}{2}({\\bf x} - {\\bf \\mu})^T{\\bf \\sum}^{-1}({\\bf x}-{\\bf \\mu})$\n",
    "+ 中心极限定理\n",
    "+ 思考独立高斯变量相加？思考高斯变量任意一个随机变量？\n",
    "\n",
    "|∑| 矩阵行列式"
   ]
  },
  {
   "cell_type": "markdown",
   "metadata": {},
   "source": [
    "1. 凹函数，不严格的说，$3\\sigma$之内，任意两点连接，中间部分在连线之上\n",
    "2. 凸函数，函数在连接两点的弦之下"
   ]
  },
  {
   "cell_type": "markdown",
   "metadata": {},
   "source": [
    "贝叶斯公式\n",
    "\n",
    "+ 通常 $P(A|B)\\neq P(B|A)$,但是如何确定两者的关系\n",
    "    - $P(A|B) = \\cfrac{P(A\\bigcap B)}{P(B)}$ , 同样 $P(B|A) = \\cfrac{P(A\\bigcap B)}{P(A)}$\n",
    "    - $P(A|B)P(B) = P(A\\bigcap B) = P(B|A)P(A)$\n",
    "    - 得$P(B|A) = \\cfrac{P(A|B)P(B)}{P(A)}$ 和  $P(B|A) = \\cfrac{P(A|B)P(B)}{P(A)}$\n",
    "+ $P(B)=P(A,B) + P(A^C, B) = P(B|A)P(A) + P(B|A^C)P(A^C)$ 故\n",
    "    - $P(A|B)=\\cfrac{P(B|A)P(A)}{P(B|A)P(A) + P(B|A^C)P(A^C)}$\n",
    "+ 概率密度形式\n",
    "    - $f(x|y)= \\cfrac{f(x,y)}{f(y)}= \\cfrac{f(y|x)f(x)}{f(y)}=\\cfrac{f(y|x)f(x)}{\\int_{-\\infty}^{\\infty}f(y|x)f(x)dx}$\n",
    "    \n",
    "$P(A,B)即P(A\\bigcap B)$"
   ]
  },
  {
   "cell_type": "markdown",
   "metadata": {},
   "source": [
    "### 概率论总结\n",
    "\n",
    "+ 非连续\n",
    "+ 连续- 概率密度\n",
    "\n",
    "\n",
    "贝叶斯"
   ]
  },
  {
   "cell_type": "markdown",
   "metadata": {},
   "source": [
    "## 方阵地特征值Eigenvalues 特征向量 Eigenvectors\n",
    "\n",
    "${\\bf Ax}=\\lambda{\\bf x}$几何意义，思考如何计算${\\bf A}^T$\n",
    "\n",
    "+ 给定一个矩阵$ A=\\begin{bmatrix} 4 & 1 \\\\\n",
    "1 & 4 \\end{bmatrix}$, 对于${\\bf x}_1= \\begin{bmatrix} 1\\\\\n",
    "0 \\end{bmatrix}$, 则有 $ {\\bf Ax}_1 = \\begin{bmatrix} 4 \\\\\n",
    "1 \\end{bmatrix}$, 对于 $ {\\bf x}_3 = \\begin{bmatrix} 1 \\\\\n",
    "1 \\end{bmatrix}$, 则有${\\bf Ax}_3 = 5 \\begin{bmatrix}1\\\\\n",
    "1 \\end{bmatrix} $\n",
    "+ λ为特征值，A特征向量"
   ]
  },
  {
   "cell_type": "markdown",
   "metadata": {},
   "source": [
    "### 特征分解的性质\n",
    "\n",
    "特征分解的一般性质\n",
    "\n",
    "+ 对于${\\bf Ax}_i=\\lambda{\\bf x}_i$, 如果所有的特征值都不相同，则相应的所有的特征向量线性无关。此时，${\\bf A}$可以被对角化为 $$ {\\bf A} = V \\Lambda V ^{-1}$$ - 相似对角化\n",
    "    - 其中 $V=[x_1, \\dots, x_n], \\Lambda=Diag(\\lambda _1, \\dots, \\lambda _n)$\n",
    "    - 所有方阵都可以对角化么？"
   ]
  },
  {
   "cell_type": "markdown",
   "metadata": {},
   "source": [
    "### 对称矩阵的特征分解 -1\n",
    "\n",
    "+ 如果一个对称矩阵的特征值不同，则其相应的所有的特征向量正交(${\\bf UU}^T = {\\bf U}^T{\\bf U}=I$), $${\\bf A}= {\\bf U}\\Lambda {\\bf U}^T $$  $$= [u1, \\dots, u_n] \\begin{bmatrix} \\lambda _1 & & \\\\\n",
    " & \\ddots & \\\\\n",
    " & & \\lambda _n \\end{bmatrix} \\begin{bmatrix} \\mu _1^T \\\\\n",
    " \\vdots \\\\\n",
    " \\mu _n^T \\end{bmatrix}$$ $$ = \\sum_{i=1}^{n}\\lambda _i \\mu _i \\mu _i^T$$\n",
    " + 思考以上公式\n",
    " + 如果一个对称矩阵的特征值相同，是否也可以找到相互正交的特征向量\n",
    " + 实际工程中对称矩阵多么？"
   ]
  },
  {
   "cell_type": "code",
   "execution_count": null,
   "metadata": {},
   "outputs": [],
   "source": []
  }
 ],
 "metadata": {
  "kernelspec": {
   "display_name": "Python 3",
   "language": "python",
   "name": "python3"
  },
  "language_info": {
   "codemirror_mode": {
    "name": "ipython",
    "version": 3
   },
   "file_extension": ".py",
   "mimetype": "text/x-python",
   "name": "python",
   "nbconvert_exporter": "python",
   "pygments_lexer": "ipython3",
   "version": "3.6.4"
  }
 },
 "nbformat": 4,
 "nbformat_minor": 2
}
